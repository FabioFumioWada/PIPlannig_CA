{
 "cells": [
  {
   "cell_type": "code",
   "execution_count": 109,
   "metadata": {},
   "outputs": [
    {
     "output_type": "display_data",
     "data": {
      "text/html": "        <script type=\"text/javascript\">\n        window.PlotlyConfig = {MathJaxConfig: 'local'};\n        if (window.MathJax) {MathJax.Hub.Config({SVG: {font: \"STIX-Web\"}});}\n        if (typeof require !== 'undefined') {\n        require.undef(\"plotly\");\n        requirejs.config({\n            paths: {\n                'plotly': ['https://cdn.plot.ly/plotly-latest.min']\n            }\n        });\n        require(['plotly'], function(Plotly) {\n            window._Plotly = Plotly;\n        });\n        }\n        </script>\n        "
     },
     "metadata": {}
    }
   ],
   "source": [
    "# To add a new cell, type '# %%'\n",
    "# To add a new markdown cell, type '# %% [markdown]'\n",
    "# %%\n",
    "#######################################################################################\n",
    "#######################################################################################\n",
    "##                 Cria/Importa objetos da PI Planning - PI/CA                       ##\n",
    "##                                                                                   ##\n",
    "## Desenvolvido por: Fábio Fumio Wada                                                ##\n",
    "#######################################################################################\n",
    "#######################################################################################\n",
    "\n",
    "#######################################################################################\n",
    "# Copie todo este texto e cole em um novo arquivo do Jupyter                          #\n",
    "# Modelo                                                                              #\n",
    "#######################################################################################\n",
    "\n",
    "# Arquivo Oficial\n",
    "\n",
    "# Padronizando para UTF-8\n",
    "# -*- coding: utf-8 -*-\n",
    "\n",
    "### [Importa Bibliotecas] \n",
    "import pandas as pd #Pandas\n",
    "import numpy as np #Numpy\n",
    "import plotly.offline as py\n",
    "import plotly.graph_objs as go\n",
    "import matplotlib.pyplot as plt\n",
    "import re\n",
    "\n",
    "py.init_notebook_mode(connected=True)\n",
    "\n",
    "#######################################################################################\n",
    "##                                 Informar Valores:                                 ##   \n",
    "#######################################################################################\n",
    "\n",
    "### [Define Parâmetros]                                                              ##\n",
    "v_pi = 'PI11' \n",
    "v_cod_obj = 'OP' #Inicial do código do objetivo associado na feature\n",
    "v_cod_obj_s = 'OS' #Inicial do código do objetivo stretch associado na feature\n",
    "\n",
    "### --> [Caminho do Arquivo para utilização de compilações locais]                   ##\n",
    "v_diretorio = 'C:\\\\Users\\\\A98718\\\\OneDrive - Somos Educação SA\\\\PI_Planning - Analise\\\\'+v_pi+'\\\\'\n",
    "\n",
    "### --> [Informar os nomes dos arquivos]  *.csv                                      ##\n",
    "v_nomearquivo_iteracao = 'Iteracao.csv'   #arquivo não extraído do CA\n",
    "v_nomearquivo_objetivos = 'Objetivos.csv'   #arquivo não extraído do CA\n",
    "v_nomearquivo_feature = 'Features.csv'      \n",
    "v_nomearquivo_stories = 'UserStories.csv'\n",
    "v_nomearquivo_tasks = 'Tasks.csv'\n",
    "v_nomearquivo_incidentes = 'Incidentes.csv'\n",
    "v_nomearquivo_sservicos = 'SServicos.csv'\n",
    "\n",
    "#######################################################################################   \n",
    "#######################################################################################\n",
    "\n",
    "\n",
    "#######################################################################################\n",
    "### [ANOTAÇÕES] - INÍCIO                                                            ###\n",
    "#######################################################################################\n",
    "\n",
    "#Site de Cores - https://www.colorhexa.com/\n",
    "#Gráficos - https://paulovasconcellos.com.br/como-criar-gr%C3%A1ficos-interativos-utilizando-plotly-e-python-3eb6eda57a2b\n",
    "\n",
    "#######################################################################################\n",
    "### [ANOTAÇÕES] - FINAL                                                             ###\n",
    "#######################################################################################\n",
    "\n",
    "\n",
    "#######################################################################################\n",
    "### [GLOBAL] - INÍCIO                                                               ###\n",
    "#######################################################################################\n",
    "\n",
    "#Limpa o campo TAGS das Features\n",
    "def fn_limpa_tags(v_tags_origem):\n",
    "    v_tags = v_tags_origem\n",
    "    v_tags = v_tags.replace('Revisado','',regex=True)\n",
    "    v_tags = v_tags.replace('(SM)','',regex=True)\n",
    "    v_tags = v_tags.replace(r\"\\(.*?\\)\",\"\",regex=True)\n",
    "    v_tags = v_tags.replace('Apprendi!','',regex=True)\n",
    "    v_tags = v_tags.replace('Stretch','',regex=True)\n",
    "    v_tags = v_tags.replace(';','',regex=True)\n",
    "    v_tags = v_tags.replace('#EP394','',regex=True)\n",
    "    v_tags = v_tags.replace('#EP395','',regex=True)\n",
    "\n",
    "    #remove espaços em branco - deixar como último comando\n",
    "    v_tags = v_tags.replace(' ','',regex=True) \n",
    "    return (v_tags)\n",
    "\n",
    "#######################################################################################\n",
    "### [GLOBAL] - FIM                                                                  ###\n",
    "#######################################################################################\n",
    "\n",
    "\n",
    "\n",
    "\n",
    "#######################################################################################\n",
    "### [ITERAÇÃO] - INÍCIO                                                            ###\n",
    "#######################################################################################\n",
    "\n",
    "### [Transforma os dados do .csv em um dataframe]\n",
    "df_iteracao = pd.read_csv(v_diretorio+v_nomearquivo_iteracao , sep = \";\") #sempre confirmar o caracter separador no arquivo\n",
    "    #v_historias = pd.read_csv(\"C:\\\\Users\\\\A98718\\\\OneDrive - Somos Educação SA\\\\python\\\\PI09\\\\export.csv\")\n",
    "\n",
    "Lista_Iteracao = pd.DataFrame(df_iteracao)\n",
    "\n",
    "#######################################################################################\n",
    "### [ITERAÇÃO] - FIM                                                                ###\n",
    "#######################################################################################\n",
    "\n",
    "\n",
    "\n",
    "\n",
    "#######################################################################################\n",
    "### [OBJETIVOS] - INÍCIO                                                            ###\n",
    "#######################################################################################\n",
    "\n",
    "## Necessário ter o campo \"Codigo\" na planilha excel\n",
    "\n",
    "### [Define endereço do arquivo]\n",
    "\n",
    "### Desabilitado para usar diretamente pelo Azure\n",
    "\"\"\"\n",
    "v_caminho_objetivos = ( v_diretorio_mae + \n",
    "                        v_subdiretorio+\n",
    "                        v_nomearquivo_objetivos)\n",
    "#v_caminho_objetivos = (v_nomearquivo_objetivos)\n",
    "\"\"\"\n",
    "\n",
    "### [Transforma os dados do .csv em um dataframe]\n",
    "df_objetivos = pd.read_csv(v_diretorio+v_nomearquivo_objetivos , sep = \";\") #sempre confirmar o caracter separador no arquivo\n",
    "    #v_historias = pd.read_csv(\"C:\\\\Users\\\\A98718\\\\OneDrive - Somos Educação SA\\\\python\\\\PI09\\\\export.csv\")\n",
    "    \n",
    "### [Transforma os dados do .xls/xlsx em um dataframe]\n",
    "#df_objetivos = pd.read_excel(v_caminho_objetivos , sheet_name = \"Sheet1\")\n",
    "    #v_historias = pd.read_csv(\"C:\\\\Users\\\\A98718\\\\OneDrive - Somos Educação SA\\\\python\\\\PI09\\\\export.csv\")\n",
    "\n",
    "\n",
    "### [Renomeia colunas]\n",
    "df_objetivos.rename(columns = {'Release' : 'PI'}, inplace = True)\n",
    "df_objetivos.rename(columns = {'Trem' : 'Trem'}, inplace = True)\n",
    "df_objetivos.rename(columns = {'Time' : 'Time'}, inplace = True)\n",
    "df_objetivos.rename(columns = {'Descrição do Objetivo' : 'Nome'}, inplace = True)\n",
    "df_objetivos.rename(columns = {'Tipo do Objetivo' : 'Tipo'}, inplace = True)\n",
    "df_objetivos.rename(columns = {'BV Planejado' : 'BV_Planejado'}, inplace = True)\n",
    "df_objetivos.rename(columns = {'BV Realizado' : 'BV_Realizado'}, inplace = True)\n",
    "df_objetivos.rename(columns = {'ID' : 'ID_PowerBI'}, inplace = True)\n",
    "df_objetivos.rename(columns = {'Identificador' : 'Codigo'}, inplace = True)\n",
    "\n",
    "### [Variáveis Auxiliares]\n",
    "# Quantidade de Objetivos Normais\n",
    "v_Obj = df_objetivos[(df_objetivos['PI'] == v_pi) & (df_objetivos['Tipo'] == 'Objetivo da PI')].Codigo.count()\n",
    "# Quantidade de Objetivos Stretch\n",
    "v_ObjS = df_objetivos[(df_objetivos['PI'] == v_pi) & (df_objetivos['Tipo'] == 'Objetivo Stretch')].Codigo.count()\n",
    "# Quantidade Total de Objetivos (Normais + Stretch)\n",
    "v_ObjT = df_objetivos.loc[df_objetivos['PI'] == v_pi].Codigo.count()\n",
    "\n",
    "# Quantidade de Objetivos com erros\n",
    "        #** Objetivos (com erros cadastrais - \"A\") = \"Código do Objetivo não pertence a PI informada\"\n",
    "        #** Objetivos (com erros cadastrais - \"B\") = \"Código do Objetivo pertence a PI, mas o campo PI não corresponde a PI informada\"\n",
    "v_ObjErroA = df_objetivos[~df_objetivos['Codigo'].str.contains((v_pi),na=False) & (df_objetivos['PI'] == v_pi)].Codigo.count()\n",
    "v_ObjErroB = df_objetivos[df_objetivos['Codigo'].str.contains((v_pi),na=False) & (df_objetivos['PI'] != v_pi)].Codigo.count()\n",
    "\n",
    "# Percentual de Objetivos\n",
    "v_ObjPerc = ((v_Obj*100)/v_ObjT)\n",
    "# Percentual de Objetivos Stretch\n",
    "v_ObjSPerc = ((v_ObjS*100)/v_ObjT)\n",
    "\n",
    "# Quantidade e Percentual (String) - Usado em Gráficos e Relatórios/Resumos\n",
    "v_ObjT_Qtd_Perc = str(v_ObjT)+' - '+str('100')+'%'\n",
    "v_Obj_Qtd_Perc = str(v_Obj)+' - '+str(v_ObjPerc)+'%'\n",
    "v_ObjS_Qtd_Perc = str(v_ObjS)+' - '+str(v_ObjSPerc)+'%'\n",
    "\n",
    "### [Cria um novo dataframe de Objetivos]\n",
    "        #** Objetivos (com erros cadastrais - \"A\") = \"Código do Objetivo não pertence a PI informada\"\n",
    "        #** Objetivos (com erros cadastrais - \"B\") = \"Código do Objetivo pertence a PI, mas o campo PI não corresponde a PI informada\"\n",
    "        #*** Objetivos com erros cadastrais influenciam na quantidade e percentual apresentado\n",
    "        #*** Execute a função \"fn_obj_erros(v_pi) para verificar quais objetivos precisam de correção\"\n",
    "df_obj_qtd = pd.DataFrame({'PI':[v_pi], 'Total_Obj':[v_ObjT], 'Objetivos_PI':[v_Obj], 'Objetivos_Stretch':[v_ObjS], 'Perc_Obj_PI':[v_ObjPerc], 'Perc_Obj_Stretch':[v_ObjSPerc], 'Erro_A':[v_ObjErroA], 'Erro_B':[v_ObjErroB]})\n",
    "\n",
    "\n",
    "Lista_OBJ_Total = pd.DataFrame(df_obj_qtd)\n",
    "\n",
    "\n",
    "\n",
    "### [Cria Funções]\n",
    "\n",
    "### [Objetivos - Listagem] - Lista Objetivos\n",
    "#    Parâmetros:    \"O\" - Somente Objetivos (Sem Objetivos Stretch) \n",
    "#                   \"S\" - Somente Objetivos Stretch\n",
    "#                   \"F\" - Todos os Objetivos\n",
    "def fn_obj_listagem(v_pi,v_opcao):\n",
    "    if v_opcao == \"O\": #Objetivo sem Stretch\n",
    "        return df_objetivos[(df_objetivos['PI'] == v_pi) & (df_objetivos['Tipo'] == 'Objetivo da PI')]\n",
    "    elif v_opcao == \"S\": #Objetivo Stretch\n",
    "        return df_objetivos[(df_objetivos['PI'] == v_pi) & (df_objetivos['Tipo'] == 'Objetivo Stretch')]\n",
    "    elif v_opcao == \"F\": #Todos os Objetivos\n",
    "        return df_objetivos[(df_objetivos['PI'] == v_pi)]\n",
    "    else:\n",
    "        print('Opção Indisponível: '+'\"'+v_opcao+'\"')\n",
    "        \n",
    "### [OBJETIVOS] - Quantidade e Percentuais\n",
    "def fn_obj_quantidade():\n",
    "\n",
    "    #lista valores das variáveis auxliares que são usadas no dataframe \"df_obj_qtd\"\n",
    "    \n",
    "    print('========================================')\n",
    "    print('PI                    : ' + v_pi)\n",
    "    print('Objetivos (Total)     : ' + v_ObjT_Qtd_Perc)\n",
    "    print('Objetivos (PI)        : ' + v_Obj_Qtd_Perc)\n",
    "    print('Objetivos (Stretch)   : ' + v_ObjS_Qtd_Perc)\n",
    "    print('========================================')\n",
    "    print('* Objetivos (Com Erros Cadastrais - \"A\"): ' + v_ObjErroA.astype(str))\n",
    "    print('* Objetivos (Com Erros Cadastrais - \"B\"): ' + v_ObjErroB.astype(str))\n",
    "    print('')\n",
    "    print('')\n",
    "    print('** Objetivos (com erros cadastrais - \"A\") = \"Código do Objetivo não pertence a PI informada\"')\n",
    "    print('** Objetivos (com erros cadastrais - \"B\") = \"Código do Objetivo pertence a PI, mas o campo PI não corresponde a PI informada\"')\n",
    "    print('')\n",
    "    print('*** Objetivos com erros cadastrais influenciam na quantidade e percentual apresentado')\n",
    "    print('*** Execute a função \"fn_obj_erros(v_pi) para verificar quais objetivos precisam de correção\"')\n",
    "    print('')        \n",
    "    \n",
    "    \n",
    "### [Objetivos - Listagem] - Lista Erros Cadastrais\n",
    "# Ex: 1) Código do Objetivo não pertence a PI informada. Ex: PI09 é oficial e possui objetivo da PI08\n",
    "#     2) Código do Objetivo pertence a PI, mas o campo PI não corresponde a PI informada\n",
    "\n",
    "def fn_obj_erros(v_pi):\n",
    "    return df_objetivos[~df_objetivos['Codigo'].str.contains((v_pi),na=False) & (df_objetivos['PI'] == v_pi)]\n",
    "    return df_objetivos[df_objetivos['Codigo'].str.contains((v_pi),na=False) & (df_objetivos['PI'] != v_pi)]\n",
    "\n",
    "   \n",
    "# Lista OBJETIVOS [Comando para apresentação]\n",
    "Lista_OBJ_FULL = pd.DataFrame(df_objetivos) #monta dataframe a partir de um dataframe já existente\n",
    "\n",
    "#somente Iteration - Mínimo [DataFrame Auxiliar]\n",
    "Lista_OBJ = pd.DataFrame(df_objetivos[['ID_PowerBI','Nome','ESPECÍFICO','Tipo','Codigo', 'BV_Planejado',\n",
    "                                                 'Entrega_PPT', 'Previsao_Ferrari']])\n",
    "\n",
    "\n",
    "#######################################################################################\n",
    "### [OBJETIVOS] - FIM                                                               ###\n",
    "#######################################################################################\n",
    "\n",
    "\n",
    "\n",
    "\n",
    "#######################################################################################\n",
    "### [FEATURE] - INÍCIO                                                              ###\n",
    "#######################################################################################\n",
    "\n",
    "### [Define endereço do arquivo]\n",
    "### Desabilitado para usar diretamente pelo Azure\n",
    "\"\"\"\n",
    "v_caminho_feature = (   v_diretorio_mae + \n",
    "                        v_subdiretorio+\n",
    "                        v_nomearquivo_feature)\n",
    "#v_caminho_feature = (v_nomearquivo_feature)\n",
    "\"\"\"\n",
    "\n",
    "### [Transforma os dados do .csv em um dataframe]\n",
    "df_feature = pd.read_csv(v_diretorio+v_nomearquivo_feature , sep = \",\") #Conferir sempre o separador no arquivo\n",
    "    # v_historias = pd.read_csv(\"C:\\\\Users\\\\A98718\\\\OneDrive - Somos Educação SA\\\\python\\\\PI09\\\\export.csv\")\n",
    "    # pd.read_csv('nome_do_arquivo.csv', encoding='ISO-8859-1')\n",
    "\n",
    "### [Renomeia colunas]\n",
    "df_feature.rename(columns = {'Formatted ID' : 'Codigo'}, inplace = True)\n",
    "df_feature.rename(columns = {'Name' : 'Nome'}, inplace = True)\n",
    "df_feature.rename(columns = {'Release' : 'PI'}, inplace = True)\n",
    "df_feature.rename(columns = {'State' : 'Status'}, inplace = True)\n",
    "df_feature.rename(columns = {'Percent Done By Story Plan Estimate' : 'Percent_por_PlanEstimate'}, inplace = True)\n",
    "df_feature.rename(columns = {'Percent Done By Story Count' : 'Percent_por_QtdHistoria'}, inplace = True)\n",
    "df_feature.rename(columns = {'Project' : 'Time'}, inplace = True)\n",
    "df_feature.rename(columns = {'Owner' : 'Responsavel'}, inplace = True)\n",
    "df_feature.rename(columns = {'Parent' : 'Epico'}, inplace = True)\n",
    "df_feature.rename(columns = {'Tags' : 'Tags'}, inplace = True)\n",
    "\n",
    "\n",
    "### [Cria coluna Codigo_Objetivo]\n",
    "df_feature['Codigo_Objetivo'] = 'NaN'\n",
    "df_feature['Codigo_Objetivo'] = fn_limpa_tags(df_feature['Tags'])\n",
    "\n",
    "### [Variáveis Auxiliares]\n",
    "# Quantidade de Features Normais\n",
    "v_Ftr = df_feature[df_feature['Tags'].str.contains((v_cod_obj+v_pi),na=False) & (df_feature['PI'] == v_pi)].Codigo.count()\n",
    "# Quantidade de Feature Stretch\n",
    "v_FtrS = df_feature[df_feature['Tags'].str.contains((v_cod_obj_s+v_pi),na=False) & (df_feature['PI'] == v_pi)].Codigo.count()\n",
    "# Quantidade Total de Features (Normais + Stretch)\n",
    "v_FtrT = df_feature.loc[df_feature['PI'] == v_pi].Codigo.count()\n",
    "\n",
    "# Quantidade de Features com erros\n",
    "v_FtrErroA = df_feature[~df_feature['Tags'].str.contains((v_pi),na=False) & (df_feature['PI'] == v_pi)].Codigo.count()\n",
    "v_FtrErroB = df_feature[df_feature['Tags'].str.contains((v_pi),na=False) & (df_feature['PI'] != v_pi)].Codigo.count()\n",
    "    \n",
    "# Percentual de Feature\n",
    "v_FtrPerc = ((v_Ftr*100)/v_FtrT)\n",
    "# Percentual de Feature Stretch\n",
    "v_FtrSPerc = ((v_FtrS*100)/v_FtrT)\n",
    "\n",
    "### [Cria um novo dataframe de Features]\n",
    "    #** Features (Com Erros Cadastrais - A) = \"Ausência de Objetivo e/ou Objetivo pertencente a outra PI\"'\n",
    "    #** Features (Com Erros Cadastrais - B) = \"Objetivo da PI atual vinculado a uma Feature de outra PI\"'\n",
    "df_ftr_qtd = pd.DataFrame({'PI':[v_pi], 'Total_Feature':[v_FtrT], 'Features_Obj_PI':[v_Ftr], 'Features_Obj_Stretch':[v_FtrS], 'Perc_Ftr_Objetivos_PI':[v_FtrPerc], 'Perc_Ftr_Objetivos_Stretch':[v_FtrSPerc], 'Erro_A':[v_FtrErroA], 'Erro_B':[v_FtrErroB]})\n",
    "\n",
    "Lista_FTR_Total = pd.DataFrame(df_ftr_qtd)\n",
    "\n",
    "Lista_FTR = df_feature[[\"Codigo\",\"Nome\",\"Tags\",\"Codigo_Objetivo\"]]\n",
    "\n",
    "### [Feature - Listagem] - Lista Features\n",
    "#    Parâmetros:    \"O\" - Somente Objetivos (Sem Objetivos Stretch) \n",
    "#                   \"S\" - Somente Objetivos Stretch\n",
    "#                   \"F\" - Todos os Objetivos\n",
    "def fn_ftr_listagem(v_pi,v_opcao):\n",
    "    if v_opcao == \"O\": #Objetivo sem Stretch\n",
    "        return df_feature[df_feature['Tags'].str.contains((v_cod_obj+v_pi),na=False) & (df_feature['PI'] == v_pi)]\n",
    "    elif v_opcao == \"S\": #Objetivo Stretch\n",
    "        return df_feature[df_feature['Tags'].str.contains((v_cod_obj_s+v_pi),na=False) & (df_feature['PI'] == v_pi)]\n",
    "    elif v_opcao == \"F\": #Todos os Objetivos \n",
    "        return df_feature.loc[df_feature['PI'] == v_pi]\n",
    "    else:\n",
    "        print('Opção Indisponível: '+'\"'+v_opcao+'\"')\n",
    "\n",
    "### [Feature - Listagem] - Quantidade e Percentuais\n",
    "def fn_ftr_quantidade():\n",
    "\n",
    "    #lista valores das variáveis auxliares que são usadas no dataframe \"df_obj_qtd\"\n",
    "    \n",
    "    print('========================================')\n",
    "    print('PI                    : ' + v_pi)\n",
    "    print('Features (Total)      : ' + v_FtrT.astype(str) + ' - (100%)')\n",
    "    print('Features (PI)         : ' + v_Ftr.astype(str)  + ' - (' + v_FtrPerc.astype(str)+'%)')\n",
    "    print('Features (Stretch)    : ' + v_FtrS.astype(str) + ' - (' + v_FtrSPerc.astype(str)+'%)')\n",
    "    print('========================================')\n",
    "    print('* Features (Com Erros Cadastrais - \"A\"): ' + v_FtrErroA.astype(str))\n",
    "    print('* Features (Com Erros Cadastrais - \"B\"): ' + v_FtrErroB.astype(str))\n",
    "    print('')\n",
    "    print('')\n",
    "    print('** Features (Com Erros Cadastrais - A) = \"Ausência de Objetivo e/ou Objetivo pertencente a outra PI\"')\n",
    "    print('** Features (Com Erros Cadastrais - B) = \"Objetivo da PI atual vinculado a uma Feature de outra PI\"')\n",
    "    print('')\n",
    "    print('*** Features com erros cadastrais influenciam na quantidade e percentual apresentado')\n",
    "    print('*** Execute a função \"fn_ftr_erros(v_pi) para verificar quais objetivos precisam de correção\"')\n",
    "    print('')                \n",
    "\n",
    "    \n",
    "### [Feature - Listagem] - Lista Erros Cadastrais\n",
    "# Ex: 1) Feature sem um objetivo da \"PI\" vinculado. Ex: PI09 é oficial e possui objetivo da PI08\n",
    "#     2) Feature sem objetivo\n",
    "\n",
    "def fn_ftr_erros(v_pi):\n",
    "    return df_feature[~df_feature['Tags'].str.contains((v_pi),na=False) & (df_feature['PI'] == v_pi)]\n",
    "    return df_feature[df_feature['Tags'].str.contains((v_pi),na=False) & (df_feature['PI'] != v_pi)]\n",
    "       \n",
    "#######################################################################################\n",
    "### [FEATURE] - FIM                                                                 ###\n",
    "#######################################################################################\n",
    "\n",
    "\n",
    "\n",
    "#######################################################################################\n",
    "### [USER STORY] - INÍCIO                                                           ###\n",
    "#######################################################################################\n",
    "### [Define endereço do arquivo]\n",
    "### Desabilitado para usar diretamente pelo Azure\n",
    "\"\"\"\"\n",
    "v_caminho_stories = (   v_diretorio_mae + \n",
    "                        v_subdiretorio+\n",
    "                        v_nomearquivo_stories)\n",
    "#v_caminho_stories = (v_nomearquivo_stories)\n",
    "\"\"\"\n",
    "### [Transforma os dados do .csv em um dataframe]\n",
    "df_stories_tmp = pd.read_csv(v_diretorio+v_nomearquivo_stories, sep = \",\")\n",
    "    # v_historias = pd.read_csv(\"C:\\\\Users\\\\A98718\\\\OneDrive - Somos Educação SA\\\\python\\\\PI09\\\\export.csv\")\n",
    "    # pd.read_csv('nome_do_arquivo.csv', encoding='ISO-8859-1')\n",
    "    \n",
    "### [Renomeia colunas]\n",
    "df_stories_tmp.rename(columns = {'Formatted ID' : 'Codigo'}, inplace = True)\n",
    "df_stories_tmp.rename(columns = {'Name' : 'Nome'}, inplace = True)\n",
    "df_stories_tmp.rename(columns = {'Blocked' : 'Blocked'}, inplace = True)\n",
    "df_stories_tmp.rename(columns = {'Ready' : 'Ready'}, inplace = True)\n",
    "df_stories_tmp.rename(columns = {'Feature' : 'Feature'}, inplace = True)\n",
    "df_stories_tmp.rename(columns = {'Release' : 'PI'}, inplace = True)\n",
    "df_stories_tmp.rename(columns = {'Iteration' : 'Iteracao'}, inplace = True)\n",
    "df_stories_tmp.rename(columns = {'Schedule State' : 'Status'}, inplace = True)\n",
    "df_stories_tmp.rename(columns = {'Plan Estimate' : 'Plan Estimate'}, inplace = True)\n",
    "df_stories_tmp.rename(columns = {'Task Estimate Total' : 'Task Estimate Total (hs)'}, inplace = True)\n",
    "df_stories_tmp.rename(columns = {'Task Actual Total' : 'Task Actual Total (hs)'}, inplace = True)\n",
    "df_stories_tmp.rename(columns = {'Task Remaining Total' : 'Task Remaining Total'}, inplace = True)\n",
    "df_stories_tmp.rename(columns = {'Tipo' : 'Tipo'}, inplace = True)\n",
    "df_stories_tmp.rename(columns = {'Sistema Impactado' : 'Sistema Impactado'}, inplace = True)\n",
    "df_stories_tmp.rename(columns = {'Owner' : 'Owner'}, inplace = True)\n",
    "df_stories_tmp.rename(columns = {'Tags' : 'Tags'}, inplace = True)\n",
    "df_stories_tmp.rename(columns = {'Abertura Indevida' : 'Abertura Indevida'}, inplace = True)\n",
    "df_stories_tmp.rename(columns = {'Abertura Indevida' : 'Abertura Indevida'}, inplace = True)\n",
    "df_stories_tmp.rename(columns = {'Classificação' :  'Classificação'}, inplace = True)\n",
    "df_stories_tmp.rename(columns = {'Acceptance Criterias' : 'Acceptance Criterias'}, inplace = True)\n",
    "df_stories_tmp.rename(columns = {'Accepted Date'  : 'Accepted Date' }, inplace = True)\n",
    "df_stories_tmp.rename(columns = {'Blocked Category' : 'Blocked Category'}, inplace = True)\n",
    "df_stories_tmp.rename(columns = {'Creation Date' : 'Creation Date'}, inplace = True)\n",
    "df_stories_tmp.rename(columns = {'Description'  : 'Description' }, inplace = True)\n",
    "df_stories_tmp.rename(columns = {'Direct Children Count' : 'Direct Children Count'}, inplace = True)\n",
    "df_stories_tmp.rename(columns = {'Discussion' : 'Discussion'}, inplace = True)\n",
    "df_stories_tmp.rename(columns = {'Display Color' : 'Display Color'}, inplace = True)\n",
    "df_stories_tmp.rename(columns = {'Expedite'  : 'Expedite' }, inplace = True)\n",
    "df_stories_tmp.rename(columns = {'Last Update Date' : 'Last Update Date'}, inplace = True)\n",
    "df_stories_tmp.rename(columns = {'Milestones' : 'Milestones'}, inplace = True)\n",
    "df_stories_tmp.rename(columns = {'Notes' : 'Notes'}, inplace = True)\n",
    "df_stories_tmp.rename(columns = {'Project' : 'Project'}, inplace = True)\n",
    "df_stories_tmp.rename(columns = {'ServiceNow ID'  : 'ServiceNow ID' }, inplace = True)\n",
    "df_stories_tmp.rename(columns = {'ServiceNow Sys ID' : 'ServiceNow Sys ID'}, inplace = True)\n",
    "df_stories_tmp.rename(columns = {'Created By' : 'Created By'}, inplace = True)\n",
    "df_stories_tmp.rename(columns = {'Defect Status' : 'Defect Status'}, inplace = True)\n",
    "df_stories_tmp.rename(columns = {'Defects'  : 'Defects' }, inplace = True)\n",
    "df_stories_tmp.rename(columns = {'Dependencies' : 'Dependencies'}, inplace = True)\n",
    "df_stories_tmp.rename(columns = {'Flow State' : 'Flow State'}, inplace = True)\n",
    "df_stories_tmp.rename(columns = {'HasParent' : 'HasParent'}, inplace = True)\n",
    "df_stories_tmp.rename(columns = {'In Progress Date'  : 'In Progress Date' }, inplace = True)\n",
    "df_stories_tmp.rename(columns = {'Last Build' : 'Last Build'}, inplace = True)\n",
    "df_stories_tmp.rename(columns = {'Last Run'  : 'Last Run' }, inplace = True)\n",
    "\n",
    "### [Cria function para tratamento do campo Feature] ----- Function criada, mas não utilizada\n",
    "\"\"\"\n",
    "def fn_monta_feature_stories (v_feature):\n",
    "    v_feature = v_feature.str.replace('Feature ','') #Remove a palavra \"Feature \" no canpo de Feature da User Stories\n",
    "    v_posicao = v_feature.str.find(':') #Localiza o caracter \":\"\n",
    "    v_feature = v_feature[0:v_posicao]\n",
    "    return v_feature\n",
    "\"\"\"\n",
    "\n",
    "### [Cria coluna Feature_Describe]\n",
    "df_stories_tmp['Feature_Describe'] = df_stories_tmp['Feature']\n",
    "\n",
    "### Tratamento do campo \"Feature\" -- Semelhante ao substring, porém realizado tratamento comando a comando\n",
    "df_stories_tmp['Feature'] = df_stories_tmp['Feature'].str.replace('Feature ','') #Remove a palavra \"Feature\"\n",
    "df_stories_tmp['Feature'] = df_stories_tmp['Feature'].str[:7] #Seleciona o conteúdo das 7 primeiras posições do campo Feature\n",
    "df_stories_tmp['Feature'] = df_stories_tmp['Feature'].str.replace(':','') #Remove o texto \":\"\n",
    "df_stories_tmp['Feature'] = df_stories_tmp['Feature'].str.replace(' ','') #Remove espaços em branco\n",
    "\n",
    "df_stories = pd.merge(df_stories_tmp,\n",
    "                        df_feature[['Codigo','Codigo_Objetivo']],\n",
    "                          left_on = ['Feature'],\n",
    "                          right_on = ['Codigo'],\n",
    "                        how='left')\n",
    "\n",
    "df_stories.rename(columns = {'Codigo_x'  : 'Codigo' }, inplace = True)\n",
    "\n",
    "### [Cria coluna Codigo_Objetivo]\n",
    "#df_stories['Codigo_Objetivo'] = 'NaN'\n",
    "\n",
    "\n",
    "#######################################################################################\n",
    "### [USER STORY] - FIM                                                              ###\n",
    "#######################################################################################\n",
    "\n",
    "\n",
    "#######################################################################################\n",
    "### [TASKS] - INÍCIO                                                                ###\n",
    "#######################################################################################\n",
    "\n",
    "### [Define endereço do arquivo]\n",
    "\n",
    "### Desabilitado para usar diretamente pelo Azure\n",
    "\"\"\"\n",
    "v_caminho_objetivos = ( v_diretorio_mae + \n",
    "                        v_subdiretorio+\n",
    "                        v_nomearquivo_objetivos)\n",
    "#v_caminho_objetivos = (v_nomearquivo_objetivos)\n",
    "\"\"\"\n",
    "\n",
    "### [Transforma os dados do .csv em um dataframe]\n",
    "df_tasks = pd.read_csv(v_diretorio+v_nomearquivo_tasks , sep = \",\") #sempre confirmar o caracter separador no arquivo\n",
    "    #v_historias = pd.read_csv(\"C:\\\\Users\\\\A98718\\\\OneDrive - Somos Educação SA\\\\python\\\\PI09\\\\export.csv\")\n",
    "    \n",
    "### [Transforma os dados do .xls/xlsx em um dataframe]\n",
    "#df_objetivos = pd.read_excel(v_caminho_objetivos , sheet_name = \"Sheet1\")\n",
    "    #v_historias = pd.read_csv(\"C:\\\\Users\\\\A98718\\\\OneDrive - Somos Educação SA\\\\python\\\\PI09\\\\export.csv\")\n",
    "\n",
    "\n",
    "### [Cria coluna Work_Product_Describe]\n",
    "df_tasks['Work_Product_Describe'] = df_tasks['Work Product']\n",
    "\n",
    "### Tratamento do campo \"Work Product\" -- Semelhante ao substring, porém realizado tratamento comando a comando\n",
    "df_tasks['Work Product'] = df_tasks['Work_Product_Describe'].str[:8] #Seleciona o conteúdo das 8 primeiras posições do campo \n",
    "\n",
    "df_tasks['Work Product'] = df_tasks['Work Product'].str.replace(':','') #Remove o texto \":\"\n",
    "\n",
    "df_tasks['Work Product'] = df_tasks['Work Product'].str.replace(' ','') #Remove espaços em branco\n",
    "\n",
    "#######################################################################################\n",
    "### [TASKS] - FIM                                                                   ###\n",
    "#######################################################################################\n",
    "\n",
    "\n",
    "#######################################################################################\n",
    "### [INCIDENTES] - INÍCIO                                                           ###\n",
    "#######################################################################################\n",
    "### [Transforma os dados do .csv em um dataframe]\n",
    "df_incidentes = pd.read_csv(v_diretorio+v_nomearquivo_incidentes , sep = \",\") #sempre confirmar o caracter separador no \n",
    "\n",
    "Lista_Incidentes = df_incidentes\n",
    "\n",
    "#######################################################################################\n",
    "### [INCIDENTES] - FIM                                                              ###\n",
    "#######################################################################################\n",
    "\n",
    "\n",
    "\n",
    "#######################################################################################\n",
    "### [SSERVICOS] - INÍCIO                                                            ###\n",
    "#######################################################################################\n",
    "### [Transforma os dados do .csv em um dataframe]\n",
    "df_sservicos = pd.read_csv(v_diretorio+v_nomearquivo_sservicos , sep = \",\") #sempre confirmar o caracter separador no \n",
    "\n",
    "Lista_SServicos = df_sservicos\n",
    "\n",
    "#######################################################################################\n",
    "### [SSERVICOS] - FIM                                                               ###\n",
    "#######################################################################################\n",
    "\n",
    "\n",
    "\n",
    "#######################################################################################\n",
    "### [DATAFRAMES GERENCIAIS] - INÍCIO                                                ###\n",
    "#######################################################################################\n",
    "\n",
    "###########################################################################\n",
    "#   [DATAFRAMES GERENCIAIS]                                               #\n",
    "#   Dataframe com informações das [Features X User Stories] - INÍCIO      #\n",
    "###########################################################################\n",
    "\n",
    "#Somente Feature [DataFrame Auxiliar]\n",
    "df_Ftr_US_Feature = pd.merge(df_feature[['Codigo','Codigo_Objetivo','Nome','PI']], \n",
    "                             df_stories[['Codigo','Feature']].groupby(['Feature']).count(), \n",
    "                              left_on='Codigo', \n",
    "                              right_on='Feature')\n",
    "\n",
    "df_Ftr_US_Feature.rename(columns = {'Codigo_x' : 'Codigo_Feature'}, inplace = True)\n",
    "df_Ftr_US_Feature.rename(columns = {'Codigo_y' : 'Qtd_Stories'}, inplace = True)\n",
    "\n",
    "#somente PlanEstimate [DataFrame Auxiliar]\n",
    "df_Ftr_US_PlanEstimate = pd.merge(df_feature[['Codigo','Codigo_Objetivo']], \n",
    "                                  df_stories[['Codigo','Feature','Plan Estimate']].groupby(['Feature']).sum(), \n",
    "                                  left_on='Codigo', \n",
    "                                  right_on='Feature')\n",
    "\n",
    "#somente Task_Estimate_Total [DataFrame Auxiliar]\n",
    "df_Ftr_US_TaskEstimateTotal = pd.merge(df_feature[['Codigo','Codigo_Objetivo']], \n",
    "                                       df_stories[['Codigo','Feature','Task Estimate Total (hs)']].groupby(['Feature']).sum(),\n",
    "                                       left_on='Codigo',\n",
    "                                       right_on='Feature')\n",
    "\n",
    "#somente Task_Actual_Total [DataFrame Auxiliar]\n",
    "df_Ftr_US_Task_Actual_Total = pd.merge(df_feature[['Codigo','Codigo_Objetivo']], \n",
    "                                       df_stories[['Codigo','Feature','Task Actual Total (hs)']].groupby(['Feature']).sum(),\n",
    "                                       left_on='Codigo',\n",
    "                                       right_on='Feature')\n",
    "\n",
    "#somente Iteration - Mínimo [DataFrame Auxiliar]\n",
    "df_Ftr_US_Iteration_Min = pd.merge(df_feature[['Codigo','Codigo_Objetivo']], \n",
    "                                   df_stories[['Codigo','Feature','Iteracao']].groupby(['Feature']).min(),\n",
    "                                   left_on='Codigo',\n",
    "                                   right_on='Feature')\n",
    "#somente Iteration - Mínimo [DataFrame Auxiliar]\n",
    "df_Ftr_US_Iteration_Max = pd.merge(df_feature[['Codigo','Codigo_Objetivo']], \n",
    "                                   df_stories[['Codigo','Feature','Iteracao']].groupby(['Feature']).max(),\n",
    "                                   left_on='Codigo',\n",
    "                                   right_on='Feature')\n",
    "\n",
    "#Monta DataFrame Gerencial de FeatureXHistórias\n",
    "    #DataFrame com total das Features X Histórias\n",
    "    #Junta os dataframes criados anteriormente e separados por campos/informações, em um único dataframe\n",
    "\n",
    "#DataFrame Gerencial - Feature X PlanEstimate [Auxiliar]    \n",
    "df_Ftr_US_A = pd.merge(df_Ftr_US_Feature,\n",
    "                     df_Ftr_US_PlanEstimate,\n",
    "                     left_on=['Codigo_Feature','Codigo_Objetivo'],\n",
    "                     right_on=['Codigo','Codigo_Objetivo'])\n",
    "\n",
    "#DataFrame Gerencial - df_Ftr_US_A X PlanEstimateTotal [Auxiliar]   \n",
    "df_Ftr_US_B =  pd.merge(df_Ftr_US_A,\n",
    "                        df_Ftr_US_TaskEstimateTotal,\n",
    "                        left_on=['Codigo_Feature','Codigo_Objetivo'],\n",
    "                        right_on=['Codigo','Codigo_Objetivo'])\n",
    "\n",
    "#DataFrame Gerencial - df_Ftr_US_B X TaskActualTotal [Auxiliar]\n",
    "df_Ftr_US_C =  pd.merge(df_Ftr_US_B,\n",
    "                        df_Ftr_US_Task_Actual_Total,\n",
    "                        left_on=['Codigo_Feature','Codigo_Objetivo'],\n",
    "                        right_on=['Codigo','Codigo_Objetivo'])\n",
    "\n",
    "#DataFrame Gerencial - df_Ftr_US_C X Iteration_Min [Auxiliar]    \n",
    "df_Ftr_US_D =  pd.merge(df_Ftr_US_C,\n",
    "                        df_Ftr_US_Iteration_Min ,\n",
    "                        left_on=['Codigo_Feature','Codigo_Objetivo'],\n",
    "                        right_on=['Codigo_x','Codigo_Objetivo'])\n",
    "\n",
    "#DataFrame Gerencial - df_Ftr_US_D X Iterationa_Max [Auxiliar]   \n",
    "df_Ftr_US_E =  pd.merge(df_Ftr_US_D,\n",
    "                        df_Ftr_US_Iteration_Max ,\n",
    "                        left_on=['Codigo_Feature','Codigo_Objetivo'],\n",
    "                        right_on=['Codigo_x','Codigo_Objetivo'])\n",
    "\n",
    "#DataFrame - Features X Histórias\n",
    "df_Ftr_US = pd.DataFrame(df_Ftr_US_E) #monta dataframe a partir de um dataframe já existente\n",
    "\n",
    "df_Ftr_US.drop(columns=['Codigo_x','Codigo_y','Codigo','Codigo_x_x','Codigo_y_x','Codigo_x_y','Codigo_y_y'],inplace=True) #exclui campos do detaframe\n",
    "df_Ftr_US.rename(columns = {'Iteracao_x'  : 'Iteracao_Inicial' }, inplace = True) #renomeia coluna\n",
    "df_Ftr_US.rename(columns = {'Iteracao_y'  : 'Iteracao_Final' }, inplace = True) #renomeia coluna\n",
    "\n",
    "# Lista FEATURE X US [Comando para apresentação]\n",
    "#Lista_FTR_US = pd.DataFrame(df_Ftr_US) #monta dataframe a partir de um dataframe já existente\n",
    "\n",
    "df_Ftr_US_TMP = pd.merge(df_objetivos[['Codigo','Tipo','BV_Planejado','Entrega_PPT','Previsao_Ferrari']],\n",
    "                         df_Ftr_US, \n",
    "                         left_on='Codigo', \n",
    "                         right_on='Codigo_Objetivo')\n",
    "\n",
    "Lista_FTR_US_A = df_Ftr_US_TMP[[\"PI\",\"Codigo_Objetivo\",\"Codigo_Feature\",\"Nome\",\"BV_Planejado\",\"Qtd_Stories\",\"Plan Estimate\",\"Task Estimate Total (hs)\",\"Task Actual Total (hs)\",\"Iteracao_Inicial\",\"Iteracao_Final\",\"Entrega_PPT\",\"Previsao_Ferrari\"]]\n",
    "\n",
    "Lista_FTR_US_A.rename(columns = {'Plan Estimate' : 'Plan Estimate (US)'}, inplace = True) #renomeia coluna\n",
    "Lista_FTR_US_A.rename(columns = {'Task Estimate Total (hs)' : 'Task Estimate Total hs (US)'}, inplace = True) #renomeia coluna\n",
    "Lista_FTR_US_A.rename(columns = {'Task Actual Total (hs)' : 'Task Actual Total hs (US)'}, inplace = True) #renomeia coluna\n",
    "Lista_FTR_US_A.rename(columns = {'Iteracao_Inicial' : 'Iteracao_Inicial (US)'}, inplace = True) #renomeia coluna\n",
    "Lista_FTR_US_A.rename(columns = {'Iteracao_Final' : 'Iteracao_Final (US)'}, inplace = True) #renomeia coluna\n",
    "\n",
    "\n",
    "# Quantidade de histórias \"Accepted\" (aceitas) por Objetivo e Feature\n",
    "\"\"\"\n",
    "df_FTR_US_Qtd_Accepted = Lista_US_FTR_OBJ[['Codigo_Feature','Codigo_Objetivo','PI']][(Lista_US_FTR_OBJ['Status_UserStories'] == \"Accepted\")].groupby(['Codigo_Feature','Codigo_Objetivo']).count()\n",
    "\"\"\"\n",
    "\n",
    "df_FTR_US_Qtd_Accepted = df_stories[['Feature','Codigo_Objetivo','PI']][(df_stories['Status'] == \"Accepted\")].groupby(['Feature','Codigo_Objetivo']).count()\n",
    "\n",
    "df_FTR_US_Qtd_Accepted.rename(columns = {'PI' : 'Qtd_Stories_Entregues'}, inplace = True) #renomeia coluna\n",
    "\n",
    "Lista_FTR_US_B = pd.merge(Lista_FTR_US_A,\n",
    "                        df_FTR_US_Qtd_Accepted,\n",
    "                        left_on = ['Codigo_Objetivo','Codigo_Feature'],\n",
    "                        right_on = ['Codigo_Objetivo','Feature'],\n",
    "                        how='left')\n",
    "\n",
    "Lista_FTR_US = Lista_FTR_US_B[[\"PI\",\"Codigo_Objetivo\", \"Codigo_Feature\", \"Nome\", \"BV_Planejado\",\n",
    "       \"Qtd_Stories\", \"Qtd_Stories_Entregues\", \"Plan Estimate (US)\", \"Task Estimate Total hs (US)\",\n",
    "       \"Task Actual Total hs (US)\", \"Iteracao_Inicial (US)\",\n",
    "       \"Iteracao_Final (US)\", \"Entrega_PPT\", \"Previsao_Ferrari\"]]\n",
    "\n",
    "###########################################################################\n",
    "#   [DATAFRAMES GERENCIAIS]                                               #\n",
    "#   Dataframe com informações das [Features X User Stories] - FIM         #\n",
    "###########################################################################\n",
    "\n",
    "###########################################################################\n",
    "#   [DATAFRAMES GERENCIAIS]                                               #\n",
    "#   Dataframe com informações das [UserStories x Objetivos] - INÍCIO      #\n",
    "###########################################################################\n",
    "\n",
    "\n",
    "#Semelhante a Lista_FTR_US\n",
    "Lista_FTR_US_TMP = Lista_FTR_US_B[[\"PI\",\"Codigo_Objetivo\", \"Codigo_Feature\", \"Nome\", \"BV_Planejado\",\n",
    "       \"Qtd_Stories\", \"Qtd_Stories_Entregues\", \"Plan Estimate (US)\", \"Task Estimate Total hs (US)\",\n",
    "       \"Task Actual Total hs (US)\", \"Iteracao_Inicial (US)\",\n",
    "       \"Iteracao_Final (US)\", \"Entrega_PPT\", \"Previsao_Ferrari\"]]\n",
    "\n",
    "\n",
    "df_US_FTR_OBJ = pd.merge(df_stories, \n",
    "                      Lista_FTR_US_TMP, \n",
    "                      left_on='Feature', \n",
    "                      right_on='Codigo_Feature')\n",
    "\n",
    "df_US_FTR_OBJ.drop(columns=['Codigo_Objetivo_x'],inplace=True) #exclui campos do detaframe\n",
    "df_US_FTR_OBJ.drop(columns=['Parent'],inplace=True) #exclui campos do detaframe\n",
    "\n",
    "### [Renomeia colunas]\n",
    "df_US_FTR_OBJ.rename(columns = {'Codigo' : 'Codigo_UserStories'}, inplace = True)\n",
    "df_US_FTR_OBJ.rename(columns = {'Nome_x' : 'Nome_UserStories'}, inplace = True)\n",
    "df_US_FTR_OBJ.rename(columns = {'Status' : 'Status_UserStories'}, inplace = True)\n",
    "df_US_FTR_OBJ.rename(columns = {'Plan Estimate' : 'PlanEstimate_UserStories'}, inplace = True)\n",
    "df_US_FTR_OBJ.rename(columns = {'Sistema Impactado' : 'Sistema_UserStories'}, inplace = True)\n",
    "df_US_FTR_OBJ.rename(columns = {'Iteracao' : 'Iteracao_UserStories'}, inplace = True)\n",
    "df_US_FTR_OBJ.rename(columns = {'Iteracao_Inicial (US)' : 'Iteracao_Inicio_Feature'}, inplace = True)\n",
    "df_US_FTR_OBJ.rename(columns = {'Iteracao_Final (US)' : 'Iteracao_Fim_UserStories'}, inplace = True)\n",
    "\n",
    "\n",
    "df_US_FTR_OBJ.rename(columns = {'Codigo_Objetivo_y' : 'Codigo_Objetivo'}, inplace = True)\n",
    "df_US_FTR_OBJ.rename(columns = {'BV_Planejado' : 'Objetivo_BV_Planejado'}, inplace = True)\n",
    "df_US_FTR_OBJ.rename(columns = {'Entrega_PPT' : 'Objetivo_Entrega_PPT'}, inplace = True)\n",
    "df_US_FTR_OBJ.rename(columns = {'Iteracao' : 'UseStories_Iteracao'}, inplace = True)\n",
    "df_US_FTR_OBJ.rename(columns = {'PI_x' : 'PI'}, inplace = True)\n",
    "\n",
    "Lista_US_FTR_OBJ = df_US_FTR_OBJ[[\"PI\",\"Codigo_Objetivo\",\"Codigo_Feature\",\"Codigo_UserStories\", \"Nome_UserStories\",\"Objetivo_BV_Planejado\",\"Status_UserStories\",\"PlanEstimate_UserStories\", \"Sistema_UserStories\",\"Iteracao_UserStories\",\"Iteracao_Inicio_Feature\",\"Iteracao_Fim_UserStories\",\"Objetivo_Entrega_PPT\" ]]\n",
    "\n",
    "\n",
    "###########################################################################\n",
    "#   [DATAFRAMES GERENCIAIS]                                               #\n",
    "#   Dataframe com informações das [UserStories x Objetivos] - FIM         #\n",
    "###########################################################################\n",
    "\n",
    "###########################################################################\n",
    "#   [DATAFRAMES GERENCIAIS]                                               #\n",
    "#   Dataframe com informações dos [Objetivos x Features] - INÍCIO         #\n",
    "###########################################################################\n",
    "\n",
    "#No exemplo abaixo, usei alguns campos do \"df_objetivos\", \n",
    "# e um outro comando que lista a quantidade de feature por objetivo \n",
    "df_Obj_Ftr = pd.merge(df_objetivos[['Codigo','PI','Tipo','Nome','BV_Planejado']], \n",
    "                      df_feature[['Codigo_Objetivo','Codigo']].groupby(['Codigo_Objetivo']).count(), \n",
    "                      left_on='Codigo', \n",
    "                      right_on='Codigo_Objetivo')\n",
    "\n",
    "df_Obj_Ftr.rename(columns = {'Codigo_x' : 'Codigo'}, inplace = True) #renomeia coluna\n",
    "df_Obj_Ftr.rename(columns = {'Codigo_y' : 'Qtd_Feature'}, inplace = True) #renomeia coluna\n",
    "\n",
    "\n",
    "# Monta Informações para cruzamento de [Features X Histórias] com Objetivos\n",
    "df_Obj_FTR_US_Stories = pd.DataFrame(df_Ftr_US.groupby(('Codigo_Objetivo'))['Qtd_Stories'].sum())\n",
    "df_Obj_FTR_US_PlanEstimate = pd.DataFrame(df_Ftr_US.groupby(('Codigo_Objetivo'))['Plan Estimate'].sum())\n",
    "df_Obj_FTR_US_TaskEstimateTotal = pd.DataFrame(df_Ftr_US.groupby(('Codigo_Objetivo'))['Task Estimate Total (hs)'].sum())\n",
    "df_Obj_FTR_US_TaskActualTotal = pd.DataFrame(df_Ftr_US.groupby(('Codigo_Objetivo'))['Task Actual Total (hs)'].sum())\n",
    "df_Obj_FTR_US_IteracaoInicial = pd.DataFrame(df_Ftr_US.groupby(('Codigo_Objetivo'))['Iteracao_Inicial'].min())\n",
    "df_Obj_FTR_US_IteracaoFinal = pd.DataFrame(df_Ftr_US.groupby(('Codigo_Objetivo'))['Iteracao_Final'].max())\n",
    "\n",
    "\n",
    "df_Obj_Ftr_A = pd.merge(df_Obj_FTR_US_Stories,\n",
    "                        df_Obj_FTR_US_PlanEstimate, \n",
    "                        left_on='Codigo_Objetivo', \n",
    "                        right_on='Codigo_Objetivo')\n",
    "\n",
    "df_Obj_Ftr_B = pd.merge(df_Obj_Ftr_A,\n",
    "                        df_Obj_FTR_US_TaskEstimateTotal, \n",
    "                        left_on='Codigo_Objetivo', \n",
    "                        right_on='Codigo_Objetivo')\n",
    "\n",
    "df_Obj_Ftr_C = pd.merge(df_Obj_Ftr_B,\n",
    "                        df_Obj_FTR_US_TaskActualTotal, \n",
    "                        left_on='Codigo_Objetivo', \n",
    "                        right_on='Codigo_Objetivo')\n",
    "\n",
    "df_Obj_Ftr_D = pd.merge(df_Obj_Ftr_C,\n",
    "                        df_Obj_FTR_US_IteracaoInicial, \n",
    "                        left_on='Codigo_Objetivo', \n",
    "                        right_on='Codigo_Objetivo')\n",
    "\n",
    "df_Obj_Ftr_E = pd.merge(df_Obj_Ftr_D,\n",
    "                        df_Obj_FTR_US_IteracaoFinal, \n",
    "                        left_on='Codigo_Objetivo', \n",
    "                        right_on='Codigo_Objetivo')\n",
    "\n",
    "\n",
    "df_Obj_Ftr_F = pd.merge(df_Obj_Ftr,\n",
    "                        df_Obj_Ftr_E, \n",
    "                        left_on='Codigo', \n",
    "                        right_on='Codigo_Objetivo')\n",
    "\n",
    "# Lista OBJETIVO X FEATURE [Comando para apresentação]\n",
    "    #Lista_OBJ_FTR = pd.DataFrame(df_Obj_Ftr_F) #monta dataframe a partir de um dataframe já existente\n",
    "\n",
    "df_OBJ_Ftr_G = pd.merge(df_objetivos[['Codigo','Entrega_PPT','Previsao_Ferrari']],\n",
    "                        df_Obj_Ftr_F, \n",
    "                        left_on='Codigo', \n",
    "                        right_on='Codigo')\n",
    "\n",
    "Lista_OBJ_FTR_A = df_OBJ_Ftr_G[[\"Codigo\",\"PI\",\"Tipo\",\"Nome\",\"BV_Planejado\",\"Qtd_Feature\",\"Qtd_Stories\",\"Plan Estimate\",\"Task Estimate Total (hs)\",\"Task Actual Total (hs)\",\"Iteracao_Inicial\",\"Iteracao_Final\", \"Entrega_PPT\",\"Previsao_Ferrari\"]]\n",
    "\n",
    "Lista_OBJ_FTR_A.rename(columns = {'Plan Estimate' : 'Plan Estimate (US)'}, inplace = True) #renomeia coluna\n",
    "Lista_OBJ_FTR_A.rename(columns = {'Task Estimate Total (hs)' : 'Task Estimate Total hs (US)'}, inplace = True) #renomeia a coluna\n",
    "Lista_OBJ_FTR_A.rename(columns = {'Iteracao_Inicial' : 'Iteracao_Inicial (US)'}, inplace = True) #renomeia coluna\n",
    "Lista_OBJ_FTR_A.rename(columns = {'Iteracao_Final' : 'Iteracao_Final (US)'}, inplace = True) #renomeia coluna\n",
    "\n",
    "# Quantidade de histórias \"Accepted\" (aceitas) por objetivo\n",
    "df_OBJ_US_Qtd_Accepted = Lista_US_FTR_OBJ[['Codigo_Objetivo','PI']][(Lista_US_FTR_OBJ['Status_UserStories'] == \"Accepted\")].groupby(['Codigo_Objetivo']).count()\n",
    "\n",
    "df_OBJ_US_Qtd_Accepted.rename(columns = {'PI' : 'Qtd_Stories_Entregues'}, inplace = True) #renomeia coluna\n",
    "\n",
    "Lista_OBJ_FTR_B = pd.merge(Lista_OBJ_FTR_A,\n",
    "                        df_OBJ_US_Qtd_Accepted,\n",
    "                        left_on='Codigo',\n",
    "                        right_on = 'Codigo_Objetivo',\n",
    "                        how='left')\n",
    "\n",
    "Lista_OBJ_FTR = Lista_OBJ_FTR_B[[\"PI\",\"Codigo\",\"Nome\",\"Tipo\",\"BV_Planejado\",\"Qtd_Feature\",\"Qtd_Stories\",\"Qtd_Stories_Entregues\",\"Plan Estimate (US)\", \"Task Estimate Total hs (US)\",\"Task Actual Total (hs)\",\"Iteracao_Inicial (US)\",\"Iteracao_Final (US)\", \"Entrega_PPT\",\"Previsao_Ferrari\"]]\n",
    "###########################################################################\n",
    "#   [DATAFRAMES GERENCIAIS]                                               #\n",
    "#   Dataframe com informações dos [Objetivos x Features] - FIM            #\n",
    "###########################################################################\n",
    "\n",
    "###########################################################################\n",
    "#   [DATAFRAMES GERENCIAIS]                                               #\n",
    "#   Dataframe com informações das [Tasks x USerStories] - INÍCIO          #\n",
    "###########################################################################\n",
    "df_Tasks_US = pd.merge(df_tasks,\n",
    "                        Lista_US_FTR_OBJ[['PI','Codigo_Objetivo','Codigo_Feature','Codigo_UserStories','Objetivo_BV_Planejado','Iteracao_Inicio_Feature','Iteracao_Fim_UserStories','Objetivo_Entrega_PPT']], \n",
    "                              left_on='Work Product', \n",
    "                              right_on='Codigo_UserStories',\n",
    "                              how='left')\n",
    "\n",
    "\n",
    "Lista_TASKS_US = df_Tasks_US[[\"PI\",\"Codigo_Objetivo\",\"Codigo_Feature\",\"Codigo_UserStories\",\"Objetivo_BV_Planejado\",\"Iteration\",\"Iteracao_Inicio_Feature\", \"Iteracao_Fim_UserStories\",\"Objetivo_Entrega_PPT\",\"Formatted ID\", \"Name\",\"Work Product\", \"Release\",\"State\",\"Estimate\", \"To Do\", \"Time Spent\", \"Owner\", \"Actuals\", \"Blocked\",\"Blocked Reason\",\"Display Color\", \"Created By\", \"Creation Date\",\"Description\", \"Discussion\", \"Expedite\", \"Last Update Date\",\n",
    "\"Milestones\", \"Notes\", \"Project\", \"Ready\", \"Tags\",\"Work_Product_Describe\"]]\n",
    "\n",
    "\n",
    "###########################################################################\n",
    "#   [DATAFRAMES GERENCIAIS]                                               #\n",
    "#   Dataframe com informações das [Tasks x USerStories] - FIM             #\n",
    "###########################################################################\n",
    "\n",
    "\n",
    "#######################################################################################\n",
    "### [DATAFRAMES GERENCIAIS] - FIM                                                   ###\n",
    "#######################################################################################\n",
    "\n",
    "#######################################################################################\n",
    "### [GRÁFICOS] - INÍCIO                                                             ###\n",
    "#######################################################################################\n",
    "\n",
    "### [Objetivos - Gráficos] - Objetivos\n",
    "def Gera_Objetivo_Grf_Barra(): #Barra\n",
    "#def fn_obj_grf(): #Barra\n",
    "    v_grf_Obj = go.Bar(x = ['Objetivos PI'], y = [v_Obj], name = 'Objetivos PI ('+str(v_Obj_Qtd_Perc)+')', marker={'color': '#0000ff'})\n",
    "    v_grf_ObjS = go.Bar(x = ['Objetivos Stretch'], y = [v_ObjS], name = 'Objetivos Stretch ('+str(v_ObjS_Qtd_Perc)+')', marker={'color': '#ffa500'})\n",
    "\n",
    "    v_grf_obj_dados = [v_grf_Obj, v_grf_ObjS]\n",
    "   \n",
    "    v_grf_obj_layout = go.Layout(title='Objetivos da '+v_pi,\n",
    "                                 yaxis={'title':'Quantidade de Objetivos'},\n",
    "                                 xaxis={'title':'Tipos de Objetivos'})\n",
    "\n",
    "    v_grf_obj_final = go.Figure(data=v_grf_obj_dados, layout = v_grf_obj_layout)\n",
    "\n",
    "    py.iplot(v_grf_obj_final)\n",
    "\n",
    "def Gera_Objetivo_Grf_Pizza(): #Pizza    \n",
    "#def fn_obj_grf2(): #Pizza\n",
    "    labels = ['Objetivos PI ('+str(v_Obj_Qtd_Perc)+')','Objetivos Stretch ('+str(v_ObjS_Qtd_Perc)+')']\n",
    "    values = [v_Obj , v_ObjS]\n",
    "\n",
    "    fig = go.Figure(data=[go.Pie(labels=labels, values=values)])\n",
    "    fig.show()\n",
    "\n",
    "\n",
    "#######################################################################################\n",
    "### [GRÁFICOS] - FIM                                                                ###\n",
    "#######################################################################################\n",
    "\n",
    "\n",
    "\n"
   ]
  },
  {
   "cell_type": "code",
   "execution_count": 11,
   "metadata": {},
   "outputs": [],
   "source": [
    "#######################################################################################\n",
    "### [MENU DE EXECUÇÃO]                                                              ###\n",
    "#######################################################################################\n",
    "\n",
    "## Menu\n",
    "## * [Iteração]     - Lista_Iteracao\n",
    "## * [Objetivos]    - Lista_OBJ           - [Lista Objetivos   - Resumo - Planilha Ferrari]\n",
    "## * [Features]     - Lista_FTR           - [Lista Features    - Resumo]\n",
    "## * [Gerencial]    - Lista_OBJ_FTR       - [Lista Objetivos   - base Features & UserStories]\n",
    "## * [Gerencial]    - Lista_FTR_US        - [Lista Features    - base UserStories & Objetivos]\n",
    "## * [Gerencial]    - Lista_US_FTR_OBJ    - [Lista UserStories - base UserStories & Objetivos]\n",
    "## * [Gerencial]    - Lista_TASKS_US      - [Lista Tasks       - base UserStories & Objetivos]\n",
    "\n",
    "\n",
    "##   [Objetivos]    - Lista_OBJ_FULL      - [#Objetivos - Planilha Ferrari]\n",
    "##   [Objetivos]    - Lista_OBJ_Total     - [#Totalizador de Objetivos, Stretch, Percentuais e Erros]\n",
    "##   [Features]     - Lista_FTR_Total     - [#Totalizador de Features, Stretch, Percentuais e Erros] \n",
    "##   [Incidentes]   - Lista_Incidentes    - [#Lista Incidentes] \n",
    "##   [SServiços]    - Lista_SServicos     - [#Lista SServicos] \n",
    "\n",
    "#Lista_FTR_US.columns\n",
    "\n",
    "#df_tasks.dtypes\n",
    "#df_tasks['Work Product'] = df_tasks['Work Product Describe'].str[:p]\n",
    "\n",
    "#Lista_FTR_US[Lista_FTR_US['Codigo_Feature'] == \"FE6422\"]\n",
    "#df_stories[['Feature','Codigo_Objetivo','PI']][(df_stories['Status'] == \"Accepted\")].groupby(['Feature','Codigo_Objetivo']).count()\n"
   ]
  },
  {
   "cell_type": "code",
   "execution_count": 110,
   "metadata": {},
   "outputs": [],
   "source": [
    "#######################################################################################\n",
    "### [EXPORT] - XLSX                                                                 ###\n",
    "#######################################################################################\n",
    "\n",
    "with pd.ExcelWriter('RPA_Analise_PI.xlsx') as writer:  \n",
    "    Lista_Iteracao.to_excel(writer, sheet_name='Iteração')\n",
    "    Lista_OBJ_FTR.to_excel(writer, sheet_name='Objetivos')\n",
    "    Lista_FTR_US.to_excel(writer, sheet_name='Feature')\n",
    "    Lista_US_FTR_OBJ.to_excel(writer, sheet_name='UserStories')\n",
    "    Lista_TASKS_US.to_excel(writer, sheet_name='Tasks (DE,US,SS)')\n",
    "    Lista_Incidentes.to_excel(writer, sheet_name='Incidentes') \n",
    "    Lista_SServicos.to_excel(writer, sheet_name='Sol. Serviços') \n",
    "\n",
    "    #Lista_US_FTR_OBJ[Lista_US_FTR_OBJ['Iteracao_UserStories'] == \"PI11.1\"].to_excel(writer, sheet_name='US - 11.1')\n",
    "    #Lista_US_FTR_OBJ[Lista_US_FTR_OBJ['Iteracao_UserStories'] == \"PI11.2\"].to_excel(writer, sheet_name='US - 11.2')\n",
    "    #Lista_US_FTR_OBJ[Lista_US_FTR_OBJ['Iteracao_UserStories'] == \"PI11.3\"].to_excel(writer, sheet_name='US - 11.3')\n",
    "    #Lista_US_FTR_OBJ[Lista_US_FTR_OBJ['Iteracao_UserStories'] == \"PI11.4\"].to_excel(writer, sheet_name='US - 11.4')\n",
    "    #Lista_US_FTR_OBJ[Lista_US_FTR_OBJ['Iteracao_UserStories'] == \"PI11.5\"].to_excel(writer, sheet_name='US - 11.5')\n"
   ]
  },
  {
   "cell_type": "code",
   "execution_count": null,
   "metadata": {},
   "outputs": [],
   "source": [
    "#######################################################################################\n",
    "### [EXEMPLOS] - XLSX                                                               ###\n",
    "#######################################################################################\n",
    "\n",
    "#Lista_US_FTR_OBJ[['Codigo_Objetivo','Codigo_UserStories']][(Lista_US_FTR_OBJ['Status_UserStories'] == \"Accepted\")].groupby(['Codigo_Objetivo']).count()\n",
    "\n",
    "#Lista_US_FTR_OBJ[\"Codigo_Objetivo\"][(Lista_US_FTR_OBJ['Status_UserStories'] == \"Accepted\") & (Lista_US_FTR_OBJ##['Codigo_Objetivo'] == \"OPPI11-RP2859\")].count()\n",
    "\n",
    "#df_stories[df_stories['Codigo'] == \"US98360\"]\n",
    "#df_stories.columns\n",
    "#Lista_US_FTR_OBJ[Lista_US_FTR_OBJ['Codigo_Feature'] == \"FE6428\"]  "
   ]
  },
  {
   "cell_type": "code",
   "execution_count": 22,
   "metadata": {},
   "outputs": [
    {
     "output_type": "display_data",
     "data": {
      "application/vnd.plotly.v1+json": {
       "config": {
        "linkText": "Export to plot.ly",
        "plotlyServerURL": "https://plot.ly",
        "showLink": false
       },
       "data": [
        {
         "marker": {
          "color": "#0000ff"
         },
         "name": "Objetivos PI (12 - 80.0%)",
         "type": "bar",
         "x": [
          "Objetivos PI"
         ],
         "y": [
          12
         ]
        },
        {
         "marker": {
          "color": "#ffa500"
         },
         "name": "Objetivos Stretch (3 - 20.0%)",
         "type": "bar",
         "x": [
          "Objetivos Stretch"
         ],
         "y": [
          3
         ]
        }
       ],
       "layout": {
        "template": {
         "data": {
          "bar": [
           {
            "error_x": {
             "color": "#2a3f5f"
            },
            "error_y": {
             "color": "#2a3f5f"
            },
            "marker": {
             "line": {
              "color": "#E5ECF6",
              "width": 0.5
             }
            },
            "type": "bar"
           }
          ],
          "barpolar": [
           {
            "marker": {
             "line": {
              "color": "#E5ECF6",
              "width": 0.5
             }
            },
            "type": "barpolar"
           }
          ],
          "carpet": [
           {
            "aaxis": {
             "endlinecolor": "#2a3f5f",
             "gridcolor": "white",
             "linecolor": "white",
             "minorgridcolor": "white",
             "startlinecolor": "#2a3f5f"
            },
            "baxis": {
             "endlinecolor": "#2a3f5f",
             "gridcolor": "white",
             "linecolor": "white",
             "minorgridcolor": "white",
             "startlinecolor": "#2a3f5f"
            },
            "type": "carpet"
           }
          ],
          "choropleth": [
           {
            "colorbar": {
             "outlinewidth": 0,
             "ticks": ""
            },
            "type": "choropleth"
           }
          ],
          "contour": [
           {
            "colorbar": {
             "outlinewidth": 0,
             "ticks": ""
            },
            "colorscale": [
             [
              0,
              "#0d0887"
             ],
             [
              0.1111111111111111,
              "#46039f"
             ],
             [
              0.2222222222222222,
              "#7201a8"
             ],
             [
              0.3333333333333333,
              "#9c179e"
             ],
             [
              0.4444444444444444,
              "#bd3786"
             ],
             [
              0.5555555555555556,
              "#d8576b"
             ],
             [
              0.6666666666666666,
              "#ed7953"
             ],
             [
              0.7777777777777778,
              "#fb9f3a"
             ],
             [
              0.8888888888888888,
              "#fdca26"
             ],
             [
              1,
              "#f0f921"
             ]
            ],
            "type": "contour"
           }
          ],
          "contourcarpet": [
           {
            "colorbar": {
             "outlinewidth": 0,
             "ticks": ""
            },
            "type": "contourcarpet"
           }
          ],
          "heatmap": [
           {
            "colorbar": {
             "outlinewidth": 0,
             "ticks": ""
            },
            "colorscale": [
             [
              0,
              "#0d0887"
             ],
             [
              0.1111111111111111,
              "#46039f"
             ],
             [
              0.2222222222222222,
              "#7201a8"
             ],
             [
              0.3333333333333333,
              "#9c179e"
             ],
             [
              0.4444444444444444,
              "#bd3786"
             ],
             [
              0.5555555555555556,
              "#d8576b"
             ],
             [
              0.6666666666666666,
              "#ed7953"
             ],
             [
              0.7777777777777778,
              "#fb9f3a"
             ],
             [
              0.8888888888888888,
              "#fdca26"
             ],
             [
              1,
              "#f0f921"
             ]
            ],
            "type": "heatmap"
           }
          ],
          "heatmapgl": [
           {
            "colorbar": {
             "outlinewidth": 0,
             "ticks": ""
            },
            "colorscale": [
             [
              0,
              "#0d0887"
             ],
             [
              0.1111111111111111,
              "#46039f"
             ],
             [
              0.2222222222222222,
              "#7201a8"
             ],
             [
              0.3333333333333333,
              "#9c179e"
             ],
             [
              0.4444444444444444,
              "#bd3786"
             ],
             [
              0.5555555555555556,
              "#d8576b"
             ],
             [
              0.6666666666666666,
              "#ed7953"
             ],
             [
              0.7777777777777778,
              "#fb9f3a"
             ],
             [
              0.8888888888888888,
              "#fdca26"
             ],
             [
              1,
              "#f0f921"
             ]
            ],
            "type": "heatmapgl"
           }
          ],
          "histogram": [
           {
            "marker": {
             "colorbar": {
              "outlinewidth": 0,
              "ticks": ""
             }
            },
            "type": "histogram"
           }
          ],
          "histogram2d": [
           {
            "colorbar": {
             "outlinewidth": 0,
             "ticks": ""
            },
            "colorscale": [
             [
              0,
              "#0d0887"
             ],
             [
              0.1111111111111111,
              "#46039f"
             ],
             [
              0.2222222222222222,
              "#7201a8"
             ],
             [
              0.3333333333333333,
              "#9c179e"
             ],
             [
              0.4444444444444444,
              "#bd3786"
             ],
             [
              0.5555555555555556,
              "#d8576b"
             ],
             [
              0.6666666666666666,
              "#ed7953"
             ],
             [
              0.7777777777777778,
              "#fb9f3a"
             ],
             [
              0.8888888888888888,
              "#fdca26"
             ],
             [
              1,
              "#f0f921"
             ]
            ],
            "type": "histogram2d"
           }
          ],
          "histogram2dcontour": [
           {
            "colorbar": {
             "outlinewidth": 0,
             "ticks": ""
            },
            "colorscale": [
             [
              0,
              "#0d0887"
             ],
             [
              0.1111111111111111,
              "#46039f"
             ],
             [
              0.2222222222222222,
              "#7201a8"
             ],
             [
              0.3333333333333333,
              "#9c179e"
             ],
             [
              0.4444444444444444,
              "#bd3786"
             ],
             [
              0.5555555555555556,
              "#d8576b"
             ],
             [
              0.6666666666666666,
              "#ed7953"
             ],
             [
              0.7777777777777778,
              "#fb9f3a"
             ],
             [
              0.8888888888888888,
              "#fdca26"
             ],
             [
              1,
              "#f0f921"
             ]
            ],
            "type": "histogram2dcontour"
           }
          ],
          "mesh3d": [
           {
            "colorbar": {
             "outlinewidth": 0,
             "ticks": ""
            },
            "type": "mesh3d"
           }
          ],
          "parcoords": [
           {
            "line": {
             "colorbar": {
              "outlinewidth": 0,
              "ticks": ""
             }
            },
            "type": "parcoords"
           }
          ],
          "pie": [
           {
            "automargin": true,
            "type": "pie"
           }
          ],
          "scatter": [
           {
            "marker": {
             "colorbar": {
              "outlinewidth": 0,
              "ticks": ""
             }
            },
            "type": "scatter"
           }
          ],
          "scatter3d": [
           {
            "line": {
             "colorbar": {
              "outlinewidth": 0,
              "ticks": ""
             }
            },
            "marker": {
             "colorbar": {
              "outlinewidth": 0,
              "ticks": ""
             }
            },
            "type": "scatter3d"
           }
          ],
          "scattercarpet": [
           {
            "marker": {
             "colorbar": {
              "outlinewidth": 0,
              "ticks": ""
             }
            },
            "type": "scattercarpet"
           }
          ],
          "scattergeo": [
           {
            "marker": {
             "colorbar": {
              "outlinewidth": 0,
              "ticks": ""
             }
            },
            "type": "scattergeo"
           }
          ],
          "scattergl": [
           {
            "marker": {
             "colorbar": {
              "outlinewidth": 0,
              "ticks": ""
             }
            },
            "type": "scattergl"
           }
          ],
          "scattermapbox": [
           {
            "marker": {
             "colorbar": {
              "outlinewidth": 0,
              "ticks": ""
             }
            },
            "type": "scattermapbox"
           }
          ],
          "scatterpolar": [
           {
            "marker": {
             "colorbar": {
              "outlinewidth": 0,
              "ticks": ""
             }
            },
            "type": "scatterpolar"
           }
          ],
          "scatterpolargl": [
           {
            "marker": {
             "colorbar": {
              "outlinewidth": 0,
              "ticks": ""
             }
            },
            "type": "scatterpolargl"
           }
          ],
          "scatterternary": [
           {
            "marker": {
             "colorbar": {
              "outlinewidth": 0,
              "ticks": ""
             }
            },
            "type": "scatterternary"
           }
          ],
          "surface": [
           {
            "colorbar": {
             "outlinewidth": 0,
             "ticks": ""
            },
            "colorscale": [
             [
              0,
              "#0d0887"
             ],
             [
              0.1111111111111111,
              "#46039f"
             ],
             [
              0.2222222222222222,
              "#7201a8"
             ],
             [
              0.3333333333333333,
              "#9c179e"
             ],
             [
              0.4444444444444444,
              "#bd3786"
             ],
             [
              0.5555555555555556,
              "#d8576b"
             ],
             [
              0.6666666666666666,
              "#ed7953"
             ],
             [
              0.7777777777777778,
              "#fb9f3a"
             ],
             [
              0.8888888888888888,
              "#fdca26"
             ],
             [
              1,
              "#f0f921"
             ]
            ],
            "type": "surface"
           }
          ],
          "table": [
           {
            "cells": {
             "fill": {
              "color": "#EBF0F8"
             },
             "line": {
              "color": "white"
             }
            },
            "header": {
             "fill": {
              "color": "#C8D4E3"
             },
             "line": {
              "color": "white"
             }
            },
            "type": "table"
           }
          ]
         },
         "layout": {
          "annotationdefaults": {
           "arrowcolor": "#2a3f5f",
           "arrowhead": 0,
           "arrowwidth": 1
          },
          "coloraxis": {
           "colorbar": {
            "outlinewidth": 0,
            "ticks": ""
           }
          },
          "colorscale": {
           "diverging": [
            [
             0,
             "#8e0152"
            ],
            [
             0.1,
             "#c51b7d"
            ],
            [
             0.2,
             "#de77ae"
            ],
            [
             0.3,
             "#f1b6da"
            ],
            [
             0.4,
             "#fde0ef"
            ],
            [
             0.5,
             "#f7f7f7"
            ],
            [
             0.6,
             "#e6f5d0"
            ],
            [
             0.7,
             "#b8e186"
            ],
            [
             0.8,
             "#7fbc41"
            ],
            [
             0.9,
             "#4d9221"
            ],
            [
             1,
             "#276419"
            ]
           ],
           "sequential": [
            [
             0,
             "#0d0887"
            ],
            [
             0.1111111111111111,
             "#46039f"
            ],
            [
             0.2222222222222222,
             "#7201a8"
            ],
            [
             0.3333333333333333,
             "#9c179e"
            ],
            [
             0.4444444444444444,
             "#bd3786"
            ],
            [
             0.5555555555555556,
             "#d8576b"
            ],
            [
             0.6666666666666666,
             "#ed7953"
            ],
            [
             0.7777777777777778,
             "#fb9f3a"
            ],
            [
             0.8888888888888888,
             "#fdca26"
            ],
            [
             1,
             "#f0f921"
            ]
           ],
           "sequentialminus": [
            [
             0,
             "#0d0887"
            ],
            [
             0.1111111111111111,
             "#46039f"
            ],
            [
             0.2222222222222222,
             "#7201a8"
            ],
            [
             0.3333333333333333,
             "#9c179e"
            ],
            [
             0.4444444444444444,
             "#bd3786"
            ],
            [
             0.5555555555555556,
             "#d8576b"
            ],
            [
             0.6666666666666666,
             "#ed7953"
            ],
            [
             0.7777777777777778,
             "#fb9f3a"
            ],
            [
             0.8888888888888888,
             "#fdca26"
            ],
            [
             1,
             "#f0f921"
            ]
           ]
          },
          "colorway": [
           "#636efa",
           "#EF553B",
           "#00cc96",
           "#ab63fa",
           "#FFA15A",
           "#19d3f3",
           "#FF6692",
           "#B6E880",
           "#FF97FF",
           "#FECB52"
          ],
          "font": {
           "color": "#2a3f5f"
          },
          "geo": {
           "bgcolor": "white",
           "lakecolor": "white",
           "landcolor": "#E5ECF6",
           "showlakes": true,
           "showland": true,
           "subunitcolor": "white"
          },
          "hoverlabel": {
           "align": "left"
          },
          "hovermode": "closest",
          "mapbox": {
           "style": "light"
          },
          "paper_bgcolor": "white",
          "plot_bgcolor": "#E5ECF6",
          "polar": {
           "angularaxis": {
            "gridcolor": "white",
            "linecolor": "white",
            "ticks": ""
           },
           "bgcolor": "#E5ECF6",
           "radialaxis": {
            "gridcolor": "white",
            "linecolor": "white",
            "ticks": ""
           }
          },
          "scene": {
           "xaxis": {
            "backgroundcolor": "#E5ECF6",
            "gridcolor": "white",
            "gridwidth": 2,
            "linecolor": "white",
            "showbackground": true,
            "ticks": "",
            "zerolinecolor": "white"
           },
           "yaxis": {
            "backgroundcolor": "#E5ECF6",
            "gridcolor": "white",
            "gridwidth": 2,
            "linecolor": "white",
            "showbackground": true,
            "ticks": "",
            "zerolinecolor": "white"
           },
           "zaxis": {
            "backgroundcolor": "#E5ECF6",
            "gridcolor": "white",
            "gridwidth": 2,
            "linecolor": "white",
            "showbackground": true,
            "ticks": "",
            "zerolinecolor": "white"
           }
          },
          "shapedefaults": {
           "line": {
            "color": "#2a3f5f"
           }
          },
          "ternary": {
           "aaxis": {
            "gridcolor": "white",
            "linecolor": "white",
            "ticks": ""
           },
           "baxis": {
            "gridcolor": "white",
            "linecolor": "white",
            "ticks": ""
           },
           "bgcolor": "#E5ECF6",
           "caxis": {
            "gridcolor": "white",
            "linecolor": "white",
            "ticks": ""
           }
          },
          "title": {
           "x": 0.05
          },
          "xaxis": {
           "automargin": true,
           "gridcolor": "white",
           "linecolor": "white",
           "ticks": "",
           "title": {
            "standoff": 15
           },
           "zerolinecolor": "white",
           "zerolinewidth": 2
          },
          "yaxis": {
           "automargin": true,
           "gridcolor": "white",
           "linecolor": "white",
           "ticks": "",
           "title": {
            "standoff": 15
           },
           "zerolinecolor": "white",
           "zerolinewidth": 2
          }
         }
        },
        "title": {
         "text": "Objetivos da PI11"
        },
        "xaxis": {
         "title": {
          "text": "Tipos de Objetivos"
         }
        },
        "yaxis": {
         "title": {
          "text": "Quantidade de Objetivos"
         }
        }
       }
      },
      "text/html": "<div>\n        \n        \n            <div id=\"18f76d20-4c2b-467b-b97c-c2d4b28f92fc\" class=\"plotly-graph-div\" style=\"height:525px; width:100%;\"></div>\n            <script type=\"text/javascript\">\n                require([\"plotly\"], function(Plotly) {\n                    window.PLOTLYENV=window.PLOTLYENV || {};\n                    \n                if (document.getElementById(\"18f76d20-4c2b-467b-b97c-c2d4b28f92fc\")) {\n                    Plotly.newPlot(\n                        '18f76d20-4c2b-467b-b97c-c2d4b28f92fc',\n                        [{\"marker\": {\"color\": \"#0000ff\"}, \"name\": \"Objetivos PI (12 - 80.0%)\", \"type\": \"bar\", \"x\": [\"Objetivos PI\"], \"y\": [12]}, {\"marker\": {\"color\": \"#ffa500\"}, \"name\": \"Objetivos Stretch (3 - 20.0%)\", \"type\": \"bar\", \"x\": [\"Objetivos Stretch\"], \"y\": [3]}],\n                        {\"template\": {\"data\": {\"bar\": [{\"error_x\": {\"color\": \"#2a3f5f\"}, \"error_y\": {\"color\": \"#2a3f5f\"}, \"marker\": {\"line\": {\"color\": \"#E5ECF6\", \"width\": 0.5}}, \"type\": \"bar\"}], \"barpolar\": [{\"marker\": {\"line\": {\"color\": \"#E5ECF6\", \"width\": 0.5}}, \"type\": \"barpolar\"}], \"carpet\": [{\"aaxis\": {\"endlinecolor\": \"#2a3f5f\", \"gridcolor\": \"white\", \"linecolor\": \"white\", \"minorgridcolor\": \"white\", \"startlinecolor\": \"#2a3f5f\"}, \"baxis\": {\"endlinecolor\": \"#2a3f5f\", \"gridcolor\": \"white\", \"linecolor\": \"white\", \"minorgridcolor\": \"white\", \"startlinecolor\": \"#2a3f5f\"}, \"type\": \"carpet\"}], \"choropleth\": [{\"colorbar\": {\"outlinewidth\": 0, \"ticks\": \"\"}, \"type\": \"choropleth\"}], \"contour\": [{\"colorbar\": {\"outlinewidth\": 0, \"ticks\": \"\"}, \"colorscale\": [[0.0, \"#0d0887\"], [0.1111111111111111, \"#46039f\"], [0.2222222222222222, \"#7201a8\"], [0.3333333333333333, \"#9c179e\"], [0.4444444444444444, \"#bd3786\"], [0.5555555555555556, \"#d8576b\"], [0.6666666666666666, \"#ed7953\"], [0.7777777777777778, \"#fb9f3a\"], [0.8888888888888888, \"#fdca26\"], [1.0, \"#f0f921\"]], \"type\": \"contour\"}], \"contourcarpet\": [{\"colorbar\": {\"outlinewidth\": 0, \"ticks\": \"\"}, \"type\": \"contourcarpet\"}], \"heatmap\": [{\"colorbar\": {\"outlinewidth\": 0, \"ticks\": \"\"}, \"colorscale\": [[0.0, \"#0d0887\"], [0.1111111111111111, \"#46039f\"], [0.2222222222222222, \"#7201a8\"], [0.3333333333333333, \"#9c179e\"], [0.4444444444444444, \"#bd3786\"], [0.5555555555555556, \"#d8576b\"], [0.6666666666666666, \"#ed7953\"], [0.7777777777777778, \"#fb9f3a\"], [0.8888888888888888, \"#fdca26\"], [1.0, \"#f0f921\"]], \"type\": \"heatmap\"}], \"heatmapgl\": [{\"colorbar\": {\"outlinewidth\": 0, \"ticks\": \"\"}, \"colorscale\": [[0.0, \"#0d0887\"], [0.1111111111111111, \"#46039f\"], [0.2222222222222222, \"#7201a8\"], [0.3333333333333333, \"#9c179e\"], [0.4444444444444444, \"#bd3786\"], [0.5555555555555556, \"#d8576b\"], [0.6666666666666666, \"#ed7953\"], [0.7777777777777778, \"#fb9f3a\"], [0.8888888888888888, \"#fdca26\"], [1.0, \"#f0f921\"]], \"type\": \"heatmapgl\"}], \"histogram\": [{\"marker\": {\"colorbar\": {\"outlinewidth\": 0, \"ticks\": \"\"}}, \"type\": \"histogram\"}], \"histogram2d\": [{\"colorbar\": {\"outlinewidth\": 0, \"ticks\": \"\"}, \"colorscale\": [[0.0, \"#0d0887\"], [0.1111111111111111, \"#46039f\"], [0.2222222222222222, \"#7201a8\"], [0.3333333333333333, \"#9c179e\"], [0.4444444444444444, \"#bd3786\"], [0.5555555555555556, \"#d8576b\"], [0.6666666666666666, \"#ed7953\"], [0.7777777777777778, \"#fb9f3a\"], [0.8888888888888888, \"#fdca26\"], [1.0, \"#f0f921\"]], \"type\": \"histogram2d\"}], \"histogram2dcontour\": [{\"colorbar\": {\"outlinewidth\": 0, \"ticks\": \"\"}, \"colorscale\": [[0.0, \"#0d0887\"], [0.1111111111111111, \"#46039f\"], [0.2222222222222222, \"#7201a8\"], [0.3333333333333333, \"#9c179e\"], [0.4444444444444444, \"#bd3786\"], [0.5555555555555556, \"#d8576b\"], [0.6666666666666666, \"#ed7953\"], [0.7777777777777778, \"#fb9f3a\"], [0.8888888888888888, \"#fdca26\"], [1.0, \"#f0f921\"]], \"type\": \"histogram2dcontour\"}], \"mesh3d\": [{\"colorbar\": {\"outlinewidth\": 0, \"ticks\": \"\"}, \"type\": \"mesh3d\"}], \"parcoords\": [{\"line\": {\"colorbar\": {\"outlinewidth\": 0, \"ticks\": \"\"}}, \"type\": \"parcoords\"}], \"pie\": [{\"automargin\": true, \"type\": \"pie\"}], \"scatter\": [{\"marker\": {\"colorbar\": {\"outlinewidth\": 0, \"ticks\": \"\"}}, \"type\": \"scatter\"}], \"scatter3d\": [{\"line\": {\"colorbar\": {\"outlinewidth\": 0, \"ticks\": \"\"}}, \"marker\": {\"colorbar\": {\"outlinewidth\": 0, \"ticks\": \"\"}}, \"type\": \"scatter3d\"}], \"scattercarpet\": [{\"marker\": {\"colorbar\": {\"outlinewidth\": 0, \"ticks\": \"\"}}, \"type\": \"scattercarpet\"}], \"scattergeo\": [{\"marker\": {\"colorbar\": {\"outlinewidth\": 0, \"ticks\": \"\"}}, \"type\": \"scattergeo\"}], \"scattergl\": [{\"marker\": {\"colorbar\": {\"outlinewidth\": 0, \"ticks\": \"\"}}, \"type\": \"scattergl\"}], \"scattermapbox\": [{\"marker\": {\"colorbar\": {\"outlinewidth\": 0, \"ticks\": \"\"}}, \"type\": \"scattermapbox\"}], \"scatterpolar\": [{\"marker\": {\"colorbar\": {\"outlinewidth\": 0, \"ticks\": \"\"}}, \"type\": \"scatterpolar\"}], \"scatterpolargl\": [{\"marker\": {\"colorbar\": {\"outlinewidth\": 0, \"ticks\": \"\"}}, \"type\": \"scatterpolargl\"}], \"scatterternary\": [{\"marker\": {\"colorbar\": {\"outlinewidth\": 0, \"ticks\": \"\"}}, \"type\": \"scatterternary\"}], \"surface\": [{\"colorbar\": {\"outlinewidth\": 0, \"ticks\": \"\"}, \"colorscale\": [[0.0, \"#0d0887\"], [0.1111111111111111, \"#46039f\"], [0.2222222222222222, \"#7201a8\"], [0.3333333333333333, \"#9c179e\"], [0.4444444444444444, \"#bd3786\"], [0.5555555555555556, \"#d8576b\"], [0.6666666666666666, \"#ed7953\"], [0.7777777777777778, \"#fb9f3a\"], [0.8888888888888888, \"#fdca26\"], [1.0, \"#f0f921\"]], \"type\": \"surface\"}], \"table\": [{\"cells\": {\"fill\": {\"color\": \"#EBF0F8\"}, \"line\": {\"color\": \"white\"}}, \"header\": {\"fill\": {\"color\": \"#C8D4E3\"}, \"line\": {\"color\": \"white\"}}, \"type\": \"table\"}]}, \"layout\": {\"annotationdefaults\": {\"arrowcolor\": \"#2a3f5f\", \"arrowhead\": 0, \"arrowwidth\": 1}, \"coloraxis\": {\"colorbar\": {\"outlinewidth\": 0, \"ticks\": \"\"}}, \"colorscale\": {\"diverging\": [[0, \"#8e0152\"], [0.1, \"#c51b7d\"], [0.2, \"#de77ae\"], [0.3, \"#f1b6da\"], [0.4, \"#fde0ef\"], [0.5, \"#f7f7f7\"], [0.6, \"#e6f5d0\"], [0.7, \"#b8e186\"], [0.8, \"#7fbc41\"], [0.9, \"#4d9221\"], [1, \"#276419\"]], \"sequential\": [[0.0, \"#0d0887\"], [0.1111111111111111, \"#46039f\"], [0.2222222222222222, \"#7201a8\"], [0.3333333333333333, \"#9c179e\"], [0.4444444444444444, \"#bd3786\"], [0.5555555555555556, \"#d8576b\"], [0.6666666666666666, \"#ed7953\"], [0.7777777777777778, \"#fb9f3a\"], [0.8888888888888888, \"#fdca26\"], [1.0, \"#f0f921\"]], \"sequentialminus\": [[0.0, \"#0d0887\"], [0.1111111111111111, \"#46039f\"], [0.2222222222222222, \"#7201a8\"], [0.3333333333333333, \"#9c179e\"], [0.4444444444444444, \"#bd3786\"], [0.5555555555555556, \"#d8576b\"], [0.6666666666666666, \"#ed7953\"], [0.7777777777777778, \"#fb9f3a\"], [0.8888888888888888, \"#fdca26\"], [1.0, \"#f0f921\"]]}, \"colorway\": [\"#636efa\", \"#EF553B\", \"#00cc96\", \"#ab63fa\", \"#FFA15A\", \"#19d3f3\", \"#FF6692\", \"#B6E880\", \"#FF97FF\", \"#FECB52\"], \"font\": {\"color\": \"#2a3f5f\"}, \"geo\": {\"bgcolor\": \"white\", \"lakecolor\": \"white\", \"landcolor\": \"#E5ECF6\", \"showlakes\": true, \"showland\": true, \"subunitcolor\": \"white\"}, \"hoverlabel\": {\"align\": \"left\"}, \"hovermode\": \"closest\", \"mapbox\": {\"style\": \"light\"}, \"paper_bgcolor\": \"white\", \"plot_bgcolor\": \"#E5ECF6\", \"polar\": {\"angularaxis\": {\"gridcolor\": \"white\", \"linecolor\": \"white\", \"ticks\": \"\"}, \"bgcolor\": \"#E5ECF6\", \"radialaxis\": {\"gridcolor\": \"white\", \"linecolor\": \"white\", \"ticks\": \"\"}}, \"scene\": {\"xaxis\": {\"backgroundcolor\": \"#E5ECF6\", \"gridcolor\": \"white\", \"gridwidth\": 2, \"linecolor\": \"white\", \"showbackground\": true, \"ticks\": \"\", \"zerolinecolor\": \"white\"}, \"yaxis\": {\"backgroundcolor\": \"#E5ECF6\", \"gridcolor\": \"white\", \"gridwidth\": 2, \"linecolor\": \"white\", \"showbackground\": true, \"ticks\": \"\", \"zerolinecolor\": \"white\"}, \"zaxis\": {\"backgroundcolor\": \"#E5ECF6\", \"gridcolor\": \"white\", \"gridwidth\": 2, \"linecolor\": \"white\", \"showbackground\": true, \"ticks\": \"\", \"zerolinecolor\": \"white\"}}, \"shapedefaults\": {\"line\": {\"color\": \"#2a3f5f\"}}, \"ternary\": {\"aaxis\": {\"gridcolor\": \"white\", \"linecolor\": \"white\", \"ticks\": \"\"}, \"baxis\": {\"gridcolor\": \"white\", \"linecolor\": \"white\", \"ticks\": \"\"}, \"bgcolor\": \"#E5ECF6\", \"caxis\": {\"gridcolor\": \"white\", \"linecolor\": \"white\", \"ticks\": \"\"}}, \"title\": {\"x\": 0.05}, \"xaxis\": {\"automargin\": true, \"gridcolor\": \"white\", \"linecolor\": \"white\", \"ticks\": \"\", \"title\": {\"standoff\": 15}, \"zerolinecolor\": \"white\", \"zerolinewidth\": 2}, \"yaxis\": {\"automargin\": true, \"gridcolor\": \"white\", \"linecolor\": \"white\", \"ticks\": \"\", \"title\": {\"standoff\": 15}, \"zerolinecolor\": \"white\", \"zerolinewidth\": 2}}}, \"title\": {\"text\": \"Objetivos da PI11\"}, \"xaxis\": {\"title\": {\"text\": \"Tipos de Objetivos\"}}, \"yaxis\": {\"title\": {\"text\": \"Quantidade de Objetivos\"}}},\n                        {\"responsive\": true}\n                    ).then(function(){\n                            \nvar gd = document.getElementById('18f76d20-4c2b-467b-b97c-c2d4b28f92fc');\nvar x = new MutationObserver(function (mutations, observer) {{\n        var display = window.getComputedStyle(gd).display;\n        if (!display || display === 'none') {{\n            console.log([gd, 'removed!']);\n            Plotly.purge(gd);\n            observer.disconnect();\n        }}\n}});\n\n// Listen for the removal of the full notebook cells\nvar notebookContainer = gd.closest('#notebook-container');\nif (notebookContainer) {{\n    x.observe(notebookContainer, {childList: true});\n}}\n\n// Listen for the clearing of the current output cell\nvar outputEl = gd.closest('.output');\nif (outputEl) {{\n    x.observe(outputEl, {childList: true});\n}}\n\n                        })\n                };\n                });\n            </script>\n        </div>"
     },
     "metadata": {}
    }
   ],
   "source": []
  },
  {
   "cell_type": "code",
   "execution_count": 137,
   "metadata": {},
   "outputs": [
    {
     "output_type": "display_data",
     "data": {
      "text/plain": "<Figure size 432x288 with 1 Axes>",
      "image/svg+xml": "<?xml version=\"1.0\" encoding=\"utf-8\" standalone=\"no\"?>\r\n<!DOCTYPE svg PUBLIC \"-//W3C//DTD SVG 1.1//EN\"\r\n  \"http://www.w3.org/Graphics/SVG/1.1/DTD/svg11.dtd\">\r\n<!-- Created with matplotlib (https://matplotlib.org/) -->\r\n<svg height=\"262.19625pt\" version=\"1.1\" viewBox=\"0 0 540.171875 262.19625\" width=\"540.171875pt\" xmlns=\"http://www.w3.org/2000/svg\" xmlns:xlink=\"http://www.w3.org/1999/xlink\">\r\n <defs>\r\n  <style type=\"text/css\">\r\n*{stroke-linecap:butt;stroke-linejoin:round;}\r\n  </style>\r\n </defs>\r\n <g id=\"figure_1\">\r\n  <g id=\"patch_1\">\r\n   <path d=\"M 0 262.19625 \r\nL 540.171875 262.19625 \r\nL 540.171875 0 \r\nL 0 0 \r\nz\r\n\" style=\"fill:none;\"/>\r\n  </g>\r\n  <g id=\"axes_1\">\r\n   <g id=\"patch_2\">\r\n    <path d=\"M 198.171875 224.64 \r\nL 532.971875 224.64 \r\nL 532.971875 7.2 \r\nL 198.171875 7.2 \r\nz\r\n\" style=\"fill:#ffffff;\"/>\r\n   </g>\r\n   <g id=\"patch_3\">\r\n    <path clip-path=\"url(#p6fd94c3d1e)\" d=\"M 198.171875 214.756364 \r\nL 300.206161 214.756364 \r\nL 300.206161 204.071351 \r\nL 198.171875 204.071351 \r\nz\r\n\" style=\"fill:#1f77b4;\"/>\r\n   </g>\r\n   <g id=\"patch_4\">\r\n    <path clip-path=\"url(#p6fd94c3d1e)\" d=\"M 198.171875 201.400098 \r\nL 363.977589 201.400098 \r\nL 363.977589 190.715086 \r\nL 198.171875 190.715086 \r\nz\r\n\" style=\"fill:#1f77b4;\"/>\r\n   </g>\r\n   <g id=\"patch_5\">\r\n    <path clip-path=\"url(#p6fd94c3d1e)\" d=\"M 198.171875 188.043833 \r\nL 274.697589 188.043833 \r\nL 274.697589 177.358821 \r\nL 198.171875 177.358821 \r\nz\r\n\" style=\"fill:#1f77b4;\"/>\r\n   </g>\r\n   <g id=\"patch_6\">\r\n    <path clip-path=\"url(#p6fd94c3d1e)\" d=\"M 198.171875 174.687568 \r\nL 300.206161 174.687568 \r\nL 300.206161 164.002555 \r\nL 198.171875 164.002555 \r\nz\r\n\" style=\"fill:#1f77b4;\"/>\r\n   </g>\r\n   <g id=\"patch_7\">\r\n    <path clip-path=\"url(#p6fd94c3d1e)\" d=\"M 198.171875 161.331302 \r\nL 517.029018 161.331302 \r\nL 517.029018 150.64629 \r\nL 198.171875 150.64629 \r\nz\r\n\" style=\"fill:#1f77b4;\"/>\r\n   </g>\r\n   <g id=\"patch_8\">\r\n    <path clip-path=\"url(#p6fd94c3d1e)\" d=\"M 198.171875 147.975037 \r\nL 236.434732 147.975037 \r\nL 236.434732 137.290025 \r\nL 198.171875 137.290025 \r\nz\r\n\" style=\"fill:#1f77b4;\"/>\r\n   </g>\r\n   <g id=\"patch_9\">\r\n    <path clip-path=\"url(#p6fd94c3d1e)\" d=\"M 198.171875 134.618771 \r\nL 210.926161 134.618771 \r\nL 210.926161 123.933759 \r\nL 198.171875 123.933759 \r\nz\r\n\" style=\"fill:#1f77b4;\"/>\r\n   </g>\r\n   <g id=\"patch_10\">\r\n    <path clip-path=\"url(#p6fd94c3d1e)\" d=\"M 198.171875 121.262506 \r\nL 261.943304 121.262506 \r\nL 261.943304 110.577494 \r\nL 198.171875 110.577494 \r\nz\r\n\" style=\"fill:#1f77b4;\"/>\r\n   </g>\r\n   <g id=\"patch_11\">\r\n    <path clip-path=\"url(#p6fd94c3d1e)\" d=\"M 198.171875 107.906241 \r\nL 236.434732 107.906241 \r\nL 236.434732 97.221229 \r\nL 198.171875 97.221229 \r\nz\r\n\" style=\"fill:#1f77b4;\"/>\r\n   </g>\r\n   <g id=\"patch_12\">\r\n    <path clip-path=\"url(#p6fd94c3d1e)\" d=\"M 198.171875 94.549975 \r\nL 261.943304 94.549975 \r\nL 261.943304 83.864963 \r\nL 198.171875 83.864963 \r\nz\r\n\" style=\"fill:#1f77b4;\"/>\r\n   </g>\r\n   <g id=\"patch_13\">\r\n    <path clip-path=\"url(#p6fd94c3d1e)\" d=\"M 198.171875 81.19371 \r\nL 210.926161 81.19371 \r\nL 210.926161 70.508698 \r\nL 198.171875 70.508698 \r\nz\r\n\" style=\"fill:#1f77b4;\"/>\r\n   </g>\r\n   <g id=\"patch_14\">\r\n    <path clip-path=\"url(#p6fd94c3d1e)\" d=\"M 198.171875 67.837445 \r\nL 210.926161 67.837445 \r\nL 210.926161 57.152432 \r\nL 198.171875 57.152432 \r\nz\r\n\" style=\"fill:#1f77b4;\"/>\r\n   </g>\r\n   <g id=\"patch_15\">\r\n    <path clip-path=\"url(#p6fd94c3d1e)\" d=\"M 198.171875 54.481179 \r\nL 210.926161 54.481179 \r\nL 210.926161 43.796167 \r\nL 198.171875 43.796167 \r\nz\r\n\" style=\"fill:#1f77b4;\"/>\r\n   </g>\r\n   <g id=\"patch_16\">\r\n    <path clip-path=\"url(#p6fd94c3d1e)\" d=\"M 198.171875 41.124914 \r\nL 210.926161 41.124914 \r\nL 210.926161 30.439902 \r\nL 198.171875 30.439902 \r\nz\r\n\" style=\"fill:#1f77b4;\"/>\r\n   </g>\r\n   <g id=\"patch_17\">\r\n    <path clip-path=\"url(#p6fd94c3d1e)\" d=\"M 198.171875 27.768649 \r\nL 223.680446 27.768649 \r\nL 223.680446 17.083636 \r\nL 198.171875 17.083636 \r\nz\r\n\" style=\"fill:#1f77b4;\"/>\r\n   </g>\r\n   <g id=\"patch_18\">\r\n    <path clip-path=\"url(#p6fd94c3d1e)\" d=\"M 198.171875 214.756364 \r\nL 223.680446 214.756364 \r\nL 223.680446 204.071351 \r\nL 198.171875 204.071351 \r\nz\r\n\" style=\"fill:#ff7f0e;\"/>\r\n   </g>\r\n   <g id=\"patch_19\">\r\n    <path clip-path=\"url(#p6fd94c3d1e)\" d=\"M 198.171875 201.400098 \r\nL 236.434732 201.400098 \r\nL 236.434732 190.715086 \r\nL 198.171875 190.715086 \r\nz\r\n\" style=\"fill:#ff7f0e;\"/>\r\n   </g>\r\n   <g id=\"patch_20\">\r\n    <path clip-path=\"url(#p6fd94c3d1e)\" d=\"M 198.171875 188.043833 \r\nL 223.680446 188.043833 \r\nL 223.680446 177.358821 \r\nL 198.171875 177.358821 \r\nz\r\n\" style=\"fill:#ff7f0e;\"/>\r\n   </g>\r\n   <g id=\"patch_21\">\r\n    <path clip-path=\"url(#p6fd94c3d1e)\" d=\"M 198.171875 174.687568 \r\nL 236.434732 174.687568 \r\nL 236.434732 164.002555 \r\nL 198.171875 164.002555 \r\nz\r\n\" style=\"fill:#ff7f0e;\"/>\r\n   </g>\r\n   <g id=\"patch_22\">\r\n    <path clip-path=\"url(#p6fd94c3d1e)\" d=\"M 198.171875 161.331302 \r\nL 287.451875 161.331302 \r\nL 287.451875 150.64629 \r\nL 198.171875 150.64629 \r\nz\r\n\" style=\"fill:#ff7f0e;\"/>\r\n   </g>\r\n   <g id=\"patch_23\">\r\n    <path clip-path=\"url(#p6fd94c3d1e)\" d=\"M 198.171875 147.975037 \r\nL 198.171875 147.975037 \r\nL 198.171875 137.290025 \r\nL 198.171875 137.290025 \r\nz\r\n\" style=\"fill:#ff7f0e;\"/>\r\n   </g>\r\n   <g id=\"patch_24\">\r\n    <path clip-path=\"url(#p6fd94c3d1e)\" d=\"M 198.171875 134.618771 \r\nL 198.171875 134.618771 \r\nL 198.171875 123.933759 \r\nL 198.171875 123.933759 \r\nz\r\n\" style=\"fill:#ff7f0e;\"/>\r\n   </g>\r\n   <g id=\"patch_25\">\r\n    <path clip-path=\"url(#p6fd94c3d1e)\" d=\"M 198.171875 121.262506 \r\nL 198.171875 121.262506 \r\nL 198.171875 110.577494 \r\nL 198.171875 110.577494 \r\nz\r\n\" style=\"fill:#ff7f0e;\"/>\r\n   </g>\r\n   <g id=\"patch_26\">\r\n    <path clip-path=\"url(#p6fd94c3d1e)\" d=\"M 198.171875 107.906241 \r\nL 198.171875 107.906241 \r\nL 198.171875 97.221229 \r\nL 198.171875 97.221229 \r\nz\r\n\" style=\"fill:#ff7f0e;\"/>\r\n   </g>\r\n   <g id=\"patch_27\">\r\n    <path clip-path=\"url(#p6fd94c3d1e)\" d=\"M 198.171875 94.549975 \r\nL 210.926161 94.549975 \r\nL 210.926161 83.864963 \r\nL 198.171875 83.864963 \r\nz\r\n\" style=\"fill:#ff7f0e;\"/>\r\n   </g>\r\n   <g id=\"patch_28\">\r\n    <path clip-path=\"url(#p6fd94c3d1e)\" d=\"M 198.171875 81.19371 \r\nL 198.171875 81.19371 \r\nL 198.171875 70.508698 \r\nL 198.171875 70.508698 \r\nz\r\n\" style=\"fill:#ff7f0e;\"/>\r\n   </g>\r\n   <g id=\"patch_29\">\r\n    <path clip-path=\"url(#p6fd94c3d1e)\" d=\"M 198.171875 67.837445 \r\nL 198.171875 67.837445 \r\nL 198.171875 57.152432 \r\nL 198.171875 57.152432 \r\nz\r\n\" style=\"fill:#ff7f0e;\"/>\r\n   </g>\r\n   <g id=\"patch_30\">\r\n    <path clip-path=\"url(#p6fd94c3d1e)\" d=\"M 198.171875 54.481179 \r\nL 198.171875 54.481179 \r\nL 198.171875 43.796167 \r\nL 198.171875 43.796167 \r\nz\r\n\" style=\"fill:#ff7f0e;\"/>\r\n   </g>\r\n   <g id=\"patch_31\">\r\n    <path clip-path=\"url(#p6fd94c3d1e)\" d=\"M 198.171875 41.124914 \r\nL 198.171875 41.124914 \r\nL 198.171875 30.439902 \r\nL 198.171875 30.439902 \r\nz\r\n\" style=\"fill:#ff7f0e;\"/>\r\n   </g>\r\n   <g id=\"patch_32\">\r\n    <path clip-path=\"url(#p6fd94c3d1e)\" d=\"M 198.171875 27.768649 \r\nL 198.171875 27.768649 \r\nL 198.171875 17.083636 \r\nL 198.171875 17.083636 \r\nz\r\n\" style=\"fill:#ff7f0e;\"/>\r\n   </g>\r\n   <g id=\"matplotlib.axis_1\">\r\n    <g id=\"xtick_1\">\r\n     <g id=\"line2d_1\">\r\n      <defs>\r\n       <path d=\"M 0 0 \r\nL 0 3.5 \r\n\" id=\"m9626b8263f\" style=\"stroke:#000000;stroke-width:0.8;\"/>\r\n      </defs>\r\n      <g>\r\n       <use style=\"stroke:#000000;stroke-width:0.8;\" x=\"198.171875\" xlink:href=\"#m9626b8263f\" y=\"224.64\"/>\r\n      </g>\r\n     </g>\r\n     <g id=\"text_1\">\r\n      <!-- 0 -->\r\n      <defs>\r\n       <path d=\"M 31.78125 66.40625 \r\nQ 24.171875 66.40625 20.328125 58.90625 \r\nQ 16.5 51.421875 16.5 36.375 \r\nQ 16.5 21.390625 20.328125 13.890625 \r\nQ 24.171875 6.390625 31.78125 6.390625 \r\nQ 39.453125 6.390625 43.28125 13.890625 \r\nQ 47.125 21.390625 47.125 36.375 \r\nQ 47.125 51.421875 43.28125 58.90625 \r\nQ 39.453125 66.40625 31.78125 66.40625 \r\nz\r\nM 31.78125 74.21875 \r\nQ 44.046875 74.21875 50.515625 64.515625 \r\nQ 56.984375 54.828125 56.984375 36.375 \r\nQ 56.984375 17.96875 50.515625 8.265625 \r\nQ 44.046875 -1.421875 31.78125 -1.421875 \r\nQ 19.53125 -1.421875 13.0625 8.265625 \r\nQ 6.59375 17.96875 6.59375 36.375 \r\nQ 6.59375 54.828125 13.0625 64.515625 \r\nQ 19.53125 74.21875 31.78125 74.21875 \r\nz\r\n\" id=\"DejaVuSans-48\"/>\r\n      </defs>\r\n      <g transform=\"translate(194.990625 239.238437)scale(0.1 -0.1)\">\r\n       <use xlink:href=\"#DejaVuSans-48\"/>\r\n      </g>\r\n     </g>\r\n    </g>\r\n    <g id=\"xtick_2\">\r\n     <g id=\"line2d_2\">\r\n      <g>\r\n       <use style=\"stroke:#000000;stroke-width:0.8;\" x=\"261.943304\" xlink:href=\"#m9626b8263f\" y=\"224.64\"/>\r\n      </g>\r\n     </g>\r\n     <g id=\"text_2\">\r\n      <!-- 5 -->\r\n      <defs>\r\n       <path d=\"M 10.796875 72.90625 \r\nL 49.515625 72.90625 \r\nL 49.515625 64.59375 \r\nL 19.828125 64.59375 \r\nL 19.828125 46.734375 \r\nQ 21.96875 47.46875 24.109375 47.828125 \r\nQ 26.265625 48.1875 28.421875 48.1875 \r\nQ 40.625 48.1875 47.75 41.5 \r\nQ 54.890625 34.8125 54.890625 23.390625 \r\nQ 54.890625 11.625 47.5625 5.09375 \r\nQ 40.234375 -1.421875 26.90625 -1.421875 \r\nQ 22.3125 -1.421875 17.546875 -0.640625 \r\nQ 12.796875 0.140625 7.71875 1.703125 \r\nL 7.71875 11.625 \r\nQ 12.109375 9.234375 16.796875 8.0625 \r\nQ 21.484375 6.890625 26.703125 6.890625 \r\nQ 35.15625 6.890625 40.078125 11.328125 \r\nQ 45.015625 15.765625 45.015625 23.390625 \r\nQ 45.015625 31 40.078125 35.4375 \r\nQ 35.15625 39.890625 26.703125 39.890625 \r\nQ 22.75 39.890625 18.8125 39.015625 \r\nQ 14.890625 38.140625 10.796875 36.28125 \r\nz\r\n\" id=\"DejaVuSans-53\"/>\r\n      </defs>\r\n      <g transform=\"translate(258.762054 239.238437)scale(0.1 -0.1)\">\r\n       <use xlink:href=\"#DejaVuSans-53\"/>\r\n      </g>\r\n     </g>\r\n    </g>\r\n    <g id=\"xtick_3\">\r\n     <g id=\"line2d_3\">\r\n      <g>\r\n       <use style=\"stroke:#000000;stroke-width:0.8;\" x=\"325.714732\" xlink:href=\"#m9626b8263f\" y=\"224.64\"/>\r\n      </g>\r\n     </g>\r\n     <g id=\"text_3\">\r\n      <!-- 10 -->\r\n      <defs>\r\n       <path d=\"M 12.40625 8.296875 \r\nL 28.515625 8.296875 \r\nL 28.515625 63.921875 \r\nL 10.984375 60.40625 \r\nL 10.984375 69.390625 \r\nL 28.421875 72.90625 \r\nL 38.28125 72.90625 \r\nL 38.28125 8.296875 \r\nL 54.390625 8.296875 \r\nL 54.390625 0 \r\nL 12.40625 0 \r\nz\r\n\" id=\"DejaVuSans-49\"/>\r\n      </defs>\r\n      <g transform=\"translate(319.352232 239.238437)scale(0.1 -0.1)\">\r\n       <use xlink:href=\"#DejaVuSans-49\"/>\r\n       <use x=\"63.623047\" xlink:href=\"#DejaVuSans-48\"/>\r\n      </g>\r\n     </g>\r\n    </g>\r\n    <g id=\"xtick_4\">\r\n     <g id=\"line2d_4\">\r\n      <g>\r\n       <use style=\"stroke:#000000;stroke-width:0.8;\" x=\"389.486161\" xlink:href=\"#m9626b8263f\" y=\"224.64\"/>\r\n      </g>\r\n     </g>\r\n     <g id=\"text_4\">\r\n      <!-- 15 -->\r\n      <g transform=\"translate(383.123661 239.238437)scale(0.1 -0.1)\">\r\n       <use xlink:href=\"#DejaVuSans-49\"/>\r\n       <use x=\"63.623047\" xlink:href=\"#DejaVuSans-53\"/>\r\n      </g>\r\n     </g>\r\n    </g>\r\n    <g id=\"xtick_5\">\r\n     <g id=\"line2d_5\">\r\n      <g>\r\n       <use style=\"stroke:#000000;stroke-width:0.8;\" x=\"453.257589\" xlink:href=\"#m9626b8263f\" y=\"224.64\"/>\r\n      </g>\r\n     </g>\r\n     <g id=\"text_5\">\r\n      <!-- 20 -->\r\n      <defs>\r\n       <path d=\"M 19.1875 8.296875 \r\nL 53.609375 8.296875 \r\nL 53.609375 0 \r\nL 7.328125 0 \r\nL 7.328125 8.296875 \r\nQ 12.9375 14.109375 22.625 23.890625 \r\nQ 32.328125 33.6875 34.8125 36.53125 \r\nQ 39.546875 41.84375 41.421875 45.53125 \r\nQ 43.3125 49.21875 43.3125 52.78125 \r\nQ 43.3125 58.59375 39.234375 62.25 \r\nQ 35.15625 65.921875 28.609375 65.921875 \r\nQ 23.96875 65.921875 18.8125 64.3125 \r\nQ 13.671875 62.703125 7.8125 59.421875 \r\nL 7.8125 69.390625 \r\nQ 13.765625 71.78125 18.9375 73 \r\nQ 24.125 74.21875 28.421875 74.21875 \r\nQ 39.75 74.21875 46.484375 68.546875 \r\nQ 53.21875 62.890625 53.21875 53.421875 \r\nQ 53.21875 48.921875 51.53125 44.890625 \r\nQ 49.859375 40.875 45.40625 35.40625 \r\nQ 44.1875 33.984375 37.640625 27.21875 \r\nQ 31.109375 20.453125 19.1875 8.296875 \r\nz\r\n\" id=\"DejaVuSans-50\"/>\r\n      </defs>\r\n      <g transform=\"translate(446.895089 239.238437)scale(0.1 -0.1)\">\r\n       <use xlink:href=\"#DejaVuSans-50\"/>\r\n       <use x=\"63.623047\" xlink:href=\"#DejaVuSans-48\"/>\r\n      </g>\r\n     </g>\r\n    </g>\r\n    <g id=\"xtick_6\">\r\n     <g id=\"line2d_6\">\r\n      <g>\r\n       <use style=\"stroke:#000000;stroke-width:0.8;\" x=\"517.029018\" xlink:href=\"#m9626b8263f\" y=\"224.64\"/>\r\n      </g>\r\n     </g>\r\n     <g id=\"text_6\">\r\n      <!-- 25 -->\r\n      <g transform=\"translate(510.666518 239.238437)scale(0.1 -0.1)\">\r\n       <use xlink:href=\"#DejaVuSans-50\"/>\r\n       <use x=\"63.623047\" xlink:href=\"#DejaVuSans-53\"/>\r\n      </g>\r\n     </g>\r\n    </g>\r\n    <g id=\"text_7\">\r\n     <!-- Quantidade de Histórias -->\r\n     <defs>\r\n      <path d=\"M 39.40625 66.21875 \r\nQ 28.65625 66.21875 22.328125 58.203125 \r\nQ 16.015625 50.203125 16.015625 36.375 \r\nQ 16.015625 22.609375 22.328125 14.59375 \r\nQ 28.65625 6.59375 39.40625 6.59375 \r\nQ 50.140625 6.59375 56.421875 14.59375 \r\nQ 62.703125 22.609375 62.703125 36.375 \r\nQ 62.703125 50.203125 56.421875 58.203125 \r\nQ 50.140625 66.21875 39.40625 66.21875 \r\nz\r\nM 53.21875 1.3125 \r\nL 66.21875 -12.890625 \r\nL 54.296875 -12.890625 \r\nL 43.5 -1.21875 \r\nQ 41.890625 -1.3125 41.03125 -1.359375 \r\nQ 40.1875 -1.421875 39.40625 -1.421875 \r\nQ 24.03125 -1.421875 14.8125 8.859375 \r\nQ 5.609375 19.140625 5.609375 36.375 \r\nQ 5.609375 53.65625 14.8125 63.9375 \r\nQ 24.03125 74.21875 39.40625 74.21875 \r\nQ 54.734375 74.21875 63.90625 63.9375 \r\nQ 73.09375 53.65625 73.09375 36.375 \r\nQ 73.09375 23.6875 67.984375 14.640625 \r\nQ 62.890625 5.609375 53.21875 1.3125 \r\nz\r\n\" id=\"DejaVuSans-81\"/>\r\n      <path d=\"M 8.5 21.578125 \r\nL 8.5 54.6875 \r\nL 17.484375 54.6875 \r\nL 17.484375 21.921875 \r\nQ 17.484375 14.15625 20.5 10.265625 \r\nQ 23.53125 6.390625 29.59375 6.390625 \r\nQ 36.859375 6.390625 41.078125 11.03125 \r\nQ 45.3125 15.671875 45.3125 23.6875 \r\nL 45.3125 54.6875 \r\nL 54.296875 54.6875 \r\nL 54.296875 0 \r\nL 45.3125 0 \r\nL 45.3125 8.40625 \r\nQ 42.046875 3.421875 37.71875 1 \r\nQ 33.40625 -1.421875 27.6875 -1.421875 \r\nQ 18.265625 -1.421875 13.375 4.4375 \r\nQ 8.5 10.296875 8.5 21.578125 \r\nz\r\nM 31.109375 56 \r\nz\r\n\" id=\"DejaVuSans-117\"/>\r\n      <path d=\"M 34.28125 27.484375 \r\nQ 23.390625 27.484375 19.1875 25 \r\nQ 14.984375 22.515625 14.984375 16.5 \r\nQ 14.984375 11.71875 18.140625 8.90625 \r\nQ 21.296875 6.109375 26.703125 6.109375 \r\nQ 34.1875 6.109375 38.703125 11.40625 \r\nQ 43.21875 16.703125 43.21875 25.484375 \r\nL 43.21875 27.484375 \r\nz\r\nM 52.203125 31.203125 \r\nL 52.203125 0 \r\nL 43.21875 0 \r\nL 43.21875 8.296875 \r\nQ 40.140625 3.328125 35.546875 0.953125 \r\nQ 30.953125 -1.421875 24.3125 -1.421875 \r\nQ 15.921875 -1.421875 10.953125 3.296875 \r\nQ 6 8.015625 6 15.921875 \r\nQ 6 25.140625 12.171875 29.828125 \r\nQ 18.359375 34.515625 30.609375 34.515625 \r\nL 43.21875 34.515625 \r\nL 43.21875 35.40625 \r\nQ 43.21875 41.609375 39.140625 45 \r\nQ 35.0625 48.390625 27.6875 48.390625 \r\nQ 23 48.390625 18.546875 47.265625 \r\nQ 14.109375 46.140625 10.015625 43.890625 \r\nL 10.015625 52.203125 \r\nQ 14.9375 54.109375 19.578125 55.046875 \r\nQ 24.21875 56 28.609375 56 \r\nQ 40.484375 56 46.34375 49.84375 \r\nQ 52.203125 43.703125 52.203125 31.203125 \r\nz\r\n\" id=\"DejaVuSans-97\"/>\r\n      <path d=\"M 54.890625 33.015625 \r\nL 54.890625 0 \r\nL 45.90625 0 \r\nL 45.90625 32.71875 \r\nQ 45.90625 40.484375 42.875 44.328125 \r\nQ 39.84375 48.1875 33.796875 48.1875 \r\nQ 26.515625 48.1875 22.3125 43.546875 \r\nQ 18.109375 38.921875 18.109375 30.90625 \r\nL 18.109375 0 \r\nL 9.078125 0 \r\nL 9.078125 54.6875 \r\nL 18.109375 54.6875 \r\nL 18.109375 46.1875 \r\nQ 21.34375 51.125 25.703125 53.5625 \r\nQ 30.078125 56 35.796875 56 \r\nQ 45.21875 56 50.046875 50.171875 \r\nQ 54.890625 44.34375 54.890625 33.015625 \r\nz\r\n\" id=\"DejaVuSans-110\"/>\r\n      <path d=\"M 18.3125 70.21875 \r\nL 18.3125 54.6875 \r\nL 36.8125 54.6875 \r\nL 36.8125 47.703125 \r\nL 18.3125 47.703125 \r\nL 18.3125 18.015625 \r\nQ 18.3125 11.328125 20.140625 9.421875 \r\nQ 21.96875 7.515625 27.59375 7.515625 \r\nL 36.8125 7.515625 \r\nL 36.8125 0 \r\nL 27.59375 0 \r\nQ 17.1875 0 13.234375 3.875 \r\nQ 9.28125 7.765625 9.28125 18.015625 \r\nL 9.28125 47.703125 \r\nL 2.6875 47.703125 \r\nL 2.6875 54.6875 \r\nL 9.28125 54.6875 \r\nL 9.28125 70.21875 \r\nz\r\n\" id=\"DejaVuSans-116\"/>\r\n      <path d=\"M 9.421875 54.6875 \r\nL 18.40625 54.6875 \r\nL 18.40625 0 \r\nL 9.421875 0 \r\nz\r\nM 9.421875 75.984375 \r\nL 18.40625 75.984375 \r\nL 18.40625 64.59375 \r\nL 9.421875 64.59375 \r\nz\r\n\" id=\"DejaVuSans-105\"/>\r\n      <path d=\"M 45.40625 46.390625 \r\nL 45.40625 75.984375 \r\nL 54.390625 75.984375 \r\nL 54.390625 0 \r\nL 45.40625 0 \r\nL 45.40625 8.203125 \r\nQ 42.578125 3.328125 38.25 0.953125 \r\nQ 33.9375 -1.421875 27.875 -1.421875 \r\nQ 17.96875 -1.421875 11.734375 6.484375 \r\nQ 5.515625 14.40625 5.515625 27.296875 \r\nQ 5.515625 40.1875 11.734375 48.09375 \r\nQ 17.96875 56 27.875 56 \r\nQ 33.9375 56 38.25 53.625 \r\nQ 42.578125 51.265625 45.40625 46.390625 \r\nz\r\nM 14.796875 27.296875 \r\nQ 14.796875 17.390625 18.875 11.75 \r\nQ 22.953125 6.109375 30.078125 6.109375 \r\nQ 37.203125 6.109375 41.296875 11.75 \r\nQ 45.40625 17.390625 45.40625 27.296875 \r\nQ 45.40625 37.203125 41.296875 42.84375 \r\nQ 37.203125 48.484375 30.078125 48.484375 \r\nQ 22.953125 48.484375 18.875 42.84375 \r\nQ 14.796875 37.203125 14.796875 27.296875 \r\nz\r\n\" id=\"DejaVuSans-100\"/>\r\n      <path d=\"M 56.203125 29.59375 \r\nL 56.203125 25.203125 \r\nL 14.890625 25.203125 \r\nQ 15.484375 15.921875 20.484375 11.0625 \r\nQ 25.484375 6.203125 34.421875 6.203125 \r\nQ 39.59375 6.203125 44.453125 7.46875 \r\nQ 49.3125 8.734375 54.109375 11.28125 \r\nL 54.109375 2.78125 \r\nQ 49.265625 0.734375 44.1875 -0.34375 \r\nQ 39.109375 -1.421875 33.890625 -1.421875 \r\nQ 20.796875 -1.421875 13.15625 6.1875 \r\nQ 5.515625 13.8125 5.515625 26.8125 \r\nQ 5.515625 40.234375 12.765625 48.109375 \r\nQ 20.015625 56 32.328125 56 \r\nQ 43.359375 56 49.78125 48.890625 \r\nQ 56.203125 41.796875 56.203125 29.59375 \r\nz\r\nM 47.21875 32.234375 \r\nQ 47.125 39.59375 43.09375 43.984375 \r\nQ 39.0625 48.390625 32.421875 48.390625 \r\nQ 24.90625 48.390625 20.390625 44.140625 \r\nQ 15.875 39.890625 15.1875 32.171875 \r\nz\r\n\" id=\"DejaVuSans-101\"/>\r\n      <path id=\"DejaVuSans-32\"/>\r\n      <path d=\"M 9.8125 72.90625 \r\nL 19.671875 72.90625 \r\nL 19.671875 43.015625 \r\nL 55.515625 43.015625 \r\nL 55.515625 72.90625 \r\nL 65.375 72.90625 \r\nL 65.375 0 \r\nL 55.515625 0 \r\nL 55.515625 34.71875 \r\nL 19.671875 34.71875 \r\nL 19.671875 0 \r\nL 9.8125 0 \r\nz\r\n\" id=\"DejaVuSans-72\"/>\r\n      <path d=\"M 44.28125 53.078125 \r\nL 44.28125 44.578125 \r\nQ 40.484375 46.53125 36.375 47.5 \r\nQ 32.28125 48.484375 27.875 48.484375 \r\nQ 21.1875 48.484375 17.84375 46.4375 \r\nQ 14.5 44.390625 14.5 40.28125 \r\nQ 14.5 37.15625 16.890625 35.375 \r\nQ 19.28125 33.59375 26.515625 31.984375 \r\nL 29.59375 31.296875 \r\nQ 39.15625 29.25 43.1875 25.515625 \r\nQ 47.21875 21.78125 47.21875 15.09375 \r\nQ 47.21875 7.46875 41.1875 3.015625 \r\nQ 35.15625 -1.421875 24.609375 -1.421875 \r\nQ 20.21875 -1.421875 15.453125 -0.5625 \r\nQ 10.6875 0.296875 5.421875 2 \r\nL 5.421875 11.28125 \r\nQ 10.40625 8.6875 15.234375 7.390625 \r\nQ 20.0625 6.109375 24.8125 6.109375 \r\nQ 31.15625 6.109375 34.5625 8.28125 \r\nQ 37.984375 10.453125 37.984375 14.40625 \r\nQ 37.984375 18.0625 35.515625 20.015625 \r\nQ 33.0625 21.96875 24.703125 23.78125 \r\nL 21.578125 24.515625 \r\nQ 13.234375 26.265625 9.515625 29.90625 \r\nQ 5.8125 33.546875 5.8125 39.890625 \r\nQ 5.8125 47.609375 11.28125 51.796875 \r\nQ 16.75 56 26.8125 56 \r\nQ 31.78125 56 36.171875 55.265625 \r\nQ 40.578125 54.546875 44.28125 53.078125 \r\nz\r\n\" id=\"DejaVuSans-115\"/>\r\n      <path d=\"M 30.609375 48.390625 \r\nQ 23.390625 48.390625 19.1875 42.75 \r\nQ 14.984375 37.109375 14.984375 27.296875 \r\nQ 14.984375 17.484375 19.15625 11.84375 \r\nQ 23.34375 6.203125 30.609375 6.203125 \r\nQ 37.796875 6.203125 41.984375 11.859375 \r\nQ 46.1875 17.53125 46.1875 27.296875 \r\nQ 46.1875 37.015625 41.984375 42.703125 \r\nQ 37.796875 48.390625 30.609375 48.390625 \r\nz\r\nM 30.609375 56 \r\nQ 42.328125 56 49.015625 48.375 \r\nQ 55.71875 40.765625 55.71875 27.296875 \r\nQ 55.71875 13.875 49.015625 6.21875 \r\nQ 42.328125 -1.421875 30.609375 -1.421875 \r\nQ 18.84375 -1.421875 12.171875 6.21875 \r\nQ 5.515625 13.875 5.515625 27.296875 \r\nQ 5.515625 40.765625 12.171875 48.375 \r\nQ 18.84375 56 30.609375 56 \r\nz\r\nM 37.40625 79.984375 \r\nL 47.125 79.984375 \r\nL 31.203125 61.625 \r\nL 23.734375 61.625 \r\nz\r\n\" id=\"DejaVuSans-243\"/>\r\n      <path d=\"M 41.109375 46.296875 \r\nQ 39.59375 47.171875 37.8125 47.578125 \r\nQ 36.03125 48 33.890625 48 \r\nQ 26.265625 48 22.1875 43.046875 \r\nQ 18.109375 38.09375 18.109375 28.8125 \r\nL 18.109375 0 \r\nL 9.078125 0 \r\nL 9.078125 54.6875 \r\nL 18.109375 54.6875 \r\nL 18.109375 46.1875 \r\nQ 20.953125 51.171875 25.484375 53.578125 \r\nQ 30.03125 56 36.53125 56 \r\nQ 37.453125 56 38.578125 55.875 \r\nQ 39.703125 55.765625 41.0625 55.515625 \r\nz\r\n\" id=\"DejaVuSans-114\"/>\r\n     </defs>\r\n     <g transform=\"translate(305.080469 252.916562)scale(0.1 -0.1)\">\r\n      <use xlink:href=\"#DejaVuSans-81\"/>\r\n      <use x=\"78.710938\" xlink:href=\"#DejaVuSans-117\"/>\r\n      <use x=\"142.089844\" xlink:href=\"#DejaVuSans-97\"/>\r\n      <use x=\"203.369141\" xlink:href=\"#DejaVuSans-110\"/>\r\n      <use x=\"266.748047\" xlink:href=\"#DejaVuSans-116\"/>\r\n      <use x=\"305.957031\" xlink:href=\"#DejaVuSans-105\"/>\r\n      <use x=\"333.740234\" xlink:href=\"#DejaVuSans-100\"/>\r\n      <use x=\"397.216797\" xlink:href=\"#DejaVuSans-97\"/>\r\n      <use x=\"458.496094\" xlink:href=\"#DejaVuSans-100\"/>\r\n      <use x=\"521.972656\" xlink:href=\"#DejaVuSans-101\"/>\r\n      <use x=\"583.496094\" xlink:href=\"#DejaVuSans-32\"/>\r\n      <use x=\"615.283203\" xlink:href=\"#DejaVuSans-100\"/>\r\n      <use x=\"678.759766\" xlink:href=\"#DejaVuSans-101\"/>\r\n      <use x=\"740.283203\" xlink:href=\"#DejaVuSans-32\"/>\r\n      <use x=\"772.070312\" xlink:href=\"#DejaVuSans-72\"/>\r\n      <use x=\"847.265625\" xlink:href=\"#DejaVuSans-105\"/>\r\n      <use x=\"875.048828\" xlink:href=\"#DejaVuSans-115\"/>\r\n      <use x=\"927.148438\" xlink:href=\"#DejaVuSans-116\"/>\r\n      <use x=\"966.357422\" xlink:href=\"#DejaVuSans-243\"/>\r\n      <use x=\"1027.539062\" xlink:href=\"#DejaVuSans-114\"/>\r\n      <use x=\"1068.652344\" xlink:href=\"#DejaVuSans-105\"/>\r\n      <use x=\"1096.435547\" xlink:href=\"#DejaVuSans-97\"/>\r\n      <use x=\"1157.714844\" xlink:href=\"#DejaVuSans-115\"/>\r\n     </g>\r\n    </g>\r\n   </g>\r\n   <g id=\"matplotlib.axis_2\">\r\n    <g id=\"ytick_1\">\r\n     <g id=\"line2d_7\">\r\n      <defs>\r\n       <path d=\"M 0 0 \r\nL -3.5 0 \r\n\" id=\"m395713c65d\" style=\"stroke:#000000;stroke-width:0.8;\"/>\r\n      </defs>\r\n      <g>\r\n       <use style=\"stroke:#000000;stroke-width:0.8;\" x=\"198.171875\" xlink:href=\"#m395713c65d\" y=\"209.413857\"/>\r\n      </g>\r\n     </g>\r\n     <g id=\"text_8\">\r\n      <!-- OPPI11-RP2859 [Objetivo da PI] -->\r\n      <defs>\r\n       <path d=\"M 39.40625 66.21875 \r\nQ 28.65625 66.21875 22.328125 58.203125 \r\nQ 16.015625 50.203125 16.015625 36.375 \r\nQ 16.015625 22.609375 22.328125 14.59375 \r\nQ 28.65625 6.59375 39.40625 6.59375 \r\nQ 50.140625 6.59375 56.421875 14.59375 \r\nQ 62.703125 22.609375 62.703125 36.375 \r\nQ 62.703125 50.203125 56.421875 58.203125 \r\nQ 50.140625 66.21875 39.40625 66.21875 \r\nz\r\nM 39.40625 74.21875 \r\nQ 54.734375 74.21875 63.90625 63.9375 \r\nQ 73.09375 53.65625 73.09375 36.375 \r\nQ 73.09375 19.140625 63.90625 8.859375 \r\nQ 54.734375 -1.421875 39.40625 -1.421875 \r\nQ 24.03125 -1.421875 14.8125 8.828125 \r\nQ 5.609375 19.09375 5.609375 36.375 \r\nQ 5.609375 53.65625 14.8125 63.9375 \r\nQ 24.03125 74.21875 39.40625 74.21875 \r\nz\r\n\" id=\"DejaVuSans-79\"/>\r\n       <path d=\"M 19.671875 64.796875 \r\nL 19.671875 37.40625 \r\nL 32.078125 37.40625 \r\nQ 38.96875 37.40625 42.71875 40.96875 \r\nQ 46.484375 44.53125 46.484375 51.125 \r\nQ 46.484375 57.671875 42.71875 61.234375 \r\nQ 38.96875 64.796875 32.078125 64.796875 \r\nz\r\nM 9.8125 72.90625 \r\nL 32.078125 72.90625 \r\nQ 44.34375 72.90625 50.609375 67.359375 \r\nQ 56.890625 61.8125 56.890625 51.125 \r\nQ 56.890625 40.328125 50.609375 34.8125 \r\nQ 44.34375 29.296875 32.078125 29.296875 \r\nL 19.671875 29.296875 \r\nL 19.671875 0 \r\nL 9.8125 0 \r\nz\r\n\" id=\"DejaVuSans-80\"/>\r\n       <path d=\"M 9.8125 72.90625 \r\nL 19.671875 72.90625 \r\nL 19.671875 0 \r\nL 9.8125 0 \r\nz\r\n\" id=\"DejaVuSans-73\"/>\r\n       <path d=\"M 4.890625 31.390625 \r\nL 31.203125 31.390625 \r\nL 31.203125 23.390625 \r\nL 4.890625 23.390625 \r\nz\r\n\" id=\"DejaVuSans-45\"/>\r\n       <path d=\"M 44.390625 34.1875 \r\nQ 47.5625 33.109375 50.5625 29.59375 \r\nQ 53.5625 26.078125 56.59375 19.921875 \r\nL 66.609375 0 \r\nL 56 0 \r\nL 46.6875 18.703125 \r\nQ 43.0625 26.03125 39.671875 28.421875 \r\nQ 36.28125 30.8125 30.421875 30.8125 \r\nL 19.671875 30.8125 \r\nL 19.671875 0 \r\nL 9.8125 0 \r\nL 9.8125 72.90625 \r\nL 32.078125 72.90625 \r\nQ 44.578125 72.90625 50.734375 67.671875 \r\nQ 56.890625 62.453125 56.890625 51.90625 \r\nQ 56.890625 45.015625 53.6875 40.46875 \r\nQ 50.484375 35.9375 44.390625 34.1875 \r\nz\r\nM 19.671875 64.796875 \r\nL 19.671875 38.921875 \r\nL 32.078125 38.921875 \r\nQ 39.203125 38.921875 42.84375 42.21875 \r\nQ 46.484375 45.515625 46.484375 51.90625 \r\nQ 46.484375 58.296875 42.84375 61.546875 \r\nQ 39.203125 64.796875 32.078125 64.796875 \r\nz\r\n\" id=\"DejaVuSans-82\"/>\r\n       <path d=\"M 31.78125 34.625 \r\nQ 24.75 34.625 20.71875 30.859375 \r\nQ 16.703125 27.09375 16.703125 20.515625 \r\nQ 16.703125 13.921875 20.71875 10.15625 \r\nQ 24.75 6.390625 31.78125 6.390625 \r\nQ 38.8125 6.390625 42.859375 10.171875 \r\nQ 46.921875 13.96875 46.921875 20.515625 \r\nQ 46.921875 27.09375 42.890625 30.859375 \r\nQ 38.875 34.625 31.78125 34.625 \r\nz\r\nM 21.921875 38.8125 \r\nQ 15.578125 40.375 12.03125 44.71875 \r\nQ 8.5 49.078125 8.5 55.328125 \r\nQ 8.5 64.0625 14.71875 69.140625 \r\nQ 20.953125 74.21875 31.78125 74.21875 \r\nQ 42.671875 74.21875 48.875 69.140625 \r\nQ 55.078125 64.0625 55.078125 55.328125 \r\nQ 55.078125 49.078125 51.53125 44.71875 \r\nQ 48 40.375 41.703125 38.8125 \r\nQ 48.828125 37.15625 52.796875 32.3125 \r\nQ 56.78125 27.484375 56.78125 20.515625 \r\nQ 56.78125 9.90625 50.3125 4.234375 \r\nQ 43.84375 -1.421875 31.78125 -1.421875 \r\nQ 19.734375 -1.421875 13.25 4.234375 \r\nQ 6.78125 9.90625 6.78125 20.515625 \r\nQ 6.78125 27.484375 10.78125 32.3125 \r\nQ 14.796875 37.15625 21.921875 38.8125 \r\nz\r\nM 18.3125 54.390625 \r\nQ 18.3125 48.734375 21.84375 45.5625 \r\nQ 25.390625 42.390625 31.78125 42.390625 \r\nQ 38.140625 42.390625 41.71875 45.5625 \r\nQ 45.3125 48.734375 45.3125 54.390625 \r\nQ 45.3125 60.0625 41.71875 63.234375 \r\nQ 38.140625 66.40625 31.78125 66.40625 \r\nQ 25.390625 66.40625 21.84375 63.234375 \r\nQ 18.3125 60.0625 18.3125 54.390625 \r\nz\r\n\" id=\"DejaVuSans-56\"/>\r\n       <path d=\"M 10.984375 1.515625 \r\nL 10.984375 10.5 \r\nQ 14.703125 8.734375 18.5 7.8125 \r\nQ 22.3125 6.890625 25.984375 6.890625 \r\nQ 35.75 6.890625 40.890625 13.453125 \r\nQ 46.046875 20.015625 46.78125 33.40625 \r\nQ 43.953125 29.203125 39.59375 26.953125 \r\nQ 35.25 24.703125 29.984375 24.703125 \r\nQ 19.046875 24.703125 12.671875 31.3125 \r\nQ 6.296875 37.9375 6.296875 49.421875 \r\nQ 6.296875 60.640625 12.9375 67.421875 \r\nQ 19.578125 74.21875 30.609375 74.21875 \r\nQ 43.265625 74.21875 49.921875 64.515625 \r\nQ 56.59375 54.828125 56.59375 36.375 \r\nQ 56.59375 19.140625 48.40625 8.859375 \r\nQ 40.234375 -1.421875 26.421875 -1.421875 \r\nQ 22.703125 -1.421875 18.890625 -0.6875 \r\nQ 15.09375 0.046875 10.984375 1.515625 \r\nz\r\nM 30.609375 32.421875 \r\nQ 37.25 32.421875 41.125 36.953125 \r\nQ 45.015625 41.5 45.015625 49.421875 \r\nQ 45.015625 57.28125 41.125 61.84375 \r\nQ 37.25 66.40625 30.609375 66.40625 \r\nQ 23.96875 66.40625 20.09375 61.84375 \r\nQ 16.21875 57.28125 16.21875 49.421875 \r\nQ 16.21875 41.5 20.09375 36.953125 \r\nQ 23.96875 32.421875 30.609375 32.421875 \r\nz\r\n\" id=\"DejaVuSans-57\"/>\r\n       <path d=\"M 8.59375 75.984375 \r\nL 29.296875 75.984375 \r\nL 29.296875 69 \r\nL 17.578125 69 \r\nL 17.578125 -6.203125 \r\nL 29.296875 -6.203125 \r\nL 29.296875 -13.1875 \r\nL 8.59375 -13.1875 \r\nz\r\n\" id=\"DejaVuSans-91\"/>\r\n       <path d=\"M 48.6875 27.296875 \r\nQ 48.6875 37.203125 44.609375 42.84375 \r\nQ 40.53125 48.484375 33.40625 48.484375 \r\nQ 26.265625 48.484375 22.1875 42.84375 \r\nQ 18.109375 37.203125 18.109375 27.296875 \r\nQ 18.109375 17.390625 22.1875 11.75 \r\nQ 26.265625 6.109375 33.40625 6.109375 \r\nQ 40.53125 6.109375 44.609375 11.75 \r\nQ 48.6875 17.390625 48.6875 27.296875 \r\nz\r\nM 18.109375 46.390625 \r\nQ 20.953125 51.265625 25.265625 53.625 \r\nQ 29.59375 56 35.59375 56 \r\nQ 45.5625 56 51.78125 48.09375 \r\nQ 58.015625 40.1875 58.015625 27.296875 \r\nQ 58.015625 14.40625 51.78125 6.484375 \r\nQ 45.5625 -1.421875 35.59375 -1.421875 \r\nQ 29.59375 -1.421875 25.265625 0.953125 \r\nQ 20.953125 3.328125 18.109375 8.203125 \r\nL 18.109375 0 \r\nL 9.078125 0 \r\nL 9.078125 75.984375 \r\nL 18.109375 75.984375 \r\nz\r\n\" id=\"DejaVuSans-98\"/>\r\n       <path d=\"M 9.421875 54.6875 \r\nL 18.40625 54.6875 \r\nL 18.40625 -0.984375 \r\nQ 18.40625 -11.421875 14.421875 -16.109375 \r\nQ 10.453125 -20.796875 1.609375 -20.796875 \r\nL -1.8125 -20.796875 \r\nL -1.8125 -13.1875 \r\nL 0.59375 -13.1875 \r\nQ 5.71875 -13.1875 7.5625 -10.8125 \r\nQ 9.421875 -8.453125 9.421875 -0.984375 \r\nz\r\nM 9.421875 75.984375 \r\nL 18.40625 75.984375 \r\nL 18.40625 64.59375 \r\nL 9.421875 64.59375 \r\nz\r\n\" id=\"DejaVuSans-106\"/>\r\n       <path d=\"M 2.984375 54.6875 \r\nL 12.5 54.6875 \r\nL 29.59375 8.796875 \r\nL 46.6875 54.6875 \r\nL 56.203125 54.6875 \r\nL 35.6875 0 \r\nL 23.484375 0 \r\nz\r\n\" id=\"DejaVuSans-118\"/>\r\n       <path d=\"M 30.609375 48.390625 \r\nQ 23.390625 48.390625 19.1875 42.75 \r\nQ 14.984375 37.109375 14.984375 27.296875 \r\nQ 14.984375 17.484375 19.15625 11.84375 \r\nQ 23.34375 6.203125 30.609375 6.203125 \r\nQ 37.796875 6.203125 41.984375 11.859375 \r\nQ 46.1875 17.53125 46.1875 27.296875 \r\nQ 46.1875 37.015625 41.984375 42.703125 \r\nQ 37.796875 48.390625 30.609375 48.390625 \r\nz\r\nM 30.609375 56 \r\nQ 42.328125 56 49.015625 48.375 \r\nQ 55.71875 40.765625 55.71875 27.296875 \r\nQ 55.71875 13.875 49.015625 6.21875 \r\nQ 42.328125 -1.421875 30.609375 -1.421875 \r\nQ 18.84375 -1.421875 12.171875 6.21875 \r\nQ 5.515625 13.875 5.515625 27.296875 \r\nQ 5.515625 40.765625 12.171875 48.375 \r\nQ 18.84375 56 30.609375 56 \r\nz\r\n\" id=\"DejaVuSans-111\"/>\r\n       <path d=\"M 30.421875 75.984375 \r\nL 30.421875 -13.1875 \r\nL 9.71875 -13.1875 \r\nL 9.71875 -6.203125 \r\nL 21.390625 -6.203125 \r\nL 21.390625 69 \r\nL 9.71875 69 \r\nL 9.71875 75.984375 \r\nz\r\n\" id=\"DejaVuSans-93\"/>\r\n      </defs>\r\n      <g transform=\"translate(32.848437 213.213076)scale(0.1 -0.1)\">\r\n       <use xlink:href=\"#DejaVuSans-79\"/>\r\n       <use x=\"78.710938\" xlink:href=\"#DejaVuSans-80\"/>\r\n       <use x=\"139.013672\" xlink:href=\"#DejaVuSans-80\"/>\r\n       <use x=\"199.316406\" xlink:href=\"#DejaVuSans-73\"/>\r\n       <use x=\"228.808594\" xlink:href=\"#DejaVuSans-49\"/>\r\n       <use x=\"292.431641\" xlink:href=\"#DejaVuSans-49\"/>\r\n       <use x=\"356.054688\" xlink:href=\"#DejaVuSans-45\"/>\r\n       <use x=\"392.138672\" xlink:href=\"#DejaVuSans-82\"/>\r\n       <use x=\"461.621094\" xlink:href=\"#DejaVuSans-80\"/>\r\n       <use x=\"521.923828\" xlink:href=\"#DejaVuSans-50\"/>\r\n       <use x=\"585.546875\" xlink:href=\"#DejaVuSans-56\"/>\r\n       <use x=\"649.169922\" xlink:href=\"#DejaVuSans-53\"/>\r\n       <use x=\"712.792969\" xlink:href=\"#DejaVuSans-57\"/>\r\n       <use x=\"776.416016\" xlink:href=\"#DejaVuSans-32\"/>\r\n       <use x=\"808.203125\" xlink:href=\"#DejaVuSans-91\"/>\r\n       <use x=\"847.216797\" xlink:href=\"#DejaVuSans-79\"/>\r\n       <use x=\"925.927734\" xlink:href=\"#DejaVuSans-98\"/>\r\n       <use x=\"989.404297\" xlink:href=\"#DejaVuSans-106\"/>\r\n       <use x=\"1017.1875\" xlink:href=\"#DejaVuSans-101\"/>\r\n       <use x=\"1078.710938\" xlink:href=\"#DejaVuSans-116\"/>\r\n       <use x=\"1117.919922\" xlink:href=\"#DejaVuSans-105\"/>\r\n       <use x=\"1145.703125\" xlink:href=\"#DejaVuSans-118\"/>\r\n       <use x=\"1204.882812\" xlink:href=\"#DejaVuSans-111\"/>\r\n       <use x=\"1266.064453\" xlink:href=\"#DejaVuSans-32\"/>\r\n       <use x=\"1297.851562\" xlink:href=\"#DejaVuSans-100\"/>\r\n       <use x=\"1361.328125\" xlink:href=\"#DejaVuSans-97\"/>\r\n       <use x=\"1422.607422\" xlink:href=\"#DejaVuSans-32\"/>\r\n       <use x=\"1454.394531\" xlink:href=\"#DejaVuSans-80\"/>\r\n       <use x=\"1514.697266\" xlink:href=\"#DejaVuSans-73\"/>\r\n       <use x=\"1544.189453\" xlink:href=\"#DejaVuSans-93\"/>\r\n      </g>\r\n     </g>\r\n    </g>\r\n    <g id=\"ytick_2\">\r\n     <g id=\"line2d_8\">\r\n      <g>\r\n       <use style=\"stroke:#000000;stroke-width:0.8;\" x=\"198.171875\" xlink:href=\"#m395713c65d\" y=\"196.057592\"/>\r\n      </g>\r\n     </g>\r\n     <g id=\"text_9\">\r\n      <!-- OPPI11-RP2860 [Objetivo da PI] -->\r\n      <defs>\r\n       <path d=\"M 33.015625 40.375 \r\nQ 26.375 40.375 22.484375 35.828125 \r\nQ 18.609375 31.296875 18.609375 23.390625 \r\nQ 18.609375 15.53125 22.484375 10.953125 \r\nQ 26.375 6.390625 33.015625 6.390625 \r\nQ 39.65625 6.390625 43.53125 10.953125 \r\nQ 47.40625 15.53125 47.40625 23.390625 \r\nQ 47.40625 31.296875 43.53125 35.828125 \r\nQ 39.65625 40.375 33.015625 40.375 \r\nz\r\nM 52.59375 71.296875 \r\nL 52.59375 62.3125 \r\nQ 48.875 64.0625 45.09375 64.984375 \r\nQ 41.3125 65.921875 37.59375 65.921875 \r\nQ 27.828125 65.921875 22.671875 59.328125 \r\nQ 17.53125 52.734375 16.796875 39.40625 \r\nQ 19.671875 43.65625 24.015625 45.921875 \r\nQ 28.375 48.1875 33.59375 48.1875 \r\nQ 44.578125 48.1875 50.953125 41.515625 \r\nQ 57.328125 34.859375 57.328125 23.390625 \r\nQ 57.328125 12.15625 50.6875 5.359375 \r\nQ 44.046875 -1.421875 33.015625 -1.421875 \r\nQ 20.359375 -1.421875 13.671875 8.265625 \r\nQ 6.984375 17.96875 6.984375 36.375 \r\nQ 6.984375 53.65625 15.1875 63.9375 \r\nQ 23.390625 74.21875 37.203125 74.21875 \r\nQ 40.921875 74.21875 44.703125 73.484375 \r\nQ 48.484375 72.75 52.59375 71.296875 \r\nz\r\n\" id=\"DejaVuSans-54\"/>\r\n      </defs>\r\n      <g transform=\"translate(32.848437 199.856811)scale(0.1 -0.1)\">\r\n       <use xlink:href=\"#DejaVuSans-79\"/>\r\n       <use x=\"78.710938\" xlink:href=\"#DejaVuSans-80\"/>\r\n       <use x=\"139.013672\" xlink:href=\"#DejaVuSans-80\"/>\r\n       <use x=\"199.316406\" xlink:href=\"#DejaVuSans-73\"/>\r\n       <use x=\"228.808594\" xlink:href=\"#DejaVuSans-49\"/>\r\n       <use x=\"292.431641\" xlink:href=\"#DejaVuSans-49\"/>\r\n       <use x=\"356.054688\" xlink:href=\"#DejaVuSans-45\"/>\r\n       <use x=\"392.138672\" xlink:href=\"#DejaVuSans-82\"/>\r\n       <use x=\"461.621094\" xlink:href=\"#DejaVuSans-80\"/>\r\n       <use x=\"521.923828\" xlink:href=\"#DejaVuSans-50\"/>\r\n       <use x=\"585.546875\" xlink:href=\"#DejaVuSans-56\"/>\r\n       <use x=\"649.169922\" xlink:href=\"#DejaVuSans-54\"/>\r\n       <use x=\"712.792969\" xlink:href=\"#DejaVuSans-48\"/>\r\n       <use x=\"776.416016\" xlink:href=\"#DejaVuSans-32\"/>\r\n       <use x=\"808.203125\" xlink:href=\"#DejaVuSans-91\"/>\r\n       <use x=\"847.216797\" xlink:href=\"#DejaVuSans-79\"/>\r\n       <use x=\"925.927734\" xlink:href=\"#DejaVuSans-98\"/>\r\n       <use x=\"989.404297\" xlink:href=\"#DejaVuSans-106\"/>\r\n       <use x=\"1017.1875\" xlink:href=\"#DejaVuSans-101\"/>\r\n       <use x=\"1078.710938\" xlink:href=\"#DejaVuSans-116\"/>\r\n       <use x=\"1117.919922\" xlink:href=\"#DejaVuSans-105\"/>\r\n       <use x=\"1145.703125\" xlink:href=\"#DejaVuSans-118\"/>\r\n       <use x=\"1204.882812\" xlink:href=\"#DejaVuSans-111\"/>\r\n       <use x=\"1266.064453\" xlink:href=\"#DejaVuSans-32\"/>\r\n       <use x=\"1297.851562\" xlink:href=\"#DejaVuSans-100\"/>\r\n       <use x=\"1361.328125\" xlink:href=\"#DejaVuSans-97\"/>\r\n       <use x=\"1422.607422\" xlink:href=\"#DejaVuSans-32\"/>\r\n       <use x=\"1454.394531\" xlink:href=\"#DejaVuSans-80\"/>\r\n       <use x=\"1514.697266\" xlink:href=\"#DejaVuSans-73\"/>\r\n       <use x=\"1544.189453\" xlink:href=\"#DejaVuSans-93\"/>\r\n      </g>\r\n     </g>\r\n    </g>\r\n    <g id=\"ytick_3\">\r\n     <g id=\"line2d_9\">\r\n      <g>\r\n       <use style=\"stroke:#000000;stroke-width:0.8;\" x=\"198.171875\" xlink:href=\"#m395713c65d\" y=\"182.701327\"/>\r\n      </g>\r\n     </g>\r\n     <g id=\"text_10\">\r\n      <!-- OPPI11-RP2861 [Objetivo da PI] -->\r\n      <g transform=\"translate(32.848437 186.500546)scale(0.1 -0.1)\">\r\n       <use xlink:href=\"#DejaVuSans-79\"/>\r\n       <use x=\"78.710938\" xlink:href=\"#DejaVuSans-80\"/>\r\n       <use x=\"139.013672\" xlink:href=\"#DejaVuSans-80\"/>\r\n       <use x=\"199.316406\" xlink:href=\"#DejaVuSans-73\"/>\r\n       <use x=\"228.808594\" xlink:href=\"#DejaVuSans-49\"/>\r\n       <use x=\"292.431641\" xlink:href=\"#DejaVuSans-49\"/>\r\n       <use x=\"356.054688\" xlink:href=\"#DejaVuSans-45\"/>\r\n       <use x=\"392.138672\" xlink:href=\"#DejaVuSans-82\"/>\r\n       <use x=\"461.621094\" xlink:href=\"#DejaVuSans-80\"/>\r\n       <use x=\"521.923828\" xlink:href=\"#DejaVuSans-50\"/>\r\n       <use x=\"585.546875\" xlink:href=\"#DejaVuSans-56\"/>\r\n       <use x=\"649.169922\" xlink:href=\"#DejaVuSans-54\"/>\r\n       <use x=\"712.792969\" xlink:href=\"#DejaVuSans-49\"/>\r\n       <use x=\"776.416016\" xlink:href=\"#DejaVuSans-32\"/>\r\n       <use x=\"808.203125\" xlink:href=\"#DejaVuSans-91\"/>\r\n       <use x=\"847.216797\" xlink:href=\"#DejaVuSans-79\"/>\r\n       <use x=\"925.927734\" xlink:href=\"#DejaVuSans-98\"/>\r\n       <use x=\"989.404297\" xlink:href=\"#DejaVuSans-106\"/>\r\n       <use x=\"1017.1875\" xlink:href=\"#DejaVuSans-101\"/>\r\n       <use x=\"1078.710938\" xlink:href=\"#DejaVuSans-116\"/>\r\n       <use x=\"1117.919922\" xlink:href=\"#DejaVuSans-105\"/>\r\n       <use x=\"1145.703125\" xlink:href=\"#DejaVuSans-118\"/>\r\n       <use x=\"1204.882812\" xlink:href=\"#DejaVuSans-111\"/>\r\n       <use x=\"1266.064453\" xlink:href=\"#DejaVuSans-32\"/>\r\n       <use x=\"1297.851562\" xlink:href=\"#DejaVuSans-100\"/>\r\n       <use x=\"1361.328125\" xlink:href=\"#DejaVuSans-97\"/>\r\n       <use x=\"1422.607422\" xlink:href=\"#DejaVuSans-32\"/>\r\n       <use x=\"1454.394531\" xlink:href=\"#DejaVuSans-80\"/>\r\n       <use x=\"1514.697266\" xlink:href=\"#DejaVuSans-73\"/>\r\n       <use x=\"1544.189453\" xlink:href=\"#DejaVuSans-93\"/>\r\n      </g>\r\n     </g>\r\n    </g>\r\n    <g id=\"ytick_4\">\r\n     <g id=\"line2d_10\">\r\n      <g>\r\n       <use style=\"stroke:#000000;stroke-width:0.8;\" x=\"198.171875\" xlink:href=\"#m395713c65d\" y=\"169.345061\"/>\r\n      </g>\r\n     </g>\r\n     <g id=\"text_11\">\r\n      <!-- OPPI11-RP2862 [Objetivo da PI] -->\r\n      <g transform=\"translate(32.848437 173.14428)scale(0.1 -0.1)\">\r\n       <use xlink:href=\"#DejaVuSans-79\"/>\r\n       <use x=\"78.710938\" xlink:href=\"#DejaVuSans-80\"/>\r\n       <use x=\"139.013672\" xlink:href=\"#DejaVuSans-80\"/>\r\n       <use x=\"199.316406\" xlink:href=\"#DejaVuSans-73\"/>\r\n       <use x=\"228.808594\" xlink:href=\"#DejaVuSans-49\"/>\r\n       <use x=\"292.431641\" xlink:href=\"#DejaVuSans-49\"/>\r\n       <use x=\"356.054688\" xlink:href=\"#DejaVuSans-45\"/>\r\n       <use x=\"392.138672\" xlink:href=\"#DejaVuSans-82\"/>\r\n       <use x=\"461.621094\" xlink:href=\"#DejaVuSans-80\"/>\r\n       <use x=\"521.923828\" xlink:href=\"#DejaVuSans-50\"/>\r\n       <use x=\"585.546875\" xlink:href=\"#DejaVuSans-56\"/>\r\n       <use x=\"649.169922\" xlink:href=\"#DejaVuSans-54\"/>\r\n       <use x=\"712.792969\" xlink:href=\"#DejaVuSans-50\"/>\r\n       <use x=\"776.416016\" xlink:href=\"#DejaVuSans-32\"/>\r\n       <use x=\"808.203125\" xlink:href=\"#DejaVuSans-91\"/>\r\n       <use x=\"847.216797\" xlink:href=\"#DejaVuSans-79\"/>\r\n       <use x=\"925.927734\" xlink:href=\"#DejaVuSans-98\"/>\r\n       <use x=\"989.404297\" xlink:href=\"#DejaVuSans-106\"/>\r\n       <use x=\"1017.1875\" xlink:href=\"#DejaVuSans-101\"/>\r\n       <use x=\"1078.710938\" xlink:href=\"#DejaVuSans-116\"/>\r\n       <use x=\"1117.919922\" xlink:href=\"#DejaVuSans-105\"/>\r\n       <use x=\"1145.703125\" xlink:href=\"#DejaVuSans-118\"/>\r\n       <use x=\"1204.882812\" xlink:href=\"#DejaVuSans-111\"/>\r\n       <use x=\"1266.064453\" xlink:href=\"#DejaVuSans-32\"/>\r\n       <use x=\"1297.851562\" xlink:href=\"#DejaVuSans-100\"/>\r\n       <use x=\"1361.328125\" xlink:href=\"#DejaVuSans-97\"/>\r\n       <use x=\"1422.607422\" xlink:href=\"#DejaVuSans-32\"/>\r\n       <use x=\"1454.394531\" xlink:href=\"#DejaVuSans-80\"/>\r\n       <use x=\"1514.697266\" xlink:href=\"#DejaVuSans-73\"/>\r\n       <use x=\"1544.189453\" xlink:href=\"#DejaVuSans-93\"/>\r\n      </g>\r\n     </g>\r\n    </g>\r\n    <g id=\"ytick_5\">\r\n     <g id=\"line2d_11\">\r\n      <g>\r\n       <use style=\"stroke:#000000;stroke-width:0.8;\" x=\"198.171875\" xlink:href=\"#m395713c65d\" y=\"155.988796\"/>\r\n      </g>\r\n     </g>\r\n     <g id=\"text_12\">\r\n      <!-- OPPI11-RP2863 [Objetivo da PI] -->\r\n      <defs>\r\n       <path d=\"M 40.578125 39.3125 \r\nQ 47.65625 37.796875 51.625 33 \r\nQ 55.609375 28.21875 55.609375 21.1875 \r\nQ 55.609375 10.40625 48.1875 4.484375 \r\nQ 40.765625 -1.421875 27.09375 -1.421875 \r\nQ 22.515625 -1.421875 17.65625 -0.515625 \r\nQ 12.796875 0.390625 7.625 2.203125 \r\nL 7.625 11.71875 \r\nQ 11.71875 9.328125 16.59375 8.109375 \r\nQ 21.484375 6.890625 26.8125 6.890625 \r\nQ 36.078125 6.890625 40.9375 10.546875 \r\nQ 45.796875 14.203125 45.796875 21.1875 \r\nQ 45.796875 27.640625 41.28125 31.265625 \r\nQ 36.765625 34.90625 28.71875 34.90625 \r\nL 20.21875 34.90625 \r\nL 20.21875 43.015625 \r\nL 29.109375 43.015625 \r\nQ 36.375 43.015625 40.234375 45.921875 \r\nQ 44.09375 48.828125 44.09375 54.296875 \r\nQ 44.09375 59.90625 40.109375 62.90625 \r\nQ 36.140625 65.921875 28.71875 65.921875 \r\nQ 24.65625 65.921875 20.015625 65.03125 \r\nQ 15.375 64.15625 9.8125 62.3125 \r\nL 9.8125 71.09375 \r\nQ 15.4375 72.65625 20.34375 73.4375 \r\nQ 25.25 74.21875 29.59375 74.21875 \r\nQ 40.828125 74.21875 47.359375 69.109375 \r\nQ 53.90625 64.015625 53.90625 55.328125 \r\nQ 53.90625 49.265625 50.4375 45.09375 \r\nQ 46.96875 40.921875 40.578125 39.3125 \r\nz\r\n\" id=\"DejaVuSans-51\"/>\r\n      </defs>\r\n      <g transform=\"translate(32.848437 159.788015)scale(0.1 -0.1)\">\r\n       <use xlink:href=\"#DejaVuSans-79\"/>\r\n       <use x=\"78.710938\" xlink:href=\"#DejaVuSans-80\"/>\r\n       <use x=\"139.013672\" xlink:href=\"#DejaVuSans-80\"/>\r\n       <use x=\"199.316406\" xlink:href=\"#DejaVuSans-73\"/>\r\n       <use x=\"228.808594\" xlink:href=\"#DejaVuSans-49\"/>\r\n       <use x=\"292.431641\" xlink:href=\"#DejaVuSans-49\"/>\r\n       <use x=\"356.054688\" xlink:href=\"#DejaVuSans-45\"/>\r\n       <use x=\"392.138672\" xlink:href=\"#DejaVuSans-82\"/>\r\n       <use x=\"461.621094\" xlink:href=\"#DejaVuSans-80\"/>\r\n       <use x=\"521.923828\" xlink:href=\"#DejaVuSans-50\"/>\r\n       <use x=\"585.546875\" xlink:href=\"#DejaVuSans-56\"/>\r\n       <use x=\"649.169922\" xlink:href=\"#DejaVuSans-54\"/>\r\n       <use x=\"712.792969\" xlink:href=\"#DejaVuSans-51\"/>\r\n       <use x=\"776.416016\" xlink:href=\"#DejaVuSans-32\"/>\r\n       <use x=\"808.203125\" xlink:href=\"#DejaVuSans-91\"/>\r\n       <use x=\"847.216797\" xlink:href=\"#DejaVuSans-79\"/>\r\n       <use x=\"925.927734\" xlink:href=\"#DejaVuSans-98\"/>\r\n       <use x=\"989.404297\" xlink:href=\"#DejaVuSans-106\"/>\r\n       <use x=\"1017.1875\" xlink:href=\"#DejaVuSans-101\"/>\r\n       <use x=\"1078.710938\" xlink:href=\"#DejaVuSans-116\"/>\r\n       <use x=\"1117.919922\" xlink:href=\"#DejaVuSans-105\"/>\r\n       <use x=\"1145.703125\" xlink:href=\"#DejaVuSans-118\"/>\r\n       <use x=\"1204.882812\" xlink:href=\"#DejaVuSans-111\"/>\r\n       <use x=\"1266.064453\" xlink:href=\"#DejaVuSans-32\"/>\r\n       <use x=\"1297.851562\" xlink:href=\"#DejaVuSans-100\"/>\r\n       <use x=\"1361.328125\" xlink:href=\"#DejaVuSans-97\"/>\r\n       <use x=\"1422.607422\" xlink:href=\"#DejaVuSans-32\"/>\r\n       <use x=\"1454.394531\" xlink:href=\"#DejaVuSans-80\"/>\r\n       <use x=\"1514.697266\" xlink:href=\"#DejaVuSans-73\"/>\r\n       <use x=\"1544.189453\" xlink:href=\"#DejaVuSans-93\"/>\r\n      </g>\r\n     </g>\r\n    </g>\r\n    <g id=\"ytick_6\">\r\n     <g id=\"line2d_12\">\r\n      <g>\r\n       <use style=\"stroke:#000000;stroke-width:0.8;\" x=\"198.171875\" xlink:href=\"#m395713c65d\" y=\"142.632531\"/>\r\n      </g>\r\n     </g>\r\n     <g id=\"text_13\">\r\n      <!-- OPPI11-RP2864 [Objetivo da PI] -->\r\n      <defs>\r\n       <path d=\"M 37.796875 64.3125 \r\nL 12.890625 25.390625 \r\nL 37.796875 25.390625 \r\nz\r\nM 35.203125 72.90625 \r\nL 47.609375 72.90625 \r\nL 47.609375 25.390625 \r\nL 58.015625 25.390625 \r\nL 58.015625 17.1875 \r\nL 47.609375 17.1875 \r\nL 47.609375 0 \r\nL 37.796875 0 \r\nL 37.796875 17.1875 \r\nL 4.890625 17.1875 \r\nL 4.890625 26.703125 \r\nz\r\n\" id=\"DejaVuSans-52\"/>\r\n      </defs>\r\n      <g transform=\"translate(32.848437 146.431749)scale(0.1 -0.1)\">\r\n       <use xlink:href=\"#DejaVuSans-79\"/>\r\n       <use x=\"78.710938\" xlink:href=\"#DejaVuSans-80\"/>\r\n       <use x=\"139.013672\" xlink:href=\"#DejaVuSans-80\"/>\r\n       <use x=\"199.316406\" xlink:href=\"#DejaVuSans-73\"/>\r\n       <use x=\"228.808594\" xlink:href=\"#DejaVuSans-49\"/>\r\n       <use x=\"292.431641\" xlink:href=\"#DejaVuSans-49\"/>\r\n       <use x=\"356.054688\" xlink:href=\"#DejaVuSans-45\"/>\r\n       <use x=\"392.138672\" xlink:href=\"#DejaVuSans-82\"/>\r\n       <use x=\"461.621094\" xlink:href=\"#DejaVuSans-80\"/>\r\n       <use x=\"521.923828\" xlink:href=\"#DejaVuSans-50\"/>\r\n       <use x=\"585.546875\" xlink:href=\"#DejaVuSans-56\"/>\r\n       <use x=\"649.169922\" xlink:href=\"#DejaVuSans-54\"/>\r\n       <use x=\"712.792969\" xlink:href=\"#DejaVuSans-52\"/>\r\n       <use x=\"776.416016\" xlink:href=\"#DejaVuSans-32\"/>\r\n       <use x=\"808.203125\" xlink:href=\"#DejaVuSans-91\"/>\r\n       <use x=\"847.216797\" xlink:href=\"#DejaVuSans-79\"/>\r\n       <use x=\"925.927734\" xlink:href=\"#DejaVuSans-98\"/>\r\n       <use x=\"989.404297\" xlink:href=\"#DejaVuSans-106\"/>\r\n       <use x=\"1017.1875\" xlink:href=\"#DejaVuSans-101\"/>\r\n       <use x=\"1078.710938\" xlink:href=\"#DejaVuSans-116\"/>\r\n       <use x=\"1117.919922\" xlink:href=\"#DejaVuSans-105\"/>\r\n       <use x=\"1145.703125\" xlink:href=\"#DejaVuSans-118\"/>\r\n       <use x=\"1204.882812\" xlink:href=\"#DejaVuSans-111\"/>\r\n       <use x=\"1266.064453\" xlink:href=\"#DejaVuSans-32\"/>\r\n       <use x=\"1297.851562\" xlink:href=\"#DejaVuSans-100\"/>\r\n       <use x=\"1361.328125\" xlink:href=\"#DejaVuSans-97\"/>\r\n       <use x=\"1422.607422\" xlink:href=\"#DejaVuSans-32\"/>\r\n       <use x=\"1454.394531\" xlink:href=\"#DejaVuSans-80\"/>\r\n       <use x=\"1514.697266\" xlink:href=\"#DejaVuSans-73\"/>\r\n       <use x=\"1544.189453\" xlink:href=\"#DejaVuSans-93\"/>\r\n      </g>\r\n     </g>\r\n    </g>\r\n    <g id=\"ytick_7\">\r\n     <g id=\"line2d_13\">\r\n      <g>\r\n       <use style=\"stroke:#000000;stroke-width:0.8;\" x=\"198.171875\" xlink:href=\"#m395713c65d\" y=\"129.276265\"/>\r\n      </g>\r\n     </g>\r\n     <g id=\"text_14\">\r\n      <!-- OPPI11-RP2865 [Objetivo da PI] -->\r\n      <g transform=\"translate(32.848437 133.075484)scale(0.1 -0.1)\">\r\n       <use xlink:href=\"#DejaVuSans-79\"/>\r\n       <use x=\"78.710938\" xlink:href=\"#DejaVuSans-80\"/>\r\n       <use x=\"139.013672\" xlink:href=\"#DejaVuSans-80\"/>\r\n       <use x=\"199.316406\" xlink:href=\"#DejaVuSans-73\"/>\r\n       <use x=\"228.808594\" xlink:href=\"#DejaVuSans-49\"/>\r\n       <use x=\"292.431641\" xlink:href=\"#DejaVuSans-49\"/>\r\n       <use x=\"356.054688\" xlink:href=\"#DejaVuSans-45\"/>\r\n       <use x=\"392.138672\" xlink:href=\"#DejaVuSans-82\"/>\r\n       <use x=\"461.621094\" xlink:href=\"#DejaVuSans-80\"/>\r\n       <use x=\"521.923828\" xlink:href=\"#DejaVuSans-50\"/>\r\n       <use x=\"585.546875\" xlink:href=\"#DejaVuSans-56\"/>\r\n       <use x=\"649.169922\" xlink:href=\"#DejaVuSans-54\"/>\r\n       <use x=\"712.792969\" xlink:href=\"#DejaVuSans-53\"/>\r\n       <use x=\"776.416016\" xlink:href=\"#DejaVuSans-32\"/>\r\n       <use x=\"808.203125\" xlink:href=\"#DejaVuSans-91\"/>\r\n       <use x=\"847.216797\" xlink:href=\"#DejaVuSans-79\"/>\r\n       <use x=\"925.927734\" xlink:href=\"#DejaVuSans-98\"/>\r\n       <use x=\"989.404297\" xlink:href=\"#DejaVuSans-106\"/>\r\n       <use x=\"1017.1875\" xlink:href=\"#DejaVuSans-101\"/>\r\n       <use x=\"1078.710938\" xlink:href=\"#DejaVuSans-116\"/>\r\n       <use x=\"1117.919922\" xlink:href=\"#DejaVuSans-105\"/>\r\n       <use x=\"1145.703125\" xlink:href=\"#DejaVuSans-118\"/>\r\n       <use x=\"1204.882812\" xlink:href=\"#DejaVuSans-111\"/>\r\n       <use x=\"1266.064453\" xlink:href=\"#DejaVuSans-32\"/>\r\n       <use x=\"1297.851562\" xlink:href=\"#DejaVuSans-100\"/>\r\n       <use x=\"1361.328125\" xlink:href=\"#DejaVuSans-97\"/>\r\n       <use x=\"1422.607422\" xlink:href=\"#DejaVuSans-32\"/>\r\n       <use x=\"1454.394531\" xlink:href=\"#DejaVuSans-80\"/>\r\n       <use x=\"1514.697266\" xlink:href=\"#DejaVuSans-73\"/>\r\n       <use x=\"1544.189453\" xlink:href=\"#DejaVuSans-93\"/>\r\n      </g>\r\n     </g>\r\n    </g>\r\n    <g id=\"ytick_8\">\r\n     <g id=\"line2d_14\">\r\n      <g>\r\n       <use style=\"stroke:#000000;stroke-width:0.8;\" x=\"198.171875\" xlink:href=\"#m395713c65d\" y=\"115.92\"/>\r\n      </g>\r\n     </g>\r\n     <g id=\"text_15\">\r\n      <!-- OPPI11-RP2866 [Objetivo da PI] -->\r\n      <g transform=\"translate(32.848437 119.719219)scale(0.1 -0.1)\">\r\n       <use xlink:href=\"#DejaVuSans-79\"/>\r\n       <use x=\"78.710938\" xlink:href=\"#DejaVuSans-80\"/>\r\n       <use x=\"139.013672\" xlink:href=\"#DejaVuSans-80\"/>\r\n       <use x=\"199.316406\" xlink:href=\"#DejaVuSans-73\"/>\r\n       <use x=\"228.808594\" xlink:href=\"#DejaVuSans-49\"/>\r\n       <use x=\"292.431641\" xlink:href=\"#DejaVuSans-49\"/>\r\n       <use x=\"356.054688\" xlink:href=\"#DejaVuSans-45\"/>\r\n       <use x=\"392.138672\" xlink:href=\"#DejaVuSans-82\"/>\r\n       <use x=\"461.621094\" xlink:href=\"#DejaVuSans-80\"/>\r\n       <use x=\"521.923828\" xlink:href=\"#DejaVuSans-50\"/>\r\n       <use x=\"585.546875\" xlink:href=\"#DejaVuSans-56\"/>\r\n       <use x=\"649.169922\" xlink:href=\"#DejaVuSans-54\"/>\r\n       <use x=\"712.792969\" xlink:href=\"#DejaVuSans-54\"/>\r\n       <use x=\"776.416016\" xlink:href=\"#DejaVuSans-32\"/>\r\n       <use x=\"808.203125\" xlink:href=\"#DejaVuSans-91\"/>\r\n       <use x=\"847.216797\" xlink:href=\"#DejaVuSans-79\"/>\r\n       <use x=\"925.927734\" xlink:href=\"#DejaVuSans-98\"/>\r\n       <use x=\"989.404297\" xlink:href=\"#DejaVuSans-106\"/>\r\n       <use x=\"1017.1875\" xlink:href=\"#DejaVuSans-101\"/>\r\n       <use x=\"1078.710938\" xlink:href=\"#DejaVuSans-116\"/>\r\n       <use x=\"1117.919922\" xlink:href=\"#DejaVuSans-105\"/>\r\n       <use x=\"1145.703125\" xlink:href=\"#DejaVuSans-118\"/>\r\n       <use x=\"1204.882812\" xlink:href=\"#DejaVuSans-111\"/>\r\n       <use x=\"1266.064453\" xlink:href=\"#DejaVuSans-32\"/>\r\n       <use x=\"1297.851562\" xlink:href=\"#DejaVuSans-100\"/>\r\n       <use x=\"1361.328125\" xlink:href=\"#DejaVuSans-97\"/>\r\n       <use x=\"1422.607422\" xlink:href=\"#DejaVuSans-32\"/>\r\n       <use x=\"1454.394531\" xlink:href=\"#DejaVuSans-80\"/>\r\n       <use x=\"1514.697266\" xlink:href=\"#DejaVuSans-73\"/>\r\n       <use x=\"1544.189453\" xlink:href=\"#DejaVuSans-93\"/>\r\n      </g>\r\n     </g>\r\n    </g>\r\n    <g id=\"ytick_9\">\r\n     <g id=\"line2d_15\">\r\n      <g>\r\n       <use style=\"stroke:#000000;stroke-width:0.8;\" x=\"198.171875\" xlink:href=\"#m395713c65d\" y=\"102.563735\"/>\r\n      </g>\r\n     </g>\r\n     <g id=\"text_16\">\r\n      <!-- OPPI11-RP2867 [Objetivo da PI] -->\r\n      <defs>\r\n       <path d=\"M 8.203125 72.90625 \r\nL 55.078125 72.90625 \r\nL 55.078125 68.703125 \r\nL 28.609375 0 \r\nL 18.3125 0 \r\nL 43.21875 64.59375 \r\nL 8.203125 64.59375 \r\nz\r\n\" id=\"DejaVuSans-55\"/>\r\n      </defs>\r\n      <g transform=\"translate(32.848437 106.362953)scale(0.1 -0.1)\">\r\n       <use xlink:href=\"#DejaVuSans-79\"/>\r\n       <use x=\"78.710938\" xlink:href=\"#DejaVuSans-80\"/>\r\n       <use x=\"139.013672\" xlink:href=\"#DejaVuSans-80\"/>\r\n       <use x=\"199.316406\" xlink:href=\"#DejaVuSans-73\"/>\r\n       <use x=\"228.808594\" xlink:href=\"#DejaVuSans-49\"/>\r\n       <use x=\"292.431641\" xlink:href=\"#DejaVuSans-49\"/>\r\n       <use x=\"356.054688\" xlink:href=\"#DejaVuSans-45\"/>\r\n       <use x=\"392.138672\" xlink:href=\"#DejaVuSans-82\"/>\r\n       <use x=\"461.621094\" xlink:href=\"#DejaVuSans-80\"/>\r\n       <use x=\"521.923828\" xlink:href=\"#DejaVuSans-50\"/>\r\n       <use x=\"585.546875\" xlink:href=\"#DejaVuSans-56\"/>\r\n       <use x=\"649.169922\" xlink:href=\"#DejaVuSans-54\"/>\r\n       <use x=\"712.792969\" xlink:href=\"#DejaVuSans-55\"/>\r\n       <use x=\"776.416016\" xlink:href=\"#DejaVuSans-32\"/>\r\n       <use x=\"808.203125\" xlink:href=\"#DejaVuSans-91\"/>\r\n       <use x=\"847.216797\" xlink:href=\"#DejaVuSans-79\"/>\r\n       <use x=\"925.927734\" xlink:href=\"#DejaVuSans-98\"/>\r\n       <use x=\"989.404297\" xlink:href=\"#DejaVuSans-106\"/>\r\n       <use x=\"1017.1875\" xlink:href=\"#DejaVuSans-101\"/>\r\n       <use x=\"1078.710938\" xlink:href=\"#DejaVuSans-116\"/>\r\n       <use x=\"1117.919922\" xlink:href=\"#DejaVuSans-105\"/>\r\n       <use x=\"1145.703125\" xlink:href=\"#DejaVuSans-118\"/>\r\n       <use x=\"1204.882812\" xlink:href=\"#DejaVuSans-111\"/>\r\n       <use x=\"1266.064453\" xlink:href=\"#DejaVuSans-32\"/>\r\n       <use x=\"1297.851562\" xlink:href=\"#DejaVuSans-100\"/>\r\n       <use x=\"1361.328125\" xlink:href=\"#DejaVuSans-97\"/>\r\n       <use x=\"1422.607422\" xlink:href=\"#DejaVuSans-32\"/>\r\n       <use x=\"1454.394531\" xlink:href=\"#DejaVuSans-80\"/>\r\n       <use x=\"1514.697266\" xlink:href=\"#DejaVuSans-73\"/>\r\n       <use x=\"1544.189453\" xlink:href=\"#DejaVuSans-93\"/>\r\n      </g>\r\n     </g>\r\n    </g>\r\n    <g id=\"ytick_10\">\r\n     <g id=\"line2d_16\">\r\n      <g>\r\n       <use style=\"stroke:#000000;stroke-width:0.8;\" x=\"198.171875\" xlink:href=\"#m395713c65d\" y=\"89.207469\"/>\r\n      </g>\r\n     </g>\r\n     <g id=\"text_17\">\r\n      <!-- OPPI11-RP2868 [Objetivo da PI] -->\r\n      <g transform=\"translate(32.848437 93.006688)scale(0.1 -0.1)\">\r\n       <use xlink:href=\"#DejaVuSans-79\"/>\r\n       <use x=\"78.710938\" xlink:href=\"#DejaVuSans-80\"/>\r\n       <use x=\"139.013672\" xlink:href=\"#DejaVuSans-80\"/>\r\n       <use x=\"199.316406\" xlink:href=\"#DejaVuSans-73\"/>\r\n       <use x=\"228.808594\" xlink:href=\"#DejaVuSans-49\"/>\r\n       <use x=\"292.431641\" xlink:href=\"#DejaVuSans-49\"/>\r\n       <use x=\"356.054688\" xlink:href=\"#DejaVuSans-45\"/>\r\n       <use x=\"392.138672\" xlink:href=\"#DejaVuSans-82\"/>\r\n       <use x=\"461.621094\" xlink:href=\"#DejaVuSans-80\"/>\r\n       <use x=\"521.923828\" xlink:href=\"#DejaVuSans-50\"/>\r\n       <use x=\"585.546875\" xlink:href=\"#DejaVuSans-56\"/>\r\n       <use x=\"649.169922\" xlink:href=\"#DejaVuSans-54\"/>\r\n       <use x=\"712.792969\" xlink:href=\"#DejaVuSans-56\"/>\r\n       <use x=\"776.416016\" xlink:href=\"#DejaVuSans-32\"/>\r\n       <use x=\"808.203125\" xlink:href=\"#DejaVuSans-91\"/>\r\n       <use x=\"847.216797\" xlink:href=\"#DejaVuSans-79\"/>\r\n       <use x=\"925.927734\" xlink:href=\"#DejaVuSans-98\"/>\r\n       <use x=\"989.404297\" xlink:href=\"#DejaVuSans-106\"/>\r\n       <use x=\"1017.1875\" xlink:href=\"#DejaVuSans-101\"/>\r\n       <use x=\"1078.710938\" xlink:href=\"#DejaVuSans-116\"/>\r\n       <use x=\"1117.919922\" xlink:href=\"#DejaVuSans-105\"/>\r\n       <use x=\"1145.703125\" xlink:href=\"#DejaVuSans-118\"/>\r\n       <use x=\"1204.882812\" xlink:href=\"#DejaVuSans-111\"/>\r\n       <use x=\"1266.064453\" xlink:href=\"#DejaVuSans-32\"/>\r\n       <use x=\"1297.851562\" xlink:href=\"#DejaVuSans-100\"/>\r\n       <use x=\"1361.328125\" xlink:href=\"#DejaVuSans-97\"/>\r\n       <use x=\"1422.607422\" xlink:href=\"#DejaVuSans-32\"/>\r\n       <use x=\"1454.394531\" xlink:href=\"#DejaVuSans-80\"/>\r\n       <use x=\"1514.697266\" xlink:href=\"#DejaVuSans-73\"/>\r\n       <use x=\"1544.189453\" xlink:href=\"#DejaVuSans-93\"/>\r\n      </g>\r\n     </g>\r\n    </g>\r\n    <g id=\"ytick_11\">\r\n     <g id=\"line2d_17\">\r\n      <g>\r\n       <use style=\"stroke:#000000;stroke-width:0.8;\" x=\"198.171875\" xlink:href=\"#m395713c65d\" y=\"75.851204\"/>\r\n      </g>\r\n     </g>\r\n     <g id=\"text_18\">\r\n      <!-- OPPI11-RP2869 [Objetivo da PI] -->\r\n      <g transform=\"translate(32.848437 79.650423)scale(0.1 -0.1)\">\r\n       <use xlink:href=\"#DejaVuSans-79\"/>\r\n       <use x=\"78.710938\" xlink:href=\"#DejaVuSans-80\"/>\r\n       <use x=\"139.013672\" xlink:href=\"#DejaVuSans-80\"/>\r\n       <use x=\"199.316406\" xlink:href=\"#DejaVuSans-73\"/>\r\n       <use x=\"228.808594\" xlink:href=\"#DejaVuSans-49\"/>\r\n       <use x=\"292.431641\" xlink:href=\"#DejaVuSans-49\"/>\r\n       <use x=\"356.054688\" xlink:href=\"#DejaVuSans-45\"/>\r\n       <use x=\"392.138672\" xlink:href=\"#DejaVuSans-82\"/>\r\n       <use x=\"461.621094\" xlink:href=\"#DejaVuSans-80\"/>\r\n       <use x=\"521.923828\" xlink:href=\"#DejaVuSans-50\"/>\r\n       <use x=\"585.546875\" xlink:href=\"#DejaVuSans-56\"/>\r\n       <use x=\"649.169922\" xlink:href=\"#DejaVuSans-54\"/>\r\n       <use x=\"712.792969\" xlink:href=\"#DejaVuSans-57\"/>\r\n       <use x=\"776.416016\" xlink:href=\"#DejaVuSans-32\"/>\r\n       <use x=\"808.203125\" xlink:href=\"#DejaVuSans-91\"/>\r\n       <use x=\"847.216797\" xlink:href=\"#DejaVuSans-79\"/>\r\n       <use x=\"925.927734\" xlink:href=\"#DejaVuSans-98\"/>\r\n       <use x=\"989.404297\" xlink:href=\"#DejaVuSans-106\"/>\r\n       <use x=\"1017.1875\" xlink:href=\"#DejaVuSans-101\"/>\r\n       <use x=\"1078.710938\" xlink:href=\"#DejaVuSans-116\"/>\r\n       <use x=\"1117.919922\" xlink:href=\"#DejaVuSans-105\"/>\r\n       <use x=\"1145.703125\" xlink:href=\"#DejaVuSans-118\"/>\r\n       <use x=\"1204.882812\" xlink:href=\"#DejaVuSans-111\"/>\r\n       <use x=\"1266.064453\" xlink:href=\"#DejaVuSans-32\"/>\r\n       <use x=\"1297.851562\" xlink:href=\"#DejaVuSans-100\"/>\r\n       <use x=\"1361.328125\" xlink:href=\"#DejaVuSans-97\"/>\r\n       <use x=\"1422.607422\" xlink:href=\"#DejaVuSans-32\"/>\r\n       <use x=\"1454.394531\" xlink:href=\"#DejaVuSans-80\"/>\r\n       <use x=\"1514.697266\" xlink:href=\"#DejaVuSans-73\"/>\r\n       <use x=\"1544.189453\" xlink:href=\"#DejaVuSans-93\"/>\r\n      </g>\r\n     </g>\r\n    </g>\r\n    <g id=\"ytick_12\">\r\n     <g id=\"line2d_18\">\r\n      <g>\r\n       <use style=\"stroke:#000000;stroke-width:0.8;\" x=\"198.171875\" xlink:href=\"#m395713c65d\" y=\"62.494939\"/>\r\n      </g>\r\n     </g>\r\n     <g id=\"text_19\">\r\n      <!-- OPPI11-RP2870 [Objetivo da PI] -->\r\n      <g transform=\"translate(32.848437 66.294157)scale(0.1 -0.1)\">\r\n       <use xlink:href=\"#DejaVuSans-79\"/>\r\n       <use x=\"78.710938\" xlink:href=\"#DejaVuSans-80\"/>\r\n       <use x=\"139.013672\" xlink:href=\"#DejaVuSans-80\"/>\r\n       <use x=\"199.316406\" xlink:href=\"#DejaVuSans-73\"/>\r\n       <use x=\"228.808594\" xlink:href=\"#DejaVuSans-49\"/>\r\n       <use x=\"292.431641\" xlink:href=\"#DejaVuSans-49\"/>\r\n       <use x=\"356.054688\" xlink:href=\"#DejaVuSans-45\"/>\r\n       <use x=\"392.138672\" xlink:href=\"#DejaVuSans-82\"/>\r\n       <use x=\"461.621094\" xlink:href=\"#DejaVuSans-80\"/>\r\n       <use x=\"521.923828\" xlink:href=\"#DejaVuSans-50\"/>\r\n       <use x=\"585.546875\" xlink:href=\"#DejaVuSans-56\"/>\r\n       <use x=\"649.169922\" xlink:href=\"#DejaVuSans-55\"/>\r\n       <use x=\"712.792969\" xlink:href=\"#DejaVuSans-48\"/>\r\n       <use x=\"776.416016\" xlink:href=\"#DejaVuSans-32\"/>\r\n       <use x=\"808.203125\" xlink:href=\"#DejaVuSans-91\"/>\r\n       <use x=\"847.216797\" xlink:href=\"#DejaVuSans-79\"/>\r\n       <use x=\"925.927734\" xlink:href=\"#DejaVuSans-98\"/>\r\n       <use x=\"989.404297\" xlink:href=\"#DejaVuSans-106\"/>\r\n       <use x=\"1017.1875\" xlink:href=\"#DejaVuSans-101\"/>\r\n       <use x=\"1078.710938\" xlink:href=\"#DejaVuSans-116\"/>\r\n       <use x=\"1117.919922\" xlink:href=\"#DejaVuSans-105\"/>\r\n       <use x=\"1145.703125\" xlink:href=\"#DejaVuSans-118\"/>\r\n       <use x=\"1204.882812\" xlink:href=\"#DejaVuSans-111\"/>\r\n       <use x=\"1266.064453\" xlink:href=\"#DejaVuSans-32\"/>\r\n       <use x=\"1297.851562\" xlink:href=\"#DejaVuSans-100\"/>\r\n       <use x=\"1361.328125\" xlink:href=\"#DejaVuSans-97\"/>\r\n       <use x=\"1422.607422\" xlink:href=\"#DejaVuSans-32\"/>\r\n       <use x=\"1454.394531\" xlink:href=\"#DejaVuSans-80\"/>\r\n       <use x=\"1514.697266\" xlink:href=\"#DejaVuSans-73\"/>\r\n       <use x=\"1544.189453\" xlink:href=\"#DejaVuSans-93\"/>\r\n      </g>\r\n     </g>\r\n    </g>\r\n    <g id=\"ytick_13\">\r\n     <g id=\"line2d_19\">\r\n      <g>\r\n       <use style=\"stroke:#000000;stroke-width:0.8;\" x=\"198.171875\" xlink:href=\"#m395713c65d\" y=\"49.138673\"/>\r\n      </g>\r\n     </g>\r\n     <g id=\"text_20\">\r\n      <!-- OSPI11-RP2871 [Objetivo Stretch] -->\r\n      <defs>\r\n       <path d=\"M 53.515625 70.515625 \r\nL 53.515625 60.890625 \r\nQ 47.90625 63.578125 42.921875 64.890625 \r\nQ 37.9375 66.21875 33.296875 66.21875 \r\nQ 25.25 66.21875 20.875 63.09375 \r\nQ 16.5 59.96875 16.5 54.203125 \r\nQ 16.5 49.359375 19.40625 46.890625 \r\nQ 22.3125 44.4375 30.421875 42.921875 \r\nL 36.375 41.703125 \r\nQ 47.40625 39.59375 52.65625 34.296875 \r\nQ 57.90625 29 57.90625 20.125 \r\nQ 57.90625 9.515625 50.796875 4.046875 \r\nQ 43.703125 -1.421875 29.984375 -1.421875 \r\nQ 24.8125 -1.421875 18.96875 -0.25 \r\nQ 13.140625 0.921875 6.890625 3.21875 \r\nL 6.890625 13.375 \r\nQ 12.890625 10.015625 18.65625 8.296875 \r\nQ 24.421875 6.59375 29.984375 6.59375 \r\nQ 38.421875 6.59375 43.015625 9.90625 \r\nQ 47.609375 13.234375 47.609375 19.390625 \r\nQ 47.609375 24.75 44.3125 27.78125 \r\nQ 41.015625 30.8125 33.5 32.328125 \r\nL 27.484375 33.5 \r\nQ 16.453125 35.6875 11.515625 40.375 \r\nQ 6.59375 45.0625 6.59375 53.421875 \r\nQ 6.59375 63.09375 13.40625 68.65625 \r\nQ 20.21875 74.21875 32.171875 74.21875 \r\nQ 37.3125 74.21875 42.625 73.28125 \r\nQ 47.953125 72.359375 53.515625 70.515625 \r\nz\r\n\" id=\"DejaVuSans-83\"/>\r\n       <path d=\"M 48.78125 52.59375 \r\nL 48.78125 44.1875 \r\nQ 44.96875 46.296875 41.140625 47.34375 \r\nQ 37.3125 48.390625 33.40625 48.390625 \r\nQ 24.65625 48.390625 19.8125 42.84375 \r\nQ 14.984375 37.3125 14.984375 27.296875 \r\nQ 14.984375 17.28125 19.8125 11.734375 \r\nQ 24.65625 6.203125 33.40625 6.203125 \r\nQ 37.3125 6.203125 41.140625 7.25 \r\nQ 44.96875 8.296875 48.78125 10.40625 \r\nL 48.78125 2.09375 \r\nQ 45.015625 0.34375 40.984375 -0.53125 \r\nQ 36.96875 -1.421875 32.421875 -1.421875 \r\nQ 20.0625 -1.421875 12.78125 6.34375 \r\nQ 5.515625 14.109375 5.515625 27.296875 \r\nQ 5.515625 40.671875 12.859375 48.328125 \r\nQ 20.21875 56 33.015625 56 \r\nQ 37.15625 56 41.109375 55.140625 \r\nQ 45.0625 54.296875 48.78125 52.59375 \r\nz\r\n\" id=\"DejaVuSans-99\"/>\r\n       <path d=\"M 54.890625 33.015625 \r\nL 54.890625 0 \r\nL 45.90625 0 \r\nL 45.90625 32.71875 \r\nQ 45.90625 40.484375 42.875 44.328125 \r\nQ 39.84375 48.1875 33.796875 48.1875 \r\nQ 26.515625 48.1875 22.3125 43.546875 \r\nQ 18.109375 38.921875 18.109375 30.90625 \r\nL 18.109375 0 \r\nL 9.078125 0 \r\nL 9.078125 75.984375 \r\nL 18.109375 75.984375 \r\nL 18.109375 46.1875 \r\nQ 21.34375 51.125 25.703125 53.5625 \r\nQ 30.078125 56 35.796875 56 \r\nQ 45.21875 56 50.046875 50.171875 \r\nQ 54.890625 44.34375 54.890625 33.015625 \r\nz\r\n\" id=\"DejaVuSans-104\"/>\r\n      </defs>\r\n      <g transform=\"translate(20.878125 52.937892)scale(0.1 -0.1)\">\r\n       <use xlink:href=\"#DejaVuSans-79\"/>\r\n       <use x=\"78.710938\" xlink:href=\"#DejaVuSans-83\"/>\r\n       <use x=\"142.1875\" xlink:href=\"#DejaVuSans-80\"/>\r\n       <use x=\"202.490234\" xlink:href=\"#DejaVuSans-73\"/>\r\n       <use x=\"231.982422\" xlink:href=\"#DejaVuSans-49\"/>\r\n       <use x=\"295.605469\" xlink:href=\"#DejaVuSans-49\"/>\r\n       <use x=\"359.228516\" xlink:href=\"#DejaVuSans-45\"/>\r\n       <use x=\"395.3125\" xlink:href=\"#DejaVuSans-82\"/>\r\n       <use x=\"464.794922\" xlink:href=\"#DejaVuSans-80\"/>\r\n       <use x=\"525.097656\" xlink:href=\"#DejaVuSans-50\"/>\r\n       <use x=\"588.720703\" xlink:href=\"#DejaVuSans-56\"/>\r\n       <use x=\"652.34375\" xlink:href=\"#DejaVuSans-55\"/>\r\n       <use x=\"715.966797\" xlink:href=\"#DejaVuSans-49\"/>\r\n       <use x=\"779.589844\" xlink:href=\"#DejaVuSans-32\"/>\r\n       <use x=\"811.376953\" xlink:href=\"#DejaVuSans-91\"/>\r\n       <use x=\"850.390625\" xlink:href=\"#DejaVuSans-79\"/>\r\n       <use x=\"929.101562\" xlink:href=\"#DejaVuSans-98\"/>\r\n       <use x=\"992.578125\" xlink:href=\"#DejaVuSans-106\"/>\r\n       <use x=\"1020.361328\" xlink:href=\"#DejaVuSans-101\"/>\r\n       <use x=\"1081.884766\" xlink:href=\"#DejaVuSans-116\"/>\r\n       <use x=\"1121.09375\" xlink:href=\"#DejaVuSans-105\"/>\r\n       <use x=\"1148.876953\" xlink:href=\"#DejaVuSans-118\"/>\r\n       <use x=\"1208.056641\" xlink:href=\"#DejaVuSans-111\"/>\r\n       <use x=\"1269.238281\" xlink:href=\"#DejaVuSans-32\"/>\r\n       <use x=\"1301.025391\" xlink:href=\"#DejaVuSans-83\"/>\r\n       <use x=\"1364.501953\" xlink:href=\"#DejaVuSans-116\"/>\r\n       <use x=\"1403.710938\" xlink:href=\"#DejaVuSans-114\"/>\r\n       <use x=\"1444.792969\" xlink:href=\"#DejaVuSans-101\"/>\r\n       <use x=\"1506.316406\" xlink:href=\"#DejaVuSans-116\"/>\r\n       <use x=\"1545.525391\" xlink:href=\"#DejaVuSans-99\"/>\r\n       <use x=\"1600.505859\" xlink:href=\"#DejaVuSans-104\"/>\r\n       <use x=\"1663.884766\" xlink:href=\"#DejaVuSans-93\"/>\r\n      </g>\r\n     </g>\r\n    </g>\r\n    <g id=\"ytick_14\">\r\n     <g id=\"line2d_20\">\r\n      <g>\r\n       <use style=\"stroke:#000000;stroke-width:0.8;\" x=\"198.171875\" xlink:href=\"#m395713c65d\" y=\"35.782408\"/>\r\n      </g>\r\n     </g>\r\n     <g id=\"text_21\">\r\n      <!-- OSPI11-RP2872 [Objetivo Stretch] -->\r\n      <g transform=\"translate(20.878125 39.581627)scale(0.1 -0.1)\">\r\n       <use xlink:href=\"#DejaVuSans-79\"/>\r\n       <use x=\"78.710938\" xlink:href=\"#DejaVuSans-83\"/>\r\n       <use x=\"142.1875\" xlink:href=\"#DejaVuSans-80\"/>\r\n       <use x=\"202.490234\" xlink:href=\"#DejaVuSans-73\"/>\r\n       <use x=\"231.982422\" xlink:href=\"#DejaVuSans-49\"/>\r\n       <use x=\"295.605469\" xlink:href=\"#DejaVuSans-49\"/>\r\n       <use x=\"359.228516\" xlink:href=\"#DejaVuSans-45\"/>\r\n       <use x=\"395.3125\" xlink:href=\"#DejaVuSans-82\"/>\r\n       <use x=\"464.794922\" xlink:href=\"#DejaVuSans-80\"/>\r\n       <use x=\"525.097656\" xlink:href=\"#DejaVuSans-50\"/>\r\n       <use x=\"588.720703\" xlink:href=\"#DejaVuSans-56\"/>\r\n       <use x=\"652.34375\" xlink:href=\"#DejaVuSans-55\"/>\r\n       <use x=\"715.966797\" xlink:href=\"#DejaVuSans-50\"/>\r\n       <use x=\"779.589844\" xlink:href=\"#DejaVuSans-32\"/>\r\n       <use x=\"811.376953\" xlink:href=\"#DejaVuSans-91\"/>\r\n       <use x=\"850.390625\" xlink:href=\"#DejaVuSans-79\"/>\r\n       <use x=\"929.101562\" xlink:href=\"#DejaVuSans-98\"/>\r\n       <use x=\"992.578125\" xlink:href=\"#DejaVuSans-106\"/>\r\n       <use x=\"1020.361328\" xlink:href=\"#DejaVuSans-101\"/>\r\n       <use x=\"1081.884766\" xlink:href=\"#DejaVuSans-116\"/>\r\n       <use x=\"1121.09375\" xlink:href=\"#DejaVuSans-105\"/>\r\n       <use x=\"1148.876953\" xlink:href=\"#DejaVuSans-118\"/>\r\n       <use x=\"1208.056641\" xlink:href=\"#DejaVuSans-111\"/>\r\n       <use x=\"1269.238281\" xlink:href=\"#DejaVuSans-32\"/>\r\n       <use x=\"1301.025391\" xlink:href=\"#DejaVuSans-83\"/>\r\n       <use x=\"1364.501953\" xlink:href=\"#DejaVuSans-116\"/>\r\n       <use x=\"1403.710938\" xlink:href=\"#DejaVuSans-114\"/>\r\n       <use x=\"1444.792969\" xlink:href=\"#DejaVuSans-101\"/>\r\n       <use x=\"1506.316406\" xlink:href=\"#DejaVuSans-116\"/>\r\n       <use x=\"1545.525391\" xlink:href=\"#DejaVuSans-99\"/>\r\n       <use x=\"1600.505859\" xlink:href=\"#DejaVuSans-104\"/>\r\n       <use x=\"1663.884766\" xlink:href=\"#DejaVuSans-93\"/>\r\n      </g>\r\n     </g>\r\n    </g>\r\n    <g id=\"ytick_15\">\r\n     <g id=\"line2d_21\">\r\n      <g>\r\n       <use style=\"stroke:#000000;stroke-width:0.8;\" x=\"198.171875\" xlink:href=\"#m395713c65d\" y=\"22.426143\"/>\r\n      </g>\r\n     </g>\r\n     <g id=\"text_22\">\r\n      <!-- OSPI11-RP2873 [Objetivo Stretch] -->\r\n      <g transform=\"translate(20.878125 26.225361)scale(0.1 -0.1)\">\r\n       <use xlink:href=\"#DejaVuSans-79\"/>\r\n       <use x=\"78.710938\" xlink:href=\"#DejaVuSans-83\"/>\r\n       <use x=\"142.1875\" xlink:href=\"#DejaVuSans-80\"/>\r\n       <use x=\"202.490234\" xlink:href=\"#DejaVuSans-73\"/>\r\n       <use x=\"231.982422\" xlink:href=\"#DejaVuSans-49\"/>\r\n       <use x=\"295.605469\" xlink:href=\"#DejaVuSans-49\"/>\r\n       <use x=\"359.228516\" xlink:href=\"#DejaVuSans-45\"/>\r\n       <use x=\"395.3125\" xlink:href=\"#DejaVuSans-82\"/>\r\n       <use x=\"464.794922\" xlink:href=\"#DejaVuSans-80\"/>\r\n       <use x=\"525.097656\" xlink:href=\"#DejaVuSans-50\"/>\r\n       <use x=\"588.720703\" xlink:href=\"#DejaVuSans-56\"/>\r\n       <use x=\"652.34375\" xlink:href=\"#DejaVuSans-55\"/>\r\n       <use x=\"715.966797\" xlink:href=\"#DejaVuSans-51\"/>\r\n       <use x=\"779.589844\" xlink:href=\"#DejaVuSans-32\"/>\r\n       <use x=\"811.376953\" xlink:href=\"#DejaVuSans-91\"/>\r\n       <use x=\"850.390625\" xlink:href=\"#DejaVuSans-79\"/>\r\n       <use x=\"929.101562\" xlink:href=\"#DejaVuSans-98\"/>\r\n       <use x=\"992.578125\" xlink:href=\"#DejaVuSans-106\"/>\r\n       <use x=\"1020.361328\" xlink:href=\"#DejaVuSans-101\"/>\r\n       <use x=\"1081.884766\" xlink:href=\"#DejaVuSans-116\"/>\r\n       <use x=\"1121.09375\" xlink:href=\"#DejaVuSans-105\"/>\r\n       <use x=\"1148.876953\" xlink:href=\"#DejaVuSans-118\"/>\r\n       <use x=\"1208.056641\" xlink:href=\"#DejaVuSans-111\"/>\r\n       <use x=\"1269.238281\" xlink:href=\"#DejaVuSans-32\"/>\r\n       <use x=\"1301.025391\" xlink:href=\"#DejaVuSans-83\"/>\r\n       <use x=\"1364.501953\" xlink:href=\"#DejaVuSans-116\"/>\r\n       <use x=\"1403.710938\" xlink:href=\"#DejaVuSans-114\"/>\r\n       <use x=\"1444.792969\" xlink:href=\"#DejaVuSans-101\"/>\r\n       <use x=\"1506.316406\" xlink:href=\"#DejaVuSans-116\"/>\r\n       <use x=\"1545.525391\" xlink:href=\"#DejaVuSans-99\"/>\r\n       <use x=\"1600.505859\" xlink:href=\"#DejaVuSans-104\"/>\r\n       <use x=\"1663.884766\" xlink:href=\"#DejaVuSans-93\"/>\r\n      </g>\r\n     </g>\r\n    </g>\r\n    <g id=\"text_23\">\r\n     <!-- Objetivos -->\r\n     <g transform=\"translate(14.798437 139.468437)rotate(-90)scale(0.1 -0.1)\">\r\n      <use xlink:href=\"#DejaVuSans-79\"/>\r\n      <use x=\"78.710938\" xlink:href=\"#DejaVuSans-98\"/>\r\n      <use x=\"142.1875\" xlink:href=\"#DejaVuSans-106\"/>\r\n      <use x=\"169.970703\" xlink:href=\"#DejaVuSans-101\"/>\r\n      <use x=\"231.494141\" xlink:href=\"#DejaVuSans-116\"/>\r\n      <use x=\"270.703125\" xlink:href=\"#DejaVuSans-105\"/>\r\n      <use x=\"298.486328\" xlink:href=\"#DejaVuSans-118\"/>\r\n      <use x=\"357.666016\" xlink:href=\"#DejaVuSans-111\"/>\r\n      <use x=\"418.847656\" xlink:href=\"#DejaVuSans-115\"/>\r\n     </g>\r\n    </g>\r\n   </g>\r\n   <g id=\"patch_33\">\r\n    <path d=\"M 198.171875 224.64 \r\nL 198.171875 7.2 \r\n\" style=\"fill:none;stroke:#000000;stroke-linecap:square;stroke-linejoin:miter;stroke-width:0.8;\"/>\r\n   </g>\r\n   <g id=\"patch_34\">\r\n    <path d=\"M 532.971875 224.64 \r\nL 532.971875 7.2 \r\n\" style=\"fill:none;stroke:#000000;stroke-linecap:square;stroke-linejoin:miter;stroke-width:0.8;\"/>\r\n   </g>\r\n   <g id=\"patch_35\">\r\n    <path d=\"M 198.171875 224.64 \r\nL 532.971875 224.64 \r\n\" style=\"fill:none;stroke:#000000;stroke-linecap:square;stroke-linejoin:miter;stroke-width:0.8;\"/>\r\n   </g>\r\n   <g id=\"patch_36\">\r\n    <path d=\"M 198.171875 7.2 \r\nL 532.971875 7.2 \r\n\" style=\"fill:none;stroke:#000000;stroke-linecap:square;stroke-linejoin:miter;stroke-width:0.8;\"/>\r\n   </g>\r\n  </g>\r\n </g>\r\n <defs>\r\n  <clipPath id=\"p6fd94c3d1e\">\r\n   <rect height=\"217.44\" width=\"334.8\" x=\"198.171875\" y=\"7.2\"/>\r\n  </clipPath>\r\n </defs>\r\n</svg>\r\n",
      "image/png": "[encoded data removed]"
     },
     "metadata": {
      "needs_background": "light"
     }
    }
   ],
   "source": [
    "#Lista_US_FTR_OBJ.columns\n",
    "\n",
    "#dataframe dos objetivos com objetivosXfeatures\n",
    "df_grf_Objetivos_A = pd.merge(  df_objetivos[[\"Codigo\",\"Nome\",\"Tipo\"]],\n",
    "                                Lista_US_FTR_OBJ[[\"Codigo_Objetivo\",\"Codigo_UserStories\"]].groupby(['Codigo_Objetivo']).count(),\n",
    "                                left_on='Codigo', \n",
    "                                right_on='Codigo_Objetivo',\n",
    "                                how='left')\n",
    "\n",
    "df_grf_Objetivos_A.rename(columns = {'Codigo_UserStories' : 'Total_Stories'}, inplace = True) #renomeia coluna\n",
    "\n",
    "#dataframe com os objetivos a serem utilizados na geração do gráfico\n",
    "df_grf_Objetivos = pd.merge(  df_grf_Objetivos_A,\n",
    "                              Lista_US_FTR_OBJ[[\"Codigo_Objetivo\",\"Codigo_UserStories\"]][(Lista_US_FTR_OBJ['Status_UserStories'] == \"Accepted\")].groupby(['Codigo_Objetivo']).count(),\n",
    "                                left_on='Codigo', \n",
    "                                right_on='Codigo_Objetivo',\n",
    "                                how='left')\n",
    "\n",
    "df_grf_Objetivos.rename(columns = {'Codigo_UserStories' : 'Total_Stories_Entregues'}, inplace = True) #renomeia coluna\n",
    "\n",
    "df_grf_Objetivos['Total_Stories'].fillna(0, inplace = True)\n",
    "df_grf_Objetivos['Total_Stories_Entregues'].fillna(0, inplace = True)\n",
    "\n",
    "Objetivos = df_grf_Objetivos[\"Codigo\"]+\" [\"+df_grf_Objetivos[\"Tipo\"]+\"]\"\n",
    "TotalStories = df_grf_Objetivos[\"Total_Stories\"]\n",
    "TotalStoriesEntregues = df_grf_Objetivos[\"Total_Stories_Entregues\"]\n",
    "\n",
    "plt.barh(Objetivos,TotalStories) \n",
    "plt.barh(Objetivos,TotalStoriesEntregues) \n",
    "#plt.yticks(rotation=45)\n",
    "plt.title = 'Objetivos '+v_pi\n",
    "plt.ylabel('Objetivos')\n",
    "plt.xlabel('Quantidade de Histórias')\n",
    "bar_larg = 0.4\n",
    "transp = 0.7\n",
    "#plt.legend()\n",
    "plt.show()"
   ]
  },
  {
   "cell_type": "code",
   "execution_count": 116,
   "metadata": {},
   "outputs": [
    {
     "output_type": "execute_result",
     "data": {
      "text/plain": "           Codigo                                               Nome  \\\n0   OPPI11-RP2859  Implementar integração de “Planos de Aulas TOT...   \n1   OPPI11-RP2860  Acompanhar o Treinamento e Operação Assistida ...   \n2   OPPI11-RP2861  Implementar recursos de segurança e interfaces...   \n3   OPPI11-RP2862  Mapeamento dos ambientes de produção e das int...   \n4   OPPI11-RP2863  Analisar e corrigir as inconsistências atualme...   \n5   OPPI11-RP2864  Reconhecimento de Vendas do ano de 2019 do Sig...   \n6   OPPI11-RP2865       REORG do SigaLoja para o Colégio Lato Sensu.   \n7   OPPI11-RP2866                        Upgrade de versão SigaLoja.   \n8   OPPI11-RP2867  Acompanhar o levantamento do backoffice e faze...   \n9   OPPI11-RP2868  Exploratória para Imersão do Processo de Venda...   \n10  OPPI11-RP2869  Integração CELV: Desenvolvimento de testes uni...   \n11  OPPI11-RP2870  REORG Sigaloja: Desenvolvimento de testes unit...   \n12  OSPI11-RP2871                          Exploratória do TOTVS PDV   \n13  OSPI11-RP2872  Exploratória do TOTVS Portal RM para a realiza...   \n14  OSPI11-RP2873  Acompanhamento do inventário das escolas selec...   \n\n                Tipo  Total_Stories  Total_Stories_Entregues  \n0     Objetivo da PI              8                      2.0  \n1     Objetivo da PI             13                      3.0  \n2     Objetivo da PI              6                      2.0  \n3     Objetivo da PI              8                      3.0  \n4     Objetivo da PI             25                      7.0  \n5     Objetivo da PI              3                      0.0  \n6     Objetivo da PI              1                      0.0  \n7     Objetivo da PI              5                      0.0  \n8     Objetivo da PI              3                      0.0  \n9     Objetivo da PI              5                      1.0  \n10    Objetivo da PI              1                      0.0  \n11    Objetivo da PI              1                      0.0  \n12  Objetivo Stretch              1                      0.0  \n13  Objetivo Stretch              1                      0.0  \n14  Objetivo Stretch              2                      0.0  ",
      "text/html": "<div>\n<style scoped>\n    .dataframe tbody tr th:only-of-type {\n        vertical-align: middle;\n    }\n\n    .dataframe tbody tr th {\n        vertical-align: top;\n    }\n\n    .dataframe thead th {\n        text-align: right;\n    }\n</style>\n<table border=\"1\" class=\"dataframe\">\n  <thead>\n    <tr style=\"text-align: right;\">\n      <th></th>\n      <th>Codigo</th>\n      <th>Nome</th>\n      <th>Tipo</th>\n      <th>Total_Stories</th>\n      <th>Total_Stories_Entregues</th>\n    </tr>\n  </thead>\n  <tbody>\n    <tr>\n      <th>0</th>\n      <td>OPPI11-RP2859</td>\n      <td>Implementar integração de “Planos de Aulas TOT...</td>\n      <td>Objetivo da PI</td>\n      <td>8</td>\n      <td>2.0</td>\n    </tr>\n    <tr>\n      <th>1</th>\n      <td>OPPI11-RP2860</td>\n      <td>Acompanhar o Treinamento e Operação Assistida ...</td>\n      <td>Objetivo da PI</td>\n      <td>13</td>\n      <td>3.0</td>\n    </tr>\n    <tr>\n      <th>2</th>\n      <td>OPPI11-RP2861</td>\n      <td>Implementar recursos de segurança e interfaces...</td>\n      <td>Objetivo da PI</td>\n      <td>6</td>\n      <td>2.0</td>\n    </tr>\n    <tr>\n      <th>3</th>\n      <td>OPPI11-RP2862</td>\n      <td>Mapeamento dos ambientes de produção e das int...</td>\n      <td>Objetivo da PI</td>\n      <td>8</td>\n      <td>3.0</td>\n    </tr>\n    <tr>\n      <th>4</th>\n      <td>OPPI11-RP2863</td>\n      <td>Analisar e corrigir as inconsistências atualme...</td>\n      <td>Objetivo da PI</td>\n      <td>25</td>\n      <td>7.0</td>\n    </tr>\n    <tr>\n      <th>5</th>\n      <td>OPPI11-RP2864</td>\n      <td>Reconhecimento de Vendas do ano de 2019 do Sig...</td>\n      <td>Objetivo da PI</td>\n      <td>3</td>\n      <td>0.0</td>\n    </tr>\n    <tr>\n      <th>6</th>\n      <td>OPPI11-RP2865</td>\n      <td>REORG do SigaLoja para o Colégio Lato Sensu.</td>\n      <td>Objetivo da PI</td>\n      <td>1</td>\n      <td>0.0</td>\n    </tr>\n    <tr>\n      <th>7</th>\n      <td>OPPI11-RP2866</td>\n      <td>Upgrade de versão SigaLoja.</td>\n      <td>Objetivo da PI</td>\n      <td>5</td>\n      <td>0.0</td>\n    </tr>\n    <tr>\n      <th>8</th>\n      <td>OPPI11-RP2867</td>\n      <td>Acompanhar o levantamento do backoffice e faze...</td>\n      <td>Objetivo da PI</td>\n      <td>3</td>\n      <td>0.0</td>\n    </tr>\n    <tr>\n      <th>9</th>\n      <td>OPPI11-RP2868</td>\n      <td>Exploratória para Imersão do Processo de Venda...</td>\n      <td>Objetivo da PI</td>\n      <td>5</td>\n      <td>1.0</td>\n    </tr>\n    <tr>\n      <th>10</th>\n      <td>OPPI11-RP2869</td>\n      <td>Integração CELV: Desenvolvimento de testes uni...</td>\n      <td>Objetivo da PI</td>\n      <td>1</td>\n      <td>0.0</td>\n    </tr>\n    <tr>\n      <th>11</th>\n      <td>OPPI11-RP2870</td>\n      <td>REORG Sigaloja: Desenvolvimento de testes unit...</td>\n      <td>Objetivo da PI</td>\n      <td>1</td>\n      <td>0.0</td>\n    </tr>\n    <tr>\n      <th>12</th>\n      <td>OSPI11-RP2871</td>\n      <td>Exploratória do TOTVS PDV</td>\n      <td>Objetivo Stretch</td>\n      <td>1</td>\n      <td>0.0</td>\n    </tr>\n    <tr>\n      <th>13</th>\n      <td>OSPI11-RP2872</td>\n      <td>Exploratória do TOTVS Portal RM para a realiza...</td>\n      <td>Objetivo Stretch</td>\n      <td>1</td>\n      <td>0.0</td>\n    </tr>\n    <tr>\n      <th>14</th>\n      <td>OSPI11-RP2873</td>\n      <td>Acompanhamento do inventário das escolas selec...</td>\n      <td>Objetivo Stretch</td>\n      <td>2</td>\n      <td>0.0</td>\n    </tr>\n  </tbody>\n</table>\n</div>"
     },
     "metadata": {},
     "execution_count": 116
    }
   ],
   "source": [
    "df_grf_Objetivos"
   ]
  }
 ],
 "metadata": {
  "language_info": {
   "codemirror_mode": {
    "name": "ipython",
    "version": 3
   },
   "file_extension": ".py",
   "mimetype": "text/x-python",
   "name": "python",
   "nbconvert_exporter": "python",
   "pygments_lexer": "ipython3",
   "version": "3.7.6-final"
  },
  "orig_nbformat": 2,
  "kernelspec": {
   "name": "python3",
   "display_name": "Python 3"
  }
 },
 "nbformat": 4,
 "nbformat_minor": 2
}