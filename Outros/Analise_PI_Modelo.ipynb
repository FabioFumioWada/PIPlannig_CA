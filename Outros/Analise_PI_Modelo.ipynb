{
 "cells": [
  {
   "cell_type": "code",
   "execution_count": 2,
   "metadata": {},
   "outputs": [
    {
     "ename": "NameError",
     "evalue": "name 'fn_obj_listagem' is not defined",
     "output_type": "error",
     "traceback": [
      "\u001b[1;31m---------------------------------------------------------------------------\u001b[0m",
      "\u001b[1;31mNameError\u001b[0m                                 Traceback (most recent call last)",
      "\u001b[1;32m<ipython-input-2-0c08077050ea>\u001b[0m in \u001b[0;36m<module>\u001b[1;34m\u001b[0m\n\u001b[0;32m     13\u001b[0m \u001b[1;31m# fn_obj_listagem(v_pi) / fn_obj_listagem('PI09')\u001b[0m\u001b[1;33m\u001b[0m\u001b[1;33m\u001b[0m\u001b[1;33m\u001b[0m\u001b[0m\n\u001b[0;32m     14\u001b[0m \u001b[1;33m\u001b[0m\u001b[0m\n\u001b[1;32m---> 15\u001b[1;33m \u001b[0mfn_obj_listagem\u001b[0m\u001b[1;33m(\u001b[0m\u001b[1;34m'PI09'\u001b[0m\u001b[1;33m)\u001b[0m\u001b[1;33m\u001b[0m\u001b[1;33m\u001b[0m\u001b[0m\n\u001b[0m\u001b[0;32m     16\u001b[0m \u001b[1;33m\u001b[0m\u001b[0m\n\u001b[0;32m     17\u001b[0m \u001b[1;31m# %% -----> [Feature] - Listagem\\Lista Features\u001b[0m\u001b[1;33m\u001b[0m\u001b[1;33m\u001b[0m\u001b[1;33m\u001b[0m\u001b[0m\n",
      "\u001b[1;31mNameError\u001b[0m: name 'fn_obj_listagem' is not defined"
     ]
    }
   ],
   "source": [
    "#%% [Gera Informações da PI Planning]\n",
    "\n",
    "#######################################################################################\n",
    "#######################################################################################\n",
    "##                  Gera Informações da PI Planning - PI/CA                          ##\n",
    "##                                                                                   ##\n",
    "## Desenvolvido por: Fábio Fumio Wada                                                ##\n",
    "#######################################################################################\n",
    "#######################################################################################\n",
    "\n",
    "\n",
    "# %% -----> [Objetivos] - Lista Objetivos\n",
    "# fn_obj_listagem(v_pi) / fn_obj_listagem('PI09')\n",
    "\n",
    "fn_obj_listagem('PI09')\n",
    "\n",
    "# %% -----> [Feature] - Listagem\\Lista Features\n",
    "#    Parâmetros:    \"O\" - Somente Objetivos (Sem Objetivos Stretch) \n",
    "#                   \"S\" - Somente Objetivos Stretch\n",
    "#                   \"F\" - Todos os Objetivos\n",
    "# fn_ftr_listagem(v_pi,v_opcao) / fn_ftr_listagem('PI09','F')\n",
    "\n",
    "#fn_ftr_listagem('PI09','F')\n",
    "\n",
    "# %% -----> [Feature] - Soma Features\n",
    "# fn_ftr_quantidade(v_pi)\n",
    "\n",
    "#fn_ftr_quantidade('PI09') #detalhamento dos erros podem ser obtidos com a funçao \"fn_ftr_erros\"\n",
    "\n",
    "# %% -----> - [Feature] - Lista Erros Cadastrais\n",
    "# Ex: 1) Feature sem um objetivo da \"PI\" vinculado. Ex: PI09 é oficial e possui objetivo da PI08\n",
    "#     2) Feature sem objetivo\n",
    "# fn_ftr_erros(v_pi) / fn_ftr_erros('PI09')\n",
    "\n",
    "#fn_ftr_erros('PI09')\n",
    "\n",
    "# %%\n",
    "#df_objetivos.head()\n",
    "\n",
    "# %%\n"
   ]
  },
  {
   "cell_type": "code",
   "execution_count": null,
   "metadata": {},
   "outputs": [],
   "source": []
  },
  {
   "cell_type": "code",
   "execution_count": null,
   "metadata": {},
   "outputs": [],
   "source": []
  }
 ],
 "metadata": {
  "file_extension": ".py",
  "kernelspec": {
   "display_name": "Python 3",
   "language": "python",
   "name": "python3"
  },
  "language_info": {
   "codemirror_mode": {
    "name": "ipython",
    "version": 3
   },
   "file_extension": ".py",
   "mimetype": "text/x-python",
   "name": "python",
   "nbconvert_exporter": "python",
   "pygments_lexer": "ipython3",
   "version": "3.7.4"
  },
  "mimetype": "text/x-python",
  "name": "python",
  "npconvert_exporter": "python",
  "pygments_lexer": "ipython3",
  "version": 3
 },
 "nbformat": 4,
 "nbformat_minor": 2
}
